{
  "nbformat": 4,
  "nbformat_minor": 0,
  "metadata": {
    "colab": {
      "name": "ann_classification.ipynb",
      "provenance": [],
      "collapsed_sections": [
        "FAjhMCNuXgD3",
        "yzNaCkq8XIEm",
        "5Wi1j84IZldb",
        "wRk23KN0Z_L8"
      ],
      "toc_visible": true,
      "include_colab_link": true
    },
    "kernelspec": {
      "name": "python3",
      "display_name": "Python 3"
    },
    "accelerator": "GPU"
  },
  "cells": [
    {
      "cell_type": "markdown",
      "metadata": {
        "id": "view-in-github",
        "colab_type": "text"
      },
      "source": [
        "<a href=\"https://colab.research.google.com/github/FraGoTe/redes-neuronales/blob/master/IncumplimientoTarjetasCredito.ipynb\" target=\"_parent\"><img src=\"https://colab.research.google.com/assets/colab-badge.svg\" alt=\"Open In Colab\"/></a>"
      ]
    },
    {
      "cell_type": "markdown",
      "metadata": {
        "id": "eyUhcF61WImH",
        "colab_type": "text"
      },
      "source": [
        "## REDES NEURONALES ARTIFICIALES"
      ]
    },
    {
      "cell_type": "markdown",
      "metadata": {
        "id": "2wPe_qWFHPm8",
        "colab_type": "text"
      },
      "source": [
        ""
      ]
    },
    {
      "cell_type": "markdown",
      "metadata": {
        "id": "fHNy9zESXwk5",
        "colab_type": "text"
      },
      "source": [
        "\n",
        "##Carga de datos\n",
        "---"
      ]
    },
    {
      "cell_type": "markdown",
      "metadata": {
        "id": "MEj9ojRcWfki",
        "colab_type": "text"
      },
      "source": [
        "Mostrando lista de archivos:"
      ]
    },
    {
      "cell_type": "code",
      "metadata": {
        "id": "-8NN__fMWgXh",
        "colab_type": "code",
        "outputId": "c0759d4e-5b28-487b-8f08-19456f24ac1d",
        "colab": {
          "base_uri": "https://localhost:8080/",
          "height": 544
        }
      },
      "source": [
        "%%bash\n",
        "if [ ! -f \"clientes_data.csv\" ]; then\n",
        "    wget www.fragote.com/data/clientes_data.csv\n",
        "fi\n",
        "\n",
        "ls -l "
      ],
      "execution_count": 0,
      "outputs": [
        {
          "output_type": "stream",
          "text": [
            "total 676\n",
            "-rw-r--r-- 1 root root 684866 Sep 28 21:10 clientes_data.csv\n",
            "drwxr-xr-x 1 root root   4096 Nov  6 16:17 sample_data\n"
          ],
          "name": "stdout"
        },
        {
          "output_type": "stream",
          "text": [
            "--2019-11-09 17:54:48--  http://www.fragote.com/data/clientes_data.csv\n",
            "Resolving www.fragote.com (www.fragote.com)... 174.142.207.107\n",
            "Connecting to www.fragote.com (www.fragote.com)|174.142.207.107|:80... connected.\n",
            "HTTP request sent, awaiting response... 301 Moved Permanently\n",
            "Location: https://www.fragote.com/data/clientes_data.csv [following]\n",
            "--2019-11-09 17:54:49--  https://www.fragote.com/data/clientes_data.csv\n",
            "Connecting to www.fragote.com (www.fragote.com)|174.142.207.107|:443... connected.\n",
            "HTTP request sent, awaiting response... 200 OK\n",
            "Length: 684866 (669K) [text/csv]\n",
            "Saving to: ‘clientes_data.csv’\n",
            "\n",
            "     0K .......... .......... .......... .......... ..........  7%  920K 1s\n",
            "    50K .......... .......... .......... .......... .......... 14% 1.93M 0s\n",
            "   100K .......... .......... .......... .......... .......... 22% 11.5M 0s\n",
            "   150K .......... .......... .......... .......... .......... 29% 2.30M 0s\n",
            "   200K .......... .......... .......... .......... .......... 37% 11.3M 0s\n",
            "   250K .......... .......... .......... .......... .......... 44% 11.7M 0s\n",
            "   300K .......... .......... .......... .......... .......... 52% 11.1M 0s\n",
            "   350K .......... .......... .......... .......... .......... 59% 11.7M 0s\n",
            "   400K .......... .......... .......... .......... .......... 67% 3.82M 0s\n",
            "   450K .......... .......... .......... .......... .......... 74% 11.6M 0s\n",
            "   500K .......... .......... .......... .......... .......... 82% 11.7M 0s\n",
            "   550K .......... .......... .......... .......... .......... 89% 11.5M 0s\n",
            "   600K .......... .......... .......... .......... .......... 97% 10.6M 0s\n",
            "   650K .......... ........                                   100% 17.1M=0.2s\n",
            "\n",
            "2019-11-09 17:54:49 (4.26 MB/s) - ‘clientes_data.csv’ saved [684866/684866]\n",
            "\n"
          ],
          "name": "stderr"
        }
      ]
    },
    {
      "cell_type": "markdown",
      "metadata": {
        "id": "FAjhMCNuXgD3",
        "colab_type": "text"
      },
      "source": [
        "##Funciones necesarias\n",
        "---"
      ]
    },
    {
      "cell_type": "code",
      "metadata": {
        "id": "RdEyMyC_YIPY",
        "colab_type": "code",
        "outputId": "eea4ce40-1f89-4db3-eb03-67c864029414",
        "colab": {
          "base_uri": "https://localhost:8080/",
          "height": 71
        }
      },
      "source": [
        "# Funciones\n",
        "\n",
        "import numpy as np\n",
        "\n",
        "from sklearn.metrics import confusion_matrix\n",
        "from sklearn.utils.multiclass import unique_labels\n",
        "from sklearn.externals import joblib\n",
        "\n",
        "import seaborn as sns\n",
        "import matplotlib.pyplot as plt\n",
        "\n",
        "def plot_confusion_matrix(y_true, y_pred,\n",
        "                          normalize=False,\n",
        "                          title=None):\n",
        "    \"\"\"\n",
        "    Esta función imprime y traza la matriz de confusión.\n",
        "     La normalización se puede aplicar configurando `normalize=True`.\n",
        "    \"\"\"\n",
        "    if not title:\n",
        "        if normalize:\n",
        "            title = 'Matriz de Confusión Normalizada'\n",
        "        else:\n",
        "            title = 'Matriz de Confusión sin Normalizar'\n",
        "\n",
        "    # Calculando la Matriz de Confusion\n",
        "    cm = confusion_matrix(y_true, y_pred)\n",
        "    # solo usar las etiquetas que se tienen en la data\n",
        "    classes = unique_labels(y_true, y_pred)\n",
        "    if normalize:\n",
        "        cm = cm.astype('float') / cm.sum(axis=1)[:, np.newaxis]\n",
        "        print(\"Matriz de Confusión Normalizada\")\n",
        "    else:\n",
        "        print('Matriz de Confusión sin Normalizar')\n",
        "\n",
        "    print(cm)\n",
        "\n",
        "    fig, ax = plt.subplots()\n",
        "    im = ax.imshow(cm, interpolation='nearest', cmap=plt.cm.Blues)\n",
        "    ax.figure.colorbar(im, ax=ax)\n",
        "    ax.grid(linewidth=.0)\n",
        "    # Queremos mostrar todos los puntos...\n",
        "    ax.set(xticks=np.arange(cm.shape[1]),\n",
        "           yticks=np.arange(cm.shape[0]),\n",
        "           # ... etiquetando la lista de datos\n",
        "           xticklabels=classes, yticklabels=classes,\n",
        "           title=title,\n",
        "           ylabel='True label',\n",
        "           xlabel='Predicted label')\n",
        "\n",
        "    # rotando las etiquedas de los puntos.\n",
        "    plt.setp(ax.get_xticklabels(), rotation=45, ha=\"right\",rotation_mode=\"anchor\")\n",
        "\n",
        "    # Loop over data dimensions and create text annotations.\n",
        "    fmt = '.2f' if normalize else 'd'\n",
        "    thresh = cm.max() / 2.\n",
        "    for i in range(cm.shape[0]):\n",
        "        for j in range(cm.shape[1]):\n",
        "            ax.text(j, i, format(cm[i, j], fmt),\n",
        "                    ha=\"center\", va=\"center\",\n",
        "                    color=\"white\" if cm[i, j] > thresh else \"black\")\n",
        "    fig.tight_layout()\n",
        "    plt.show()\n",
        "    return ax\n",
        "\n",
        "def saveFile(object_to_save, scaler_filename):\n",
        "    joblib.dump(object_to_save, scaler_filename)\n",
        "\n",
        "def loadFile(scaler_filename):\n",
        "    return joblib.load(scaler_filename)\n",
        "\n",
        "def plotHistogram(dataset_final):\n",
        "    dataset_final.hist(figsize=(20,14), edgecolor=\"black\", bins=40)\n",
        "    plt.show()\n",
        "\n",
        "def plotCorrelations(dataset_final):\n",
        "    fig, ax = plt.subplots(figsize=(10,8))   # size in inches\n",
        "    g = sns.heatmap(dataset_final.corr(), annot=True, cmap=\"YlGnBu\", ax=ax)\n",
        "    g.set_yticklabels(g.get_yticklabels(), rotation = 0)\n",
        "    g.set_xticklabels(g.get_xticklabels(), rotation = 45)\n",
        "    fig.tight_layout()\n",
        "    plt.show()\n"
      ],
      "execution_count": 0,
      "outputs": [
        {
          "output_type": "stream",
          "text": [
            "/usr/local/lib/python3.6/dist-packages/sklearn/externals/joblib/__init__.py:15: DeprecationWarning: sklearn.externals.joblib is deprecated in 0.21 and will be removed in 0.23. Please import this functionality directly from joblib, which can be installed with: pip install joblib. If this warning is raised when loading pickled models, you may need to re-serialize those models with scikit-learn 0.21+.\n",
            "  warnings.warn(msg, category=DeprecationWarning)\n"
          ],
          "name": "stderr"
        }
      ]
    },
    {
      "cell_type": "markdown",
      "metadata": {
        "id": "yzNaCkq8XIEm",
        "colab_type": "text"
      },
      "source": [
        "\n",
        " ## PARTE I - PREPROCESAMIENTO DE DATOS\n",
        "---\n"
      ]
    },
    {
      "cell_type": "code",
      "metadata": {
        "id": "q5HGp2W-XSkX",
        "colab_type": "code",
        "outputId": "9dd05b4a-79e2-47da-8c2e-ec2029477305",
        "colab": {
          "base_uri": "https://localhost:8080/",
          "height": 816
        }
      },
      "source": [
        "# Importando librerías\n",
        "import pandas as pd\n",
        "import numpy as np\n",
        "from sklearn.preprocessing import LabelEncoder\n",
        "from sklearn.preprocessing import StandardScaler\n",
        "from sklearn.model_selection import train_test_split\n",
        "\n",
        "# Importando Datasets\n",
        "dataset_csv = pd.read_csv('clientes_data.csv')\n",
        "\n",
        "# Columnas de la data\n",
        "print (\"\\nColumnas del DataSet: \")\n",
        "print (dataset_csv.columns)\n",
        "\n",
        "# Describir la data original\n",
        "print (\"\\nDataset original:\\n\", dataset_csv.describe(include='all'))\n",
        "\n",
        "# Dataset reducido\n",
        "dataset = dataset_csv.iloc[:,3:14]\n",
        "dataset_columns = dataset.columns\n",
        "dataset_values = dataset.values\n",
        "\n",
        "# Describir la data truncada\n",
        "print (\"\\nDataset reducido: \")\n",
        "print(\"\\n\",dataset.head())\n",
        "\n",
        "# Revisamos los tipos de datos de las Columnas\n",
        "print (\"\\nTipos de Columnas del Dataset: \")\n",
        "print(dataset.dtypes)"
      ],
      "execution_count": 0,
      "outputs": [
        {
          "output_type": "stream",
          "text": [
            "\n",
            "Columnas del DataSet: \n",
            "Index(['NumeroFila', 'DNI', 'Apellido', 'ScoreCrediticio', 'Pais', 'Genero',\n",
            "       'edad', 'Tenure', 'Balance', 'NumDeProducts', 'TieneTarjetaCredito',\n",
            "       'EsMiembroActivo', 'SalarioEstimado', 'Abandono'],\n",
            "      dtype='object')\n",
            "\n",
            "Dataset original:\n",
            "          NumeroFila           DNI  ... SalarioEstimado      Abandono\n",
            "count   10000.00000  1.000000e+04  ...    10000.000000  10000.000000\n",
            "unique          NaN           NaN  ...             NaN           NaN\n",
            "top             NaN           NaN  ...             NaN           NaN\n",
            "freq            NaN           NaN  ...             NaN           NaN\n",
            "mean     5000.50000  1.569094e+07  ...   100090.239881      0.203700\n",
            "std      2886.89568  7.193619e+04  ...    57510.492818      0.402769\n",
            "min         1.00000  1.556570e+07  ...       11.580000      0.000000\n",
            "25%      2500.75000  1.562853e+07  ...    51002.110000      0.000000\n",
            "50%      5000.50000  1.569074e+07  ...   100193.915000      0.000000\n",
            "75%      7500.25000  1.575323e+07  ...   149388.247500      0.000000\n",
            "max     10000.00000  1.581569e+07  ...   199992.480000      1.000000\n",
            "\n",
            "[11 rows x 14 columns]\n",
            "\n",
            "Dataset reducido: \n",
            "\n",
            "    ScoreCrediticio    Pais  Genero  ...  EsMiembroActivo  SalarioEstimado  Abandono\n",
            "0              619  France  Female  ...                1        101348.88         1\n",
            "1              608   Spain  Female  ...                1        112542.58         0\n",
            "2              502  France  Female  ...                0        113931.57         1\n",
            "3              699  France  Female  ...                0         93826.63         0\n",
            "4              850   Spain  Female  ...                1         79084.10         0\n",
            "\n",
            "[5 rows x 11 columns]\n",
            "\n",
            "Tipos de Columnas del Dataset: \n",
            "ScoreCrediticio          int64\n",
            "Pais                    object\n",
            "Genero                  object\n",
            "edad                     int64\n",
            "Tenure                   int64\n",
            "Balance                float64\n",
            "NumDeProducts            int64\n",
            "TieneTarjetaCredito      int64\n",
            "EsMiembroActivo          int64\n",
            "SalarioEstimado        float64\n",
            "Abandono                 int64\n",
            "dtype: object\n"
          ],
          "name": "stdout"
        }
      ]
    },
    {
      "cell_type": "markdown",
      "metadata": {
        "id": "qDYQfVtwbQee",
        "colab_type": "text"
      },
      "source": [
        "# Codificando datos categóricos: **Pais** y **Genero** deben ser convertidos a datos numericos\n"
      ]
    },
    {
      "cell_type": "code",
      "metadata": {
        "id": "UbAHUgdwbhPG",
        "colab_type": "code",
        "outputId": "91ba8197-af87-440a-84cb-a04899577ad5",
        "colab": {
          "base_uri": "https://localhost:8080/",
          "height": 170
        }
      },
      "source": [
        "#Codificando datos categóricos:\n",
        "labelEncoder_X_1 = LabelEncoder()\n",
        "dataset_values[:, 1] = labelEncoder_X_1.fit_transform(dataset_values[:, 1])\n",
        "labelEncoder_X_2 = LabelEncoder()\n",
        "dataset_values[:, 2] = labelEncoder_X_2.fit_transform(dataset_values[:, 2])\n",
        "print (\"\\nDataset Categorizado: \\n\", dataset_values)"
      ],
      "execution_count": 0,
      "outputs": [
        {
          "output_type": "stream",
          "text": [
            "\n",
            "Dataset Categorizado: \n",
            " [[619 0 0 ... 1 101348.88 1]\n",
            " [608 2 0 ... 1 112542.58 0]\n",
            " [502 0 0 ... 0 113931.57 1]\n",
            " ...\n",
            " [709 0 0 ... 1 42085.58 1]\n",
            " [772 1 1 ... 0 92888.52 1]\n",
            " [792 0 0 ... 0 38190.78 0]]\n"
          ],
          "name": "stdout"
        }
      ]
    },
    {
      "cell_type": "markdown",
      "metadata": {
        "id": "EtC94NJFbWvD",
        "colab_type": "text"
      },
      "source": [
        "Escalamiento/Normalización de Features (StandardScaler: (x-u)/s): mean = 0 and standard deviation = 1"
      ]
    },
    {
      "cell_type": "code",
      "metadata": {
        "id": "MZV9NGL6bbfy",
        "colab_type": "code",
        "outputId": "b07999c5-e767-4cf1-a77a-3c9e8ed3d576",
        "colab": {
          "base_uri": "https://localhost:8080/",
          "height": 391
        }
      },
      "source": [
        "# Escalamiento/Normalización de Features (StandardScaler: (x-u)/s)\n",
        "stdScaler = StandardScaler()\n",
        "dataset_values[:,0:10] = stdScaler.fit_transform(dataset_values[:,0:10])\n",
        "\n",
        "\n",
        "# Dataset final normalizado\n",
        "dataset_final = pd.DataFrame(dataset_values,columns=dataset_columns, dtype=np.float64)\n",
        "print (\"\\nDataset Final:\")\n",
        "print(dataset_final.describe(include='all'))\n",
        "print(\"\\n\", dataset_final.head())"
      ],
      "execution_count": 0,
      "outputs": [
        {
          "output_type": "stream",
          "text": [
            "\n",
            "Dataset Final:\n",
            "       ScoreCrediticio          Pais  ...  SalarioEstimado      Abandono\n",
            "count     1.000000e+04  1.000000e+04  ...     1.000000e+04  10000.000000\n",
            "mean     -4.870326e-16  5.266676e-16  ...    -1.580958e-17      0.203700\n",
            "std       1.000050e+00  1.000050e+00  ...     1.000050e+00      0.402769\n",
            "min      -3.109504e+00 -9.018862e-01  ...    -1.740268e+00      0.000000\n",
            "25%      -6.883586e-01 -9.018862e-01  ...    -8.535935e-01      0.000000\n",
            "50%       1.522218e-02 -9.018862e-01  ...     1.802807e-03      0.000000\n",
            "75%       6.981094e-01  3.065906e-01  ...     8.572431e-01      0.000000\n",
            "max       2.063884e+00  1.515067e+00  ...     1.737200e+00      1.000000\n",
            "\n",
            "[8 rows x 11 columns]\n",
            "\n",
            "    ScoreCrediticio      Pais  ...  SalarioEstimado  Abandono\n",
            "0        -0.326221 -0.901886  ...         0.021886       1.0\n",
            "1        -0.440036  1.515067  ...         0.216534       0.0\n",
            "2        -1.536794 -0.901886  ...         0.240687       1.0\n",
            "3         0.501521 -0.901886  ...        -0.108918       0.0\n",
            "4         2.063884  1.515067  ...        -0.365276       0.0\n",
            "\n",
            "[5 rows x 11 columns]\n"
          ],
          "name": "stdout"
        }
      ]
    },
    {
      "cell_type": "markdown",
      "metadata": {
        "id": "OZ9cXe5pZEkK",
        "colab_type": "text"
      },
      "source": [
        "Graficando datos:"
      ]
    },
    {
      "cell_type": "code",
      "metadata": {
        "id": "3uE5G5yiZGN7",
        "colab_type": "code",
        "outputId": "bd7b3763-0c77-41e8-9c39-191906d97d77",
        "colab": {
          "base_uri": "https://localhost:8080/",
          "height": 1000
        }
      },
      "source": [
        "# Distribuciones de la data y Correlaciones\n",
        "print(\"\\n Histogramas:\")\n",
        "plotHistogram(dataset_final)\n",
        "\n",
        "print(\"\\n Correlaciones:\")\n",
        "plotCorrelations(dataset_final)"
      ],
      "execution_count": 0,
      "outputs": [
        {
          "output_type": "stream",
          "text": [
            "\n",
            " Histogramas:\n"
          ],
          "name": "stdout"
        },
        {
          "output_type": "display_data",
          "data": {
            "image/png": "[encoded data removed]",
            "text/plain": [
              "<Figure size 1440x1008 with 12 Axes>"
            ]
          },
          "metadata": {
            "tags": []
          }
        },
        {
          "output_type": "stream",
          "text": [
            "\n",
            " Correlaciones:\n"
          ],
          "name": "stdout"
        },
        {
          "output_type": "display_data",
          "data": {
            "image/png": "[encoded data removed]",
            "text/plain": [
              "<Figure size 720x576 with 2 Axes>"
            ]
          },
          "metadata": {
            "tags": []
          }
        }
      ]
    },
    {
      "cell_type": "markdown",
      "metadata": {
        "id": "2d1U-5FXJ7OU",
        "colab_type": "text"
      },
      "source": [
        "Dividiendo data en conjuntos de Entrenamiento y Prueba:\n"
      ]
    },
    {
      "cell_type": "code",
      "metadata": {
        "id": "PuveIiylKCpF",
        "colab_type": "code",
        "colab": {}
      },
      "source": [
        "# Obteniendo valores a procesar\n",
        "X = dataset_final.iloc[:, 0:10].values\n",
        "y = dataset_final.iloc[:, 10].values\n",
        "\n",
        "# Dividiendo el Dataset en sets de Training y Test\n",
        "X_train, X_test, y_train, y_test = train_test_split(X, y, test_size = 0.2, random_state = 0)"
      ],
      "execution_count": 0,
      "outputs": []
    },
    {
      "cell_type": "markdown",
      "metadata": {
        "id": "5Wi1j84IZldb",
        "colab_type": "text"
      },
      "source": [
        "---\n",
        "## PARTE II - CONSTRUYENDO LA RED NEURONAL ARTIFICIAL\n",
        "---"
      ]
    },
    {
      "cell_type": "code",
      "metadata": {
        "id": "HwlyGxY_Ztc4",
        "colab_type": "code",
        "outputId": "e4866ccc-8266-427c-ed64-9e715d9eef8e",
        "colab": {
          "base_uri": "https://localhost:8080/",
          "height": 202
        }
      },
      "source": [
        "# Importando Keras y Tensorflow\n",
        "from keras.models import Sequential\n",
        "from keras.layers import Dense\n",
        "from keras.initializers import RandomUniform\n",
        "\n",
        "# Inicializando la Red Neuronal\n",
        "neural_network = Sequential()\n",
        "\n",
        "# kernel_initializer Define la forma como se asignará los Pesos iniciales Wi\n",
        "initial_weights = RandomUniform(minval = -0.5, maxval = 0.5)\n",
        "\n",
        "# Agregado la Capa de entrada y la primera capa oculta\n",
        "# 10 Neuronas en la capa de entrada y 8 Neuronas en la primera capa oculta\n",
        "neural_network.add(Dense(units = 8, kernel_initializer = initial_weights, activation = 'relu', input_dim = 10))\n",
        "\n",
        "# Agregando capa oculta\n",
        "neural_network.add(Dense(units = 5, kernel_initializer = initial_weights, activation = 'relu'))\n",
        "\n",
        "# Agregando capa oculta\n",
        "neural_network.add(Dense(units = 4, kernel_initializer = initial_weights, activation = 'relu'))\n",
        "\n",
        "# Agregando capa de salida\n",
        "neural_network.add(Dense(units = 1, kernel_initializer = initial_weights, activation = 'sigmoid'))"
      ],
      "execution_count": 0,
      "outputs": [
        {
          "output_type": "stream",
          "text": [
            "Using TensorFlow backend.\n"
          ],
          "name": "stderr"
        },
        {
          "output_type": "display_data",
          "data": {
            "text/html": [
              "<p style=\"color: red;\">\n",
              "The default version of TensorFlow in Colab will soon switch to TensorFlow 2.x.<br>\n",
              "We recommend you <a href=\"https://www.tensorflow.org/guide/migrate\" target=\"_blank\">upgrade</a> now \n",
              "or ensure your notebook will continue to use TensorFlow 1.x via the <code>%tensorflow_version 1.x</code> magic:\n",
              "<a href=\"https://colab.research.google.com/notebooks/tensorflow_version.ipynb\" target=\"_blank\">more info</a>.</p>\n"
            ],
            "text/plain": [
              "<IPython.core.display.HTML object>"
            ]
          },
          "metadata": {
            "tags": []
          }
        },
        {
          "output_type": "stream",
          "text": [
            "WARNING:tensorflow:From /usr/local/lib/python3.6/dist-packages/keras/backend/tensorflow_backend.py:66: The name tf.get_default_graph is deprecated. Please use tf.compat.v1.get_default_graph instead.\n",
            "\n",
            "WARNING:tensorflow:From /usr/local/lib/python3.6/dist-packages/keras/backend/tensorflow_backend.py:541: The name tf.placeholder is deprecated. Please use tf.compat.v1.placeholder instead.\n",
            "\n",
            "WARNING:tensorflow:From /usr/local/lib/python3.6/dist-packages/keras/backend/tensorflow_backend.py:4432: The name tf.random_uniform is deprecated. Please use tf.random.uniform instead.\n",
            "\n"
          ],
          "name": "stdout"
        }
      ]
    },
    {
      "cell_type": "markdown",
      "metadata": {
        "id": "_vtufIOTZwDy",
        "colab_type": "text"
      },
      "source": [
        "Arquitectura de la Red Neuronal Artificial:"
      ]
    },
    {
      "cell_type": "code",
      "metadata": {
        "id": "9YrVSTD0Z0cj",
        "colab_type": "code",
        "outputId": "8e998966-ffa6-449d-9117-78db88bc992a",
        "colab": {
          "base_uri": "https://localhost:8080/",
          "height": 289
        }
      },
      "source": [
        "# Imprimir Arquitectura de la Red\n",
        "neural_network.summary()"
      ],
      "execution_count": 0,
      "outputs": [
        {
          "output_type": "stream",
          "text": [
            "Model: \"sequential_1\"\n",
            "_________________________________________________________________\n",
            "Layer (type)                 Output Shape              Param #   \n",
            "=================================================================\n",
            "dense_1 (Dense)              (None, 8)                 88        \n",
            "_________________________________________________________________\n",
            "dense_2 (Dense)              (None, 5)                 45        \n",
            "_________________________________________________________________\n",
            "dense_3 (Dense)              (None, 4)                 24        \n",
            "_________________________________________________________________\n",
            "dense_4 (Dense)              (None, 1)                 5         \n",
            "=================================================================\n",
            "Total params: 162\n",
            "Trainable params: 162\n",
            "Non-trainable params: 0\n",
            "_________________________________________________________________\n"
          ],
          "name": "stdout"
        }
      ]
    },
    {
      "cell_type": "markdown",
      "metadata": {
        "id": "4LZkSTA6Z4zI",
        "colab_type": "text"
      },
      "source": [
        "Entrenamiento:"
      ]
    },
    {
      "cell_type": "code",
      "metadata": {
        "id": "j1xPCglyZ61i",
        "colab_type": "code",
        "outputId": "199ed666-a6ca-4cb9-9787-9d1620d42631",
        "colab": {
          "base_uri": "https://localhost:8080/",
          "height": 1000
        }
      },
      "source": [
        "# Compilando la Red Neuronal\n",
        "# optimizer: Algoritmo de optimización | binary_crossentropy = 2 Classes\n",
        "# loss: error\n",
        "neural_network.compile(optimizer = 'adam', loss = 'binary_crossentropy', metrics = ['accuracy'])\n",
        "\n",
        "\n",
        "# Entrenamiento\n",
        "neural_network.fit(X_train, y_train, batch_size = 32, epochs = 100)"
      ],
      "execution_count": 0,
      "outputs": [
        {
          "output_type": "stream",
          "text": [
            "WARNING:tensorflow:From /usr/local/lib/python3.6/dist-packages/keras/backend/tensorflow_backend.py:1033: The name tf.assign_add is deprecated. Please use tf.compat.v1.assign_add instead.\n",
            "\n",
            "WARNING:tensorflow:From /usr/local/lib/python3.6/dist-packages/keras/backend/tensorflow_backend.py:1020: The name tf.assign is deprecated. Please use tf.compat.v1.assign instead.\n",
            "\n",
            "WARNING:tensorflow:From /usr/local/lib/python3.6/dist-packages/keras/backend/tensorflow_backend.py:3005: The name tf.Session is deprecated. Please use tf.compat.v1.Session instead.\n",
            "\n",
            "Epoch 1/100\n",
            "WARNING:tensorflow:From /usr/local/lib/python3.6/dist-packages/keras/backend/tensorflow_backend.py:190: The name tf.get_default_session is deprecated. Please use tf.compat.v1.get_default_session instead.\n",
            "\n",
            "WARNING:tensorflow:From /usr/local/lib/python3.6/dist-packages/keras/backend/tensorflow_backend.py:197: The name tf.ConfigProto is deprecated. Please use tf.compat.v1.ConfigProto instead.\n",
            "\n",
            "WARNING:tensorflow:From /usr/local/lib/python3.6/dist-packages/keras/backend/tensorflow_backend.py:207: The name tf.global_variables is deprecated. Please use tf.compat.v1.global_variables instead.\n",
            "\n",
            "WARNING:tensorflow:From /usr/local/lib/python3.6/dist-packages/keras/backend/tensorflow_backend.py:216: The name tf.is_variable_initialized is deprecated. Please use tf.compat.v1.is_variable_initialized instead.\n",
            "\n",
            "WARNING:tensorflow:From /usr/local/lib/python3.6/dist-packages/keras/backend/tensorflow_backend.py:223: The name tf.variables_initializer is deprecated. Please use tf.compat.v1.variables_initializer instead.\n",
            "\n",
            "8000/8000 [==============================] - 7s 832us/step - loss: 0.5679 - acc: 0.7696\n",
            "Epoch 2/100\n",
            "8000/8000 [==============================] - 1s 174us/step - loss: 0.4454 - acc: 0.8071\n",
            "Epoch 3/100\n",
            "8000/8000 [==============================] - 1s 173us/step - loss: 0.4205 - acc: 0.8233\n",
            "Epoch 4/100\n",
            "8000/8000 [==============================] - 1s 171us/step - loss: 0.4033 - acc: 0.8350\n",
            "Epoch 5/100\n",
            "8000/8000 [==============================] - 1s 180us/step - loss: 0.3872 - acc: 0.8442\n",
            "Epoch 6/100\n",
            "8000/8000 [==============================] - 1s 159us/step - loss: 0.3743 - acc: 0.8485\n",
            "Epoch 7/100\n",
            "8000/8000 [==============================] - 1s 162us/step - loss: 0.3659 - acc: 0.8480\n",
            "Epoch 8/100\n",
            "8000/8000 [==============================] - 1s 155us/step - loss: 0.3612 - acc: 0.8498\n",
            "Epoch 9/100\n",
            "8000/8000 [==============================] - 1s 162us/step - loss: 0.3585 - acc: 0.8520\n",
            "Epoch 10/100\n",
            "8000/8000 [==============================] - 1s 168us/step - loss: 0.3564 - acc: 0.8524\n",
            "Epoch 11/100\n",
            "8000/8000 [==============================] - 1s 175us/step - loss: 0.3548 - acc: 0.8538\n",
            "Epoch 12/100\n",
            "8000/8000 [==============================] - 1s 166us/step - loss: 0.3537 - acc: 0.8548\n",
            "Epoch 13/100\n",
            "8000/8000 [==============================] - 1s 173us/step - loss: 0.3531 - acc: 0.8533\n",
            "Epoch 14/100\n",
            "8000/8000 [==============================] - 1s 168us/step - loss: 0.3521 - acc: 0.8556\n",
            "Epoch 15/100\n",
            "8000/8000 [==============================] - 1s 168us/step - loss: 0.3513 - acc: 0.8536\n",
            "Epoch 16/100\n",
            "8000/8000 [==============================] - 1s 175us/step - loss: 0.3510 - acc: 0.8551\n",
            "Epoch 17/100\n",
            "8000/8000 [==============================] - 1s 160us/step - loss: 0.3497 - acc: 0.8561\n",
            "Epoch 18/100\n",
            "8000/8000 [==============================] - 1s 167us/step - loss: 0.3493 - acc: 0.8553\n",
            "Epoch 19/100\n",
            "8000/8000 [==============================] - 1s 157us/step - loss: 0.3491 - acc: 0.8562\n",
            "Epoch 20/100\n",
            "8000/8000 [==============================] - 1s 154us/step - loss: 0.3477 - acc: 0.8559\n",
            "Epoch 21/100\n",
            "8000/8000 [==============================] - 1s 178us/step - loss: 0.3474 - acc: 0.8562\n",
            "Epoch 22/100\n",
            "8000/8000 [==============================] - 1s 181us/step - loss: 0.3461 - acc: 0.8580\n",
            "Epoch 23/100\n",
            "8000/8000 [==============================] - 1s 175us/step - loss: 0.3454 - acc: 0.8558\n",
            "Epoch 24/100\n",
            "8000/8000 [==============================] - 1s 167us/step - loss: 0.3444 - acc: 0.8569\n",
            "Epoch 25/100\n",
            "8000/8000 [==============================] - 1s 182us/step - loss: 0.3428 - acc: 0.8582\n",
            "Epoch 26/100\n",
            "8000/8000 [==============================] - 1s 180us/step - loss: 0.3425 - acc: 0.8574\n",
            "Epoch 27/100\n",
            "8000/8000 [==============================] - 2s 194us/step - loss: 0.3410 - acc: 0.8591\n",
            "Epoch 28/100\n",
            "8000/8000 [==============================] - 1s 175us/step - loss: 0.3403 - acc: 0.8600\n",
            "Epoch 29/100\n",
            "8000/8000 [==============================] - 1s 171us/step - loss: 0.3396 - acc: 0.8613\n",
            "Epoch 30/100\n",
            "8000/8000 [==============================] - 2s 192us/step - loss: 0.3385 - acc: 0.8611\n",
            "Epoch 31/100\n",
            "8000/8000 [==============================] - 1s 163us/step - loss: 0.3378 - acc: 0.8609\n",
            "Epoch 32/100\n",
            "8000/8000 [==============================] - 1s 176us/step - loss: 0.3371 - acc: 0.8611\n",
            "Epoch 33/100\n",
            "8000/8000 [==============================] - 1s 171us/step - loss: 0.3366 - acc: 0.8608\n",
            "Epoch 34/100\n",
            "8000/8000 [==============================] - 1s 168us/step - loss: 0.3361 - acc: 0.8618\n",
            "Epoch 35/100\n",
            "8000/8000 [==============================] - 1s 172us/step - loss: 0.3361 - acc: 0.8621\n",
            "Epoch 36/100\n",
            "8000/8000 [==============================] - 1s 174us/step - loss: 0.3360 - acc: 0.8626\n",
            "Epoch 37/100\n",
            "8000/8000 [==============================] - 1s 162us/step - loss: 0.3353 - acc: 0.8599\n",
            "Epoch 38/100\n",
            "8000/8000 [==============================] - 1s 159us/step - loss: 0.3354 - acc: 0.8629\n",
            "Epoch 39/100\n",
            "8000/8000 [==============================] - 1s 174us/step - loss: 0.3353 - acc: 0.8622\n",
            "Epoch 40/100\n",
            "8000/8000 [==============================] - 1s 156us/step - loss: 0.3345 - acc: 0.8619\n",
            "Epoch 41/100\n",
            "8000/8000 [==============================] - 1s 156us/step - loss: 0.3343 - acc: 0.8631\n",
            "Epoch 42/100\n",
            "8000/8000 [==============================] - 1s 169us/step - loss: 0.3348 - acc: 0.8619\n",
            "Epoch 43/100\n",
            "8000/8000 [==============================] - 1s 161us/step - loss: 0.3340 - acc: 0.8606\n",
            "Epoch 44/100\n",
            "8000/8000 [==============================] - 1s 183us/step - loss: 0.3342 - acc: 0.8621\n",
            "Epoch 45/100\n",
            "8000/8000 [==============================] - 1s 172us/step - loss: 0.3335 - acc: 0.8631\n",
            "Epoch 46/100\n",
            "8000/8000 [==============================] - 1s 164us/step - loss: 0.3339 - acc: 0.8624\n",
            "Epoch 47/100\n",
            "8000/8000 [==============================] - 1s 166us/step - loss: 0.3333 - acc: 0.8630\n",
            "Epoch 48/100\n",
            "8000/8000 [==============================] - 1s 167us/step - loss: 0.3336 - acc: 0.8611\n",
            "Epoch 49/100\n",
            "8000/8000 [==============================] - 1s 164us/step - loss: 0.3331 - acc: 0.8630\n",
            "Epoch 50/100\n",
            "8000/8000 [==============================] - 1s 171us/step - loss: 0.3333 - acc: 0.8635\n",
            "Epoch 51/100\n",
            "8000/8000 [==============================] - 1s 162us/step - loss: 0.3331 - acc: 0.8629\n",
            "Epoch 52/100\n",
            "8000/8000 [==============================] - 1s 155us/step - loss: 0.3333 - acc: 0.8609\n",
            "Epoch 53/100\n",
            "8000/8000 [==============================] - 1s 171us/step - loss: 0.3327 - acc: 0.8625\n",
            "Epoch 54/100\n",
            "8000/8000 [==============================] - 1s 177us/step - loss: 0.3325 - acc: 0.8624\n",
            "Epoch 55/100\n",
            "8000/8000 [==============================] - 1s 175us/step - loss: 0.3327 - acc: 0.8624\n",
            "Epoch 56/100\n",
            "8000/8000 [==============================] - 1s 175us/step - loss: 0.3325 - acc: 0.8629\n",
            "Epoch 57/100\n",
            "8000/8000 [==============================] - 1s 176us/step - loss: 0.3330 - acc: 0.8619\n",
            "Epoch 58/100\n",
            "8000/8000 [==============================] - 1s 164us/step - loss: 0.3326 - acc: 0.8625\n",
            "Epoch 59/100\n",
            "8000/8000 [==============================] - 1s 170us/step - loss: 0.3327 - acc: 0.8624\n",
            "Epoch 60/100\n",
            "8000/8000 [==============================] - 1s 177us/step - loss: 0.3322 - acc: 0.8638\n",
            "Epoch 61/100\n",
            "8000/8000 [==============================] - 1s 161us/step - loss: 0.3323 - acc: 0.8635\n",
            "Epoch 62/100\n",
            "8000/8000 [==============================] - 1s 182us/step - loss: 0.3318 - acc: 0.8618\n",
            "Epoch 63/100\n",
            "8000/8000 [==============================] - 1s 187us/step - loss: 0.3318 - acc: 0.8640\n",
            "Epoch 64/100\n",
            "8000/8000 [==============================] - 1s 175us/step - loss: 0.3315 - acc: 0.8640\n",
            "Epoch 65/100\n",
            "8000/8000 [==============================] - 1s 177us/step - loss: 0.3317 - acc: 0.8650\n",
            "Epoch 66/100\n",
            "8000/8000 [==============================] - 1s 175us/step - loss: 0.3318 - acc: 0.8625\n",
            "Epoch 67/100\n",
            "8000/8000 [==============================] - 1s 165us/step - loss: 0.3319 - acc: 0.8629\n",
            "Epoch 68/100\n",
            "8000/8000 [==============================] - 1s 176us/step - loss: 0.3317 - acc: 0.8631\n",
            "Epoch 69/100\n",
            "8000/8000 [==============================] - 1s 182us/step - loss: 0.3318 - acc: 0.8649\n",
            "Epoch 70/100\n",
            "8000/8000 [==============================] - 1s 169us/step - loss: 0.3316 - acc: 0.8634\n",
            "Epoch 71/100\n",
            "8000/8000 [==============================] - 1s 179us/step - loss: 0.3313 - acc: 0.8636\n",
            "Epoch 72/100\n",
            "8000/8000 [==============================] - 1s 159us/step - loss: 0.3317 - acc: 0.8642\n",
            "Epoch 73/100\n",
            "8000/8000 [==============================] - 1s 173us/step - loss: 0.3310 - acc: 0.8626\n",
            "Epoch 74/100\n",
            "8000/8000 [==============================] - 1s 172us/step - loss: 0.3317 - acc: 0.8650\n",
            "Epoch 75/100\n",
            "8000/8000 [==============================] - 1s 184us/step - loss: 0.3320 - acc: 0.8629\n",
            "Epoch 76/100\n",
            "8000/8000 [==============================] - 1s 180us/step - loss: 0.3315 - acc: 0.8644\n",
            "Epoch 77/100\n",
            "8000/8000 [==============================] - 1s 163us/step - loss: 0.3313 - acc: 0.8636\n",
            "Epoch 78/100\n",
            "8000/8000 [==============================] - 1s 175us/step - loss: 0.3316 - acc: 0.8635\n",
            "Epoch 79/100\n",
            "8000/8000 [==============================] - 1s 156us/step - loss: 0.3315 - acc: 0.8639\n",
            "Epoch 80/100\n",
            "8000/8000 [==============================] - 1s 155us/step - loss: 0.3311 - acc: 0.8625\n",
            "Epoch 81/100\n",
            "8000/8000 [==============================] - 1s 179us/step - loss: 0.3310 - acc: 0.8638\n",
            "Epoch 82/100\n",
            "8000/8000 [==============================] - 1s 155us/step - loss: 0.3308 - acc: 0.8638\n",
            "Epoch 83/100\n",
            "8000/8000 [==============================] - 1s 164us/step - loss: 0.3310 - acc: 0.8645\n",
            "Epoch 84/100\n",
            "8000/8000 [==============================] - 1s 166us/step - loss: 0.3307 - acc: 0.8645\n",
            "Epoch 85/100\n",
            "8000/8000 [==============================] - 1s 164us/step - loss: 0.3307 - acc: 0.8626\n",
            "Epoch 86/100\n",
            "8000/8000 [==============================] - 1s 153us/step - loss: 0.3304 - acc: 0.8624\n",
            "Epoch 87/100\n",
            "8000/8000 [==============================] - 1s 165us/step - loss: 0.3308 - acc: 0.8658\n",
            "Epoch 88/100\n",
            "8000/8000 [==============================] - 1s 182us/step - loss: 0.3306 - acc: 0.8651\n",
            "Epoch 89/100\n",
            "8000/8000 [==============================] - 1s 175us/step - loss: 0.3305 - acc: 0.8645\n",
            "Epoch 90/100\n",
            "8000/8000 [==============================] - 1s 156us/step - loss: 0.3300 - acc: 0.8650\n",
            "Epoch 91/100\n",
            "8000/8000 [==============================] - 1s 156us/step - loss: 0.3308 - acc: 0.8640\n",
            "Epoch 92/100\n",
            "8000/8000 [==============================] - 1s 177us/step - loss: 0.3305 - acc: 0.8634\n",
            "Epoch 93/100\n",
            "8000/8000 [==============================] - 1s 161us/step - loss: 0.3304 - acc: 0.8647\n",
            "Epoch 94/100\n",
            "8000/8000 [==============================] - 2s 192us/step - loss: 0.3301 - acc: 0.8647\n",
            "Epoch 95/100\n",
            "8000/8000 [==============================] - 1s 176us/step - loss: 0.3302 - acc: 0.8634\n",
            "Epoch 96/100\n",
            "8000/8000 [==============================] - 1s 178us/step - loss: 0.3307 - acc: 0.8644\n",
            "Epoch 97/100\n",
            "8000/8000 [==============================] - 1s 160us/step - loss: 0.3306 - acc: 0.8636\n",
            "Epoch 98/100\n",
            "8000/8000 [==============================] - 1s 169us/step - loss: 0.3308 - acc: 0.8635\n",
            "Epoch 99/100\n",
            "8000/8000 [==============================] - 1s 173us/step - loss: 0.3303 - acc: 0.8632\n",
            "Epoch 100/100\n",
            "8000/8000 [==============================] - 1s 156us/step - loss: 0.3299 - acc: 0.8640\n"
          ],
          "name": "stdout"
        },
        {
          "output_type": "execute_result",
          "data": {
            "text/plain": [
              "<keras.callbacks.History at 0x7f4c83f1f5c0>"
            ]
          },
          "metadata": {
            "tags": []
          },
          "execution_count": 15
        }
      ]
    },
    {
      "cell_type": "markdown",
      "metadata": {
        "id": "wRk23KN0Z_L8",
        "colab_type": "text"
      },
      "source": [
        "---\n",
        "## PARTE III - PREDICCIONES Y EVALUACIONES DE LA RED\n",
        "---"
      ]
    },
    {
      "cell_type": "code",
      "metadata": {
        "id": "6-bkah_jaKo2",
        "colab_type": "code",
        "outputId": "638a5dbf-ac73-49ff-b996-671ffe1e938b",
        "colab": {
          "base_uri": "https://localhost:8080/",
          "height": 935
        }
      },
      "source": [
        "# Haciendo predicción de los resultados del Test\n",
        "y_pred = neural_network.predict(X_test)\n",
        "y_pred_norm = (y_pred > 0.5)\n",
        "\n",
        "y_pred_norm = y_pred_norm.astype(int)\n",
        "y_test = y_test.astype(int)\n",
        "\n",
        "# 50 primeros resultados a comparar\n",
        "print(\"\\nPredicciones (50 primeros):\")\n",
        "print(\"\\n\\tReal\", \"\\t\", \"Predicción(N)\",\"\\t\", \"Predicción(O)\")\n",
        "for i in range(50):\n",
        "    print(i, '\\t', y_test[i], '\\t ', y_pred_norm[i], '\\t \\t', y_pred[i])"
      ],
      "execution_count": 0,
      "outputs": [
        {
          "output_type": "stream",
          "text": [
            "\n",
            "Predicciones (50 primeros):\n",
            "\n",
            "\tReal \t Predicción(N) \t Predicción(O)\n",
            "0 \t 0 \t  [0] \t \t [0.25591797]\n",
            "1 \t 1 \t  [0] \t \t [0.31653506]\n",
            "2 \t 0 \t  [0] \t \t [0.16617256]\n",
            "3 \t 0 \t  [0] \t \t [0.07125753]\n",
            "4 \t 0 \t  [0] \t \t [0.06709316]\n",
            "5 \t 1 \t  [1] \t \t [0.9561175]\n",
            "6 \t 0 \t  [0] \t \t [0.01982319]\n",
            "7 \t 0 \t  [0] \t \t [0.0801284]\n",
            "8 \t 1 \t  [0] \t \t [0.16028535]\n",
            "9 \t 1 \t  [1] \t \t [0.76239324]\n",
            "10 \t 0 \t  [0] \t \t [0.03265542]\n",
            "11 \t 0 \t  [0] \t \t [0.21288738]\n",
            "12 \t 0 \t  [0] \t \t [0.29622465]\n",
            "13 \t 0 \t  [0] \t \t [0.28117135]\n",
            "14 \t 1 \t  [1] \t \t [0.6112473]\n",
            "15 \t 1 \t  [0] \t \t [0.3089583]\n",
            "16 \t 0 \t  [0] \t \t [0.08254933]\n",
            "17 \t 0 \t  [0] \t \t [0.07191664]\n",
            "18 \t 0 \t  [0] \t \t [0.08332911]\n",
            "19 \t 0 \t  [0] \t \t [0.10069495]\n",
            "20 \t 0 \t  [1] \t \t [0.5985567]\n",
            "21 \t 0 \t  [0] \t \t [0.00851977]\n",
            "22 \t 0 \t  [0] \t \t [0.04273018]\n",
            "23 \t 0 \t  [0] \t \t [0.0951266]\n",
            "24 \t 0 \t  [0] \t \t [0.00786319]\n",
            "25 \t 0 \t  [0] \t \t [0.16710573]\n",
            "26 \t 0 \t  [0] \t \t [0.12770015]\n",
            "27 \t 0 \t  [0] \t \t [0.03628084]\n",
            "28 \t 0 \t  [0] \t \t [0.35433203]\n",
            "29 \t 0 \t  [0] \t \t [0.35582292]\n",
            "30 \t 0 \t  [0] \t \t [0.02590874]\n",
            "31 \t 1 \t  [0] \t \t [0.4530319]\n",
            "32 \t 0 \t  [0] \t \t [0.10775042]\n",
            "33 \t 0 \t  [0] \t \t [0.02804729]\n",
            "34 \t 0 \t  [0] \t \t [0.32664955]\n",
            "35 \t 0 \t  [0] \t \t [0.02045524]\n",
            "36 \t 0 \t  [0] \t \t [0.01842964]\n",
            "37 \t 0 \t  [0] \t \t [0.02650151]\n",
            "38 \t 0 \t  [0] \t \t [0.02766502]\n",
            "39 \t 0 \t  [0] \t \t [0.1354188]\n",
            "40 \t 0 \t  [0] \t \t [0.12443781]\n",
            "41 \t 1 \t  [0] \t \t [0.42804298]\n",
            "42 \t 1 \t  [0] \t \t [0.46373382]\n",
            "43 \t 0 \t  [0] \t \t [0.04600218]\n",
            "44 \t 0 \t  [1] \t \t [0.6296924]\n",
            "45 \t 0 \t  [0] \t \t [0.05090821]\n",
            "46 \t 0 \t  [0] \t \t [0.3721879]\n",
            "47 \t 0 \t  [0] \t \t [0.12022552]\n",
            "48 \t 0 \t  [1] \t \t [0.5840349]\n",
            "49 \t 0 \t  [0] \t \t [0.00435194]\n"
          ],
          "name": "stdout"
        }
      ]
    },
    {
      "cell_type": "markdown",
      "metadata": {
        "id": "VE49E-iHaMM9",
        "colab_type": "text"
      },
      "source": [
        "Aplicando la Matriz de Confusión:"
      ]
    },
    {
      "cell_type": "code",
      "metadata": {
        "id": "_spodbINaRRr",
        "colab_type": "code",
        "outputId": "0ee4ebac-d646-48be-fa8e-690fe4b4d355",
        "colab": {
          "base_uri": "https://localhost:8080/",
          "height": 85
        }
      },
      "source": [
        "# Aplicando la Matriz de Confusión\n",
        "from sklearn.metrics import confusion_matrix\n",
        "cm = confusion_matrix(y_test, y_pred_norm)\n",
        "print (\"\\nMatriz de Confusión: \\n\", cm)"
      ],
      "execution_count": 0,
      "outputs": [
        {
          "output_type": "stream",
          "text": [
            "\n",
            "Matriz de Confusión: \n",
            " [[1499   96]\n",
            " [ 196  209]]\n"
          ],
          "name": "stdout"
        }
      ]
    },
    {
      "cell_type": "markdown",
      "metadata": {
        "id": "fBAH2hDYWCya",
        "colab_type": "text"
      },
      "source": [
        "Graficando la Matriz de Confusión:"
      ]
    },
    {
      "cell_type": "code",
      "metadata": {
        "id": "2m1ZYV8aaY_i",
        "colab_type": "code",
        "outputId": "27abee46-7cc0-4d6d-c67a-1b18fc75bf69",
        "colab": {
          "base_uri": "https://localhost:8080/",
          "height": 365
        }
      },
      "source": [
        "plot_confusion_matrix(y_test, y_pred_norm, normalize=False,title=\"Matriz de Confusión: Abandono de clientes\")"
      ],
      "execution_count": 0,
      "outputs": [
        {
          "output_type": "stream",
          "text": [
            "Matriz de Confusión sin Normalizar\n",
            "[[1499   96]\n",
            " [ 196  209]]\n"
          ],
          "name": "stdout"
        },
        {
          "output_type": "display_data",
          "data": {
            "image/png": "[encoded data removed]",
            "text/plain": [
              "<Figure size 432x288 with 2 Axes>"
            ]
          },
          "metadata": {
            "tags": []
          }
        },
        {
          "output_type": "execute_result",
          "data": {
            "text/plain": [
              "<matplotlib.axes._subplots.AxesSubplot at 0x7f4c84030828>"
            ]
          },
          "metadata": {
            "tags": []
          },
          "execution_count": 22
        }
      ]
    },
    {
      "cell_type": "code",
      "metadata": {
        "id": "Q_6PhoADqaLe",
        "colab_type": "code",
        "outputId": "587d6cae-593f-4caf-9ae0-87f2fe50cd52",
        "colab": {
          "base_uri": "https://localhost:8080/",
          "height": 255
        }
      },
      "source": [
        "# Inicializando la Red Neuronal\n",
        "neural_network2 = Sequential()\n",
        "# kernel_initializer Define la forma como se asignará los Pesos iniciales Wi\n",
        "initial_weights = RandomUniform(minval = -0.5, maxval = 0.5)\n",
        "neural_network2.add(Dense(units = 8, kernel_initializer = initial_weights, activation = 'relu', input_dim = 10))\n",
        "neural_network2.add(Dense(units = 4, kernel_initializer = initial_weights, activation = 'relu'))\n",
        "# Agregando capa de salida\n",
        "neural_network2.add(Dense(units = 1, kernel_initializer = initial_weights, activation = 'sigmoid'))\n",
        "# Imprimir Arquitectura de la Red\n",
        "neural_network2.summary()"
      ],
      "execution_count": 0,
      "outputs": [
        {
          "output_type": "stream",
          "text": [
            "Model: \"sequential_2\"\n",
            "_________________________________________________________________\n",
            "Layer (type)                 Output Shape              Param #   \n",
            "=================================================================\n",
            "dense_5 (Dense)              (None, 8)                 88        \n",
            "_________________________________________________________________\n",
            "dense_6 (Dense)              (None, 4)                 36        \n",
            "_________________________________________________________________\n",
            "dense_7 (Dense)              (None, 1)                 5         \n",
            "=================================================================\n",
            "Total params: 129\n",
            "Trainable params: 129\n",
            "Non-trainable params: 0\n",
            "_________________________________________________________________\n"
          ],
          "name": "stdout"
        }
      ]
    },
    {
      "cell_type": "code",
      "metadata": {
        "id": "PfWYguP-rb7x",
        "colab_type": "code",
        "outputId": "ab2994c1-2812-4746-a8d6-fb7530898d8f",
        "colab": {
          "base_uri": "https://localhost:8080/",
          "height": 1000
        }
      },
      "source": [
        "# Compilando la Red Neuronal\n",
        "# optimizer: Algoritmo de optimización | binary_crossentropy = 2 Classes\n",
        "# loss: error\n",
        "neural_network2.compile(optimizer = 'adam', loss = 'binary_crossentropy', metrics = ['accuracy'])\n",
        "\n",
        "\n",
        "# Entrenamiento\n",
        "neural_network2.fit(X_train, y_train, batch_size = 32, epochs = 100)"
      ],
      "execution_count": 0,
      "outputs": [
        {
          "output_type": "stream",
          "text": [
            "Epoch 1/100\n",
            "8000/8000 [==============================] - 2s 208us/step - loss: 0.6309 - acc: 0.7251\n",
            "Epoch 2/100\n",
            "8000/8000 [==============================] - 1s 157us/step - loss: 0.4994 - acc: 0.7960\n",
            "Epoch 3/100\n",
            "8000/8000 [==============================] - 1s 161us/step - loss: 0.4579 - acc: 0.7962\n",
            "Epoch 4/100\n",
            "8000/8000 [==============================] - 1s 173us/step - loss: 0.4301 - acc: 0.8054\n",
            "Epoch 5/100\n",
            "8000/8000 [==============================] - 1s 152us/step - loss: 0.4111 - acc: 0.8207\n",
            "Epoch 6/100\n",
            "8000/8000 [==============================] - 1s 142us/step - loss: 0.3908 - acc: 0.8379\n",
            "Epoch 7/100\n",
            "8000/8000 [==============================] - 1s 145us/step - loss: 0.3766 - acc: 0.8441\n",
            "Epoch 8/100\n",
            "8000/8000 [==============================] - 1s 163us/step - loss: 0.3682 - acc: 0.8490\n",
            "Epoch 9/100\n",
            "8000/8000 [==============================] - 1s 155us/step - loss: 0.3637 - acc: 0.8508\n",
            "Epoch 10/100\n",
            "8000/8000 [==============================] - 1s 168us/step - loss: 0.3604 - acc: 0.8521\n",
            "Epoch 11/100\n",
            "8000/8000 [==============================] - 1s 167us/step - loss: 0.3585 - acc: 0.8535\n",
            "Epoch 12/100\n",
            "8000/8000 [==============================] - 1s 145us/step - loss: 0.3569 - acc: 0.8544\n",
            "Epoch 13/100\n",
            "8000/8000 [==============================] - 1s 158us/step - loss: 0.3557 - acc: 0.8538\n",
            "Epoch 14/100\n",
            "8000/8000 [==============================] - 1s 145us/step - loss: 0.3547 - acc: 0.8556\n",
            "Epoch 15/100\n",
            "8000/8000 [==============================] - 1s 155us/step - loss: 0.3541 - acc: 0.8555\n",
            "Epoch 16/100\n",
            "8000/8000 [==============================] - 1s 171us/step - loss: 0.3533 - acc: 0.8568\n",
            "Epoch 17/100\n",
            "8000/8000 [==============================] - 1s 173us/step - loss: 0.3527 - acc: 0.8568\n",
            "Epoch 18/100\n",
            "8000/8000 [==============================] - 1s 167us/step - loss: 0.3519 - acc: 0.8576\n",
            "Epoch 19/100\n",
            "8000/8000 [==============================] - 1s 146us/step - loss: 0.3516 - acc: 0.8581\n",
            "Epoch 20/100\n",
            "8000/8000 [==============================] - 1s 157us/step - loss: 0.3509 - acc: 0.8584\n",
            "Epoch 21/100\n",
            "8000/8000 [==============================] - 1s 161us/step - loss: 0.3508 - acc: 0.8575\n",
            "Epoch 22/100\n",
            "8000/8000 [==============================] - 1s 160us/step - loss: 0.3502 - acc: 0.8586\n",
            "Epoch 23/100\n",
            "8000/8000 [==============================] - 1s 161us/step - loss: 0.3500 - acc: 0.8585\n",
            "Epoch 24/100\n",
            "8000/8000 [==============================] - 1s 157us/step - loss: 0.3497 - acc: 0.8579\n",
            "Epoch 25/100\n",
            "8000/8000 [==============================] - 1s 155us/step - loss: 0.3493 - acc: 0.8591\n",
            "Epoch 26/100\n",
            "8000/8000 [==============================] - 1s 161us/step - loss: 0.3486 - acc: 0.8569\n",
            "Epoch 27/100\n",
            "8000/8000 [==============================] - 1s 157us/step - loss: 0.3489 - acc: 0.8579\n",
            "Epoch 28/100\n",
            "8000/8000 [==============================] - 1s 158us/step - loss: 0.3486 - acc: 0.8595\n",
            "Epoch 29/100\n",
            "8000/8000 [==============================] - 1s 163us/step - loss: 0.3483 - acc: 0.8582\n",
            "Epoch 30/100\n",
            "8000/8000 [==============================] - 1s 152us/step - loss: 0.3484 - acc: 0.8575\n",
            "Epoch 31/100\n",
            "8000/8000 [==============================] - 1s 145us/step - loss: 0.3476 - acc: 0.8590\n",
            "Epoch 32/100\n",
            "8000/8000 [==============================] - 1s 148us/step - loss: 0.3478 - acc: 0.8585\n",
            "Epoch 33/100\n",
            "8000/8000 [==============================] - 1s 150us/step - loss: 0.3474 - acc: 0.8578\n",
            "Epoch 34/100\n",
            "8000/8000 [==============================] - 1s 158us/step - loss: 0.3472 - acc: 0.8592\n",
            "Epoch 35/100\n",
            "8000/8000 [==============================] - 1s 148us/step - loss: 0.3468 - acc: 0.8595\n",
            "Epoch 36/100\n",
            "8000/8000 [==============================] - 1s 155us/step - loss: 0.3467 - acc: 0.8585\n",
            "Epoch 37/100\n",
            "8000/8000 [==============================] - 1s 159us/step - loss: 0.3467 - acc: 0.8590\n",
            "Epoch 38/100\n",
            "8000/8000 [==============================] - 1s 157us/step - loss: 0.3462 - acc: 0.8579\n",
            "Epoch 39/100\n",
            "8000/8000 [==============================] - 1s 159us/step - loss: 0.3462 - acc: 0.8586\n",
            "Epoch 40/100\n",
            "8000/8000 [==============================] - 1s 172us/step - loss: 0.3458 - acc: 0.8587\n",
            "Epoch 41/100\n",
            "8000/8000 [==============================] - 1s 154us/step - loss: 0.3458 - acc: 0.8598\n",
            "Epoch 42/100\n",
            "8000/8000 [==============================] - 1s 155us/step - loss: 0.3462 - acc: 0.8587\n",
            "Epoch 43/100\n",
            "8000/8000 [==============================] - 1s 162us/step - loss: 0.3454 - acc: 0.8578\n",
            "Epoch 44/100\n",
            "8000/8000 [==============================] - 1s 156us/step - loss: 0.3455 - acc: 0.8581\n",
            "Epoch 45/100\n",
            "8000/8000 [==============================] - 1s 161us/step - loss: 0.3452 - acc: 0.8582\n",
            "Epoch 46/100\n",
            "8000/8000 [==============================] - 1s 160us/step - loss: 0.3454 - acc: 0.8579\n",
            "Epoch 47/100\n",
            "8000/8000 [==============================] - 1s 153us/step - loss: 0.3453 - acc: 0.8584\n",
            "Epoch 48/100\n",
            "8000/8000 [==============================] - 1s 155us/step - loss: 0.3452 - acc: 0.8587\n",
            "Epoch 49/100\n",
            "8000/8000 [==============================] - 1s 154us/step - loss: 0.3450 - acc: 0.8582\n",
            "Epoch 50/100\n",
            "8000/8000 [==============================] - 1s 155us/step - loss: 0.3447 - acc: 0.8591\n",
            "Epoch 51/100\n",
            "8000/8000 [==============================] - 1s 153us/step - loss: 0.3448 - acc: 0.8586\n",
            "Epoch 52/100\n",
            "8000/8000 [==============================] - 1s 156us/step - loss: 0.3445 - acc: 0.8596\n",
            "Epoch 53/100\n",
            "8000/8000 [==============================] - 1s 157us/step - loss: 0.3443 - acc: 0.8579\n",
            "Epoch 54/100\n",
            "8000/8000 [==============================] - 1s 147us/step - loss: 0.3441 - acc: 0.8586\n",
            "Epoch 55/100\n",
            "8000/8000 [==============================] - 1s 148us/step - loss: 0.3439 - acc: 0.8590\n",
            "Epoch 56/100\n",
            "8000/8000 [==============================] - 1s 148us/step - loss: 0.3436 - acc: 0.8608\n",
            "Epoch 57/100\n",
            "8000/8000 [==============================] - 1s 160us/step - loss: 0.3439 - acc: 0.8596\n",
            "Epoch 58/100\n",
            "8000/8000 [==============================] - 1s 154us/step - loss: 0.3435 - acc: 0.8591\n",
            "Epoch 59/100\n",
            "8000/8000 [==============================] - 1s 159us/step - loss: 0.3433 - acc: 0.8594\n",
            "Epoch 60/100\n",
            "8000/8000 [==============================] - 1s 148us/step - loss: 0.3426 - acc: 0.8603\n",
            "Epoch 61/100\n",
            "8000/8000 [==============================] - 1s 148us/step - loss: 0.3429 - acc: 0.8595\n",
            "Epoch 62/100\n",
            "8000/8000 [==============================] - 1s 151us/step - loss: 0.3427 - acc: 0.8609\n",
            "Epoch 63/100\n",
            "8000/8000 [==============================] - 1s 145us/step - loss: 0.3426 - acc: 0.8606\n",
            "Epoch 64/100\n",
            "8000/8000 [==============================] - 1s 151us/step - loss: 0.3424 - acc: 0.8608\n",
            "Epoch 65/100\n",
            "8000/8000 [==============================] - 1s 151us/step - loss: 0.3420 - acc: 0.8608\n",
            "Epoch 66/100\n",
            "8000/8000 [==============================] - 1s 163us/step - loss: 0.3423 - acc: 0.8610\n",
            "Epoch 67/100\n",
            "8000/8000 [==============================] - 1s 153us/step - loss: 0.3417 - acc: 0.8598\n",
            "Epoch 68/100\n",
            "8000/8000 [==============================] - 1s 165us/step - loss: 0.3418 - acc: 0.8621\n",
            "Epoch 69/100\n",
            "8000/8000 [==============================] - 1s 157us/step - loss: 0.3416 - acc: 0.8603\n",
            "Epoch 70/100\n",
            "8000/8000 [==============================] - 1s 161us/step - loss: 0.3414 - acc: 0.8614\n",
            "Epoch 71/100\n",
            "8000/8000 [==============================] - 1s 150us/step - loss: 0.3413 - acc: 0.8619\n",
            "Epoch 72/100\n",
            "8000/8000 [==============================] - 1s 166us/step - loss: 0.3408 - acc: 0.8609\n",
            "Epoch 73/100\n",
            "8000/8000 [==============================] - 1s 168us/step - loss: 0.3411 - acc: 0.8625\n",
            "Epoch 74/100\n",
            "8000/8000 [==============================] - 1s 165us/step - loss: 0.3409 - acc: 0.8600\n",
            "Epoch 75/100\n",
            "8000/8000 [==============================] - 1s 141us/step - loss: 0.3405 - acc: 0.8604\n",
            "Epoch 76/100\n",
            "8000/8000 [==============================] - 1s 165us/step - loss: 0.3406 - acc: 0.8605\n",
            "Epoch 77/100\n",
            "8000/8000 [==============================] - 1s 168us/step - loss: 0.3405 - acc: 0.8616\n",
            "Epoch 78/100\n",
            "8000/8000 [==============================] - 1s 163us/step - loss: 0.3404 - acc: 0.8608\n",
            "Epoch 79/100\n",
            "8000/8000 [==============================] - 1s 161us/step - loss: 0.3399 - acc: 0.8618\n",
            "Epoch 80/100\n",
            "8000/8000 [==============================] - 1s 172us/step - loss: 0.3400 - acc: 0.8606\n",
            "Epoch 81/100\n",
            "8000/8000 [==============================] - 1s 176us/step - loss: 0.3399 - acc: 0.8600\n",
            "Epoch 82/100\n",
            "8000/8000 [==============================] - 1s 176us/step - loss: 0.3399 - acc: 0.8598\n",
            "Epoch 83/100\n",
            "8000/8000 [==============================] - 1s 157us/step - loss: 0.3397 - acc: 0.8604\n",
            "Epoch 84/100\n",
            "8000/8000 [==============================] - 1s 164us/step - loss: 0.3397 - acc: 0.8613\n",
            "Epoch 85/100\n",
            "8000/8000 [==============================] - 1s 166us/step - loss: 0.3394 - acc: 0.8616\n",
            "Epoch 86/100\n",
            "8000/8000 [==============================] - 1s 155us/step - loss: 0.3393 - acc: 0.8598\n",
            "Epoch 87/100\n",
            "8000/8000 [==============================] - 1s 153us/step - loss: 0.3394 - acc: 0.8611\n",
            "Epoch 88/100\n",
            "8000/8000 [==============================] - 1s 159us/step - loss: 0.3393 - acc: 0.8613\n",
            "Epoch 89/100\n",
            "8000/8000 [==============================] - 1s 153us/step - loss: 0.3392 - acc: 0.8604\n",
            "Epoch 90/100\n",
            "8000/8000 [==============================] - 1s 160us/step - loss: 0.3392 - acc: 0.8606\n",
            "Epoch 91/100\n",
            "8000/8000 [==============================] - 1s 153us/step - loss: 0.3391 - acc: 0.8608\n",
            "Epoch 92/100\n",
            "8000/8000 [==============================] - 1s 165us/step - loss: 0.3391 - acc: 0.8595\n",
            "Epoch 93/100\n",
            "8000/8000 [==============================] - 1s 158us/step - loss: 0.3389 - acc: 0.8619\n",
            "Epoch 94/100\n",
            "8000/8000 [==============================] - 1s 144us/step - loss: 0.3392 - acc: 0.8611\n",
            "Epoch 95/100\n",
            "8000/8000 [==============================] - 1s 145us/step - loss: 0.3392 - acc: 0.8601\n",
            "Epoch 96/100\n",
            "8000/8000 [==============================] - 1s 143us/step - loss: 0.3388 - acc: 0.8596\n",
            "Epoch 97/100\n",
            "8000/8000 [==============================] - 1s 146us/step - loss: 0.3390 - acc: 0.8615\n",
            "Epoch 98/100\n",
            "8000/8000 [==============================] - 1s 145us/step - loss: 0.3389 - acc: 0.8614\n",
            "Epoch 99/100\n",
            "8000/8000 [==============================] - 1s 151us/step - loss: 0.3387 - acc: 0.8592\n",
            "Epoch 100/100\n",
            "8000/8000 [==============================] - 1s 162us/step - loss: 0.3386 - acc: 0.8608\n"
          ],
          "name": "stdout"
        },
        {
          "output_type": "execute_result",
          "data": {
            "text/plain": [
              "<keras.callbacks.History at 0x7f4c84735860>"
            ]
          },
          "metadata": {
            "tags": []
          },
          "execution_count": 24
        }
      ]
    },
    {
      "cell_type": "code",
      "metadata": {
        "id": "9lyU3DvIssSX",
        "colab_type": "code",
        "outputId": "e109633a-7dcf-4698-93c5-d877ea9b101e",
        "colab": {
          "base_uri": "https://localhost:8080/",
          "height": 365
        }
      },
      "source": [
        "# Haciendo predicción de los resultados del Test\n",
        "y_pred = neural_network2.predict(X_test)\n",
        "y_pred_norm = (y_pred > 0.5)\n",
        "\n",
        "y_pred_norm = y_pred_norm.astype(int)\n",
        "y_test = y_test.astype(int)\n",
        "\n",
        "plot_confusion_matrix(y_test, y_pred_norm, normalize=False,title=\"Matriz de Confusión: Abandono de clientes\")"
      ],
      "execution_count": 0,
      "outputs": [
        {
          "output_type": "stream",
          "text": [
            "Matriz de Confusión sin Normalizar\n",
            "[[1520   75]\n",
            " [ 206  199]]\n"
          ],
          "name": "stdout"
        },
        {
          "output_type": "display_data",
          "data": {
            "image/png": "[encoded data removed]",
            "text/plain": [
              "<Figure size 432x288 with 2 Axes>"
            ]
          },
          "metadata": {
            "tags": []
          }
        },
        {
          "output_type": "execute_result",
          "data": {
            "text/plain": [
              "<matplotlib.axes._subplots.AxesSubplot at 0x7f4c8487ec18>"
            ]
          },
          "metadata": {
            "tags": []
          },
          "execution_count": 25
        }
      ]
    },
    {
      "cell_type": "code",
      "metadata": {
        "id": "UtVFi-epucI_",
        "colab_type": "code",
        "outputId": "4d058680-a25e-41c8-f201-518ae517c04c",
        "colab": {
          "base_uri": "https://localhost:8080/",
          "height": 289
        }
      },
      "source": [
        "# Inicializando la Red Neuronal\n",
        "neural_network3 = Sequential()\n",
        "# kernel_initializer Define la forma como se asignará los Pesos iniciales Wi\n",
        "initial_weights = RandomUniform(minval = -0.5, maxval = 0.5)\n",
        "neural_network3.add(Dense(units = 9, kernel_initializer = initial_weights, activation = 'relu', input_dim = 10))\n",
        "neural_network3.add(Dense(units = 7, kernel_initializer = initial_weights, activation = 'relu'))\n",
        "neural_network3.add(Dense(units = 5, kernel_initializer = initial_weights, activation = 'relu'))\n",
        "\n",
        "# Agregando capa de salida\n",
        "neural_network3.add(Dense(units = 1, kernel_initializer = initial_weights, activation = 'sigmoid'))\n",
        "# Imprimir Arquitectura de la Red\n",
        "neural_network3.summary()"
      ],
      "execution_count": 0,
      "outputs": [
        {
          "output_type": "stream",
          "text": [
            "Model: \"sequential_3\"\n",
            "_________________________________________________________________\n",
            "Layer (type)                 Output Shape              Param #   \n",
            "=================================================================\n",
            "dense_8 (Dense)              (None, 9)                 99        \n",
            "_________________________________________________________________\n",
            "dense_9 (Dense)              (None, 7)                 70        \n",
            "_________________________________________________________________\n",
            "dense_10 (Dense)             (None, 5)                 40        \n",
            "_________________________________________________________________\n",
            "dense_11 (Dense)             (None, 1)                 6         \n",
            "=================================================================\n",
            "Total params: 215\n",
            "Trainable params: 215\n",
            "Non-trainable params: 0\n",
            "_________________________________________________________________\n"
          ],
          "name": "stdout"
        }
      ]
    },
    {
      "cell_type": "code",
      "metadata": {
        "id": "YtLWHQN0u_7H",
        "colab_type": "code",
        "outputId": "ad503ad6-478e-4d4e-93c1-10db36e69c96",
        "colab": {
          "base_uri": "https://localhost:8080/",
          "height": 1000
        }
      },
      "source": [
        "# Compilando la Red Neuronal\n",
        "# optimizer: Algoritmo de optimización | binary_crossentropy = 2 Classes\n",
        "# loss: error\n",
        "neural_network3.compile(optimizer = 'adam', loss = 'binary_crossentropy', metrics = ['accuracy'])\n",
        "\n",
        "\n",
        "# Entrenamiento\n",
        "neural_network3.fit(X_train, y_train, batch_size = 32, epochs = 100)"
      ],
      "execution_count": 0,
      "outputs": [
        {
          "output_type": "stream",
          "text": [
            "Epoch 1/100\n",
            "8000/8000 [==============================] - 2s 216us/step - loss: 0.5574 - acc: 0.7860\n",
            "Epoch 2/100\n",
            "8000/8000 [==============================] - 1s 174us/step - loss: 0.4544 - acc: 0.7969\n",
            "Epoch 3/100\n",
            "8000/8000 [==============================] - 1s 160us/step - loss: 0.4302 - acc: 0.8099\n",
            "Epoch 4/100\n",
            "8000/8000 [==============================] - 1s 183us/step - loss: 0.4141 - acc: 0.8233\n",
            "Epoch 5/100\n",
            "8000/8000 [==============================] - 1s 170us/step - loss: 0.3949 - acc: 0.8340\n",
            "Epoch 6/100\n",
            "8000/8000 [==============================] - 1s 183us/step - loss: 0.3783 - acc: 0.8467\n",
            "Epoch 7/100\n",
            "8000/8000 [==============================] - 1s 187us/step - loss: 0.3683 - acc: 0.8530\n",
            "Epoch 8/100\n",
            "8000/8000 [==============================] - 2s 190us/step - loss: 0.3644 - acc: 0.8540\n",
            "Epoch 9/100\n",
            "8000/8000 [==============================] - 1s 174us/step - loss: 0.3611 - acc: 0.8561\n",
            "Epoch 10/100\n",
            "8000/8000 [==============================] - 1s 166us/step - loss: 0.3602 - acc: 0.8553\n",
            "Epoch 11/100\n",
            "8000/8000 [==============================] - 1s 169us/step - loss: 0.3586 - acc: 0.8560\n",
            "Epoch 12/100\n",
            "8000/8000 [==============================] - 1s 175us/step - loss: 0.3570 - acc: 0.8566\n",
            "Epoch 13/100\n",
            "8000/8000 [==============================] - 1s 172us/step - loss: 0.3565 - acc: 0.8558\n",
            "Epoch 14/100\n",
            "8000/8000 [==============================] - 2s 189us/step - loss: 0.3553 - acc: 0.8562\n",
            "Epoch 15/100\n",
            "8000/8000 [==============================] - 1s 180us/step - loss: 0.3549 - acc: 0.8551\n",
            "Epoch 16/100\n",
            "8000/8000 [==============================] - 1s 174us/step - loss: 0.3536 - acc: 0.8561\n",
            "Epoch 17/100\n",
            "8000/8000 [==============================] - 1s 176us/step - loss: 0.3533 - acc: 0.8562\n",
            "Epoch 18/100\n",
            "8000/8000 [==============================] - 1s 168us/step - loss: 0.3523 - acc: 0.8560\n",
            "Epoch 19/100\n",
            "8000/8000 [==============================] - 1s 169us/step - loss: 0.3511 - acc: 0.8568\n",
            "Epoch 20/100\n",
            "8000/8000 [==============================] - 1s 171us/step - loss: 0.3512 - acc: 0.8566\n",
            "Epoch 21/100\n",
            "8000/8000 [==============================] - 1s 170us/step - loss: 0.3509 - acc: 0.8584\n",
            "Epoch 22/100\n",
            "8000/8000 [==============================] - 2s 188us/step - loss: 0.3497 - acc: 0.8572\n",
            "Epoch 23/100\n",
            "8000/8000 [==============================] - 1s 181us/step - loss: 0.3487 - acc: 0.8570\n",
            "Epoch 24/100\n",
            "8000/8000 [==============================] - 1s 177us/step - loss: 0.3490 - acc: 0.8572\n",
            "Epoch 25/100\n",
            "8000/8000 [==============================] - 1s 180us/step - loss: 0.3484 - acc: 0.8572\n",
            "Epoch 26/100\n",
            "8000/8000 [==============================] - 1s 172us/step - loss: 0.3477 - acc: 0.8589\n",
            "Epoch 27/100\n",
            "8000/8000 [==============================] - 1s 162us/step - loss: 0.3467 - acc: 0.8570\n",
            "Epoch 28/100\n",
            "8000/8000 [==============================] - 1s 184us/step - loss: 0.3466 - acc: 0.8578\n",
            "Epoch 29/100\n",
            "8000/8000 [==============================] - 1s 165us/step - loss: 0.3462 - acc: 0.8584\n",
            "Epoch 30/100\n",
            "8000/8000 [==============================] - 1s 157us/step - loss: 0.3459 - acc: 0.8576\n",
            "Epoch 31/100\n",
            "8000/8000 [==============================] - 1s 178us/step - loss: 0.3457 - acc: 0.8571\n",
            "Epoch 32/100\n",
            "8000/8000 [==============================] - 2s 193us/step - loss: 0.3450 - acc: 0.8589\n",
            "Epoch 33/100\n",
            "8000/8000 [==============================] - 1s 181us/step - loss: 0.3440 - acc: 0.8581\n",
            "Epoch 34/100\n",
            "8000/8000 [==============================] - 1s 176us/step - loss: 0.3438 - acc: 0.8585\n",
            "Epoch 35/100\n",
            "8000/8000 [==============================] - 1s 187us/step - loss: 0.3437 - acc: 0.8600\n",
            "Epoch 36/100\n",
            "8000/8000 [==============================] - 1s 168us/step - loss: 0.3431 - acc: 0.8580\n",
            "Epoch 37/100\n",
            "8000/8000 [==============================] - 1s 172us/step - loss: 0.3425 - acc: 0.8589\n",
            "Epoch 38/100\n",
            "8000/8000 [==============================] - 1s 166us/step - loss: 0.3419 - acc: 0.8596\n",
            "Epoch 39/100\n",
            "8000/8000 [==============================] - 1s 174us/step - loss: 0.3416 - acc: 0.8585\n",
            "Epoch 40/100\n",
            "8000/8000 [==============================] - 1s 162us/step - loss: 0.3410 - acc: 0.8596\n",
            "Epoch 41/100\n",
            "8000/8000 [==============================] - 1s 166us/step - loss: 0.3407 - acc: 0.8601\n",
            "Epoch 42/100\n",
            "8000/8000 [==============================] - 1s 176us/step - loss: 0.3410 - acc: 0.8589\n",
            "Epoch 43/100\n",
            "8000/8000 [==============================] - 1s 182us/step - loss: 0.3401 - acc: 0.8595\n",
            "Epoch 44/100\n",
            "8000/8000 [==============================] - 1s 178us/step - loss: 0.3396 - acc: 0.8596\n",
            "Epoch 45/100\n",
            "8000/8000 [==============================] - 1s 183us/step - loss: 0.3393 - acc: 0.8586\n",
            "Epoch 46/100\n",
            "8000/8000 [==============================] - 2s 192us/step - loss: 0.3388 - acc: 0.8613\n",
            "Epoch 47/100\n",
            "8000/8000 [==============================] - 1s 171us/step - loss: 0.3388 - acc: 0.8600\n",
            "Epoch 48/100\n",
            "8000/8000 [==============================] - 1s 168us/step - loss: 0.3381 - acc: 0.8606\n",
            "Epoch 49/100\n",
            "8000/8000 [==============================] - 1s 169us/step - loss: 0.3378 - acc: 0.8621\n",
            "Epoch 50/100\n",
            "8000/8000 [==============================] - 1s 180us/step - loss: 0.3374 - acc: 0.8610\n",
            "Epoch 51/100\n",
            "8000/8000 [==============================] - 1s 159us/step - loss: 0.3378 - acc: 0.8616\n",
            "Epoch 52/100\n",
            "8000/8000 [==============================] - 1s 176us/step - loss: 0.3367 - acc: 0.8619\n",
            "Epoch 53/100\n",
            "8000/8000 [==============================] - 1s 167us/step - loss: 0.3367 - acc: 0.8622\n",
            "Epoch 54/100\n",
            "8000/8000 [==============================] - 1s 184us/step - loss: 0.3361 - acc: 0.8624\n",
            "Epoch 55/100\n",
            "8000/8000 [==============================] - 1s 177us/step - loss: 0.3351 - acc: 0.8611\n",
            "Epoch 56/100\n",
            "8000/8000 [==============================] - 1s 187us/step - loss: 0.3355 - acc: 0.8625\n",
            "Epoch 57/100\n",
            "8000/8000 [==============================] - 1s 186us/step - loss: 0.3348 - acc: 0.8610\n",
            "Epoch 58/100\n",
            "8000/8000 [==============================] - 1s 165us/step - loss: 0.3348 - acc: 0.8626\n",
            "Epoch 59/100\n",
            "8000/8000 [==============================] - 1s 184us/step - loss: 0.3349 - acc: 0.8630\n",
            "Epoch 60/100\n",
            "8000/8000 [==============================] - 1s 174us/step - loss: 0.3346 - acc: 0.8625\n",
            "Epoch 61/100\n",
            "8000/8000 [==============================] - 2s 188us/step - loss: 0.3347 - acc: 0.8604\n",
            "Epoch 62/100\n",
            "8000/8000 [==============================] - 1s 180us/step - loss: 0.3344 - acc: 0.8634\n",
            "Epoch 63/100\n",
            "8000/8000 [==============================] - 1s 182us/step - loss: 0.3340 - acc: 0.8629\n",
            "Epoch 64/100\n",
            "8000/8000 [==============================] - 1s 172us/step - loss: 0.3335 - acc: 0.8632\n",
            "Epoch 65/100\n",
            "8000/8000 [==============================] - 1s 177us/step - loss: 0.3340 - acc: 0.8631\n",
            "Epoch 66/100\n",
            "8000/8000 [==============================] - 2s 199us/step - loss: 0.3333 - acc: 0.8620\n",
            "Epoch 67/100\n",
            "8000/8000 [==============================] - 1s 185us/step - loss: 0.3331 - acc: 0.8631\n",
            "Epoch 68/100\n",
            "8000/8000 [==============================] - 1s 179us/step - loss: 0.3325 - acc: 0.8636\n",
            "Epoch 69/100\n",
            "8000/8000 [==============================] - 1s 185us/step - loss: 0.3325 - acc: 0.8628\n",
            "Epoch 70/100\n",
            "8000/8000 [==============================] - 2s 189us/step - loss: 0.3325 - acc: 0.8635\n",
            "Epoch 71/100\n",
            "8000/8000 [==============================] - 1s 182us/step - loss: 0.3322 - acc: 0.8626\n",
            "Epoch 72/100\n",
            "8000/8000 [==============================] - 1s 182us/step - loss: 0.3323 - acc: 0.8645\n",
            "Epoch 73/100\n",
            "8000/8000 [==============================] - 1s 179us/step - loss: 0.3325 - acc: 0.8638\n",
            "Epoch 74/100\n",
            "8000/8000 [==============================] - 1s 179us/step - loss: 0.3321 - acc: 0.8642\n",
            "Epoch 75/100\n",
            "8000/8000 [==============================] - 1s 185us/step - loss: 0.3320 - acc: 0.8620\n",
            "Epoch 76/100\n",
            "8000/8000 [==============================] - 1s 181us/step - loss: 0.3318 - acc: 0.8625\n",
            "Epoch 77/100\n",
            "8000/8000 [==============================] - 2s 188us/step - loss: 0.3316 - acc: 0.8641\n",
            "Epoch 78/100\n",
            "8000/8000 [==============================] - 1s 171us/step - loss: 0.3319 - acc: 0.8639\n",
            "Epoch 79/100\n",
            "8000/8000 [==============================] - 1s 163us/step - loss: 0.3320 - acc: 0.8642\n",
            "Epoch 80/100\n",
            "8000/8000 [==============================] - 1s 170us/step - loss: 0.3314 - acc: 0.8631\n",
            "Epoch 81/100\n",
            "8000/8000 [==============================] - 1s 180us/step - loss: 0.3313 - acc: 0.8618\n",
            "Epoch 82/100\n",
            "8000/8000 [==============================] - 1s 176us/step - loss: 0.3317 - acc: 0.8635\n",
            "Epoch 83/100\n",
            "8000/8000 [==============================] - 1s 161us/step - loss: 0.3315 - acc: 0.8644\n",
            "Epoch 84/100\n",
            "8000/8000 [==============================] - 1s 181us/step - loss: 0.3315 - acc: 0.8635\n",
            "Epoch 85/100\n",
            "8000/8000 [==============================] - 1s 171us/step - loss: 0.3311 - acc: 0.8642\n",
            "Epoch 86/100\n",
            "8000/8000 [==============================] - 1s 168us/step - loss: 0.3307 - acc: 0.8644\n",
            "Epoch 87/100\n",
            "8000/8000 [==============================] - 1s 177us/step - loss: 0.3316 - acc: 0.8644\n",
            "Epoch 88/100\n",
            "8000/8000 [==============================] - 1s 179us/step - loss: 0.3309 - acc: 0.8656\n",
            "Epoch 89/100\n",
            "8000/8000 [==============================] - 1s 175us/step - loss: 0.3312 - acc: 0.8632\n",
            "Epoch 90/100\n",
            "8000/8000 [==============================] - 1s 156us/step - loss: 0.3309 - acc: 0.8639\n",
            "Epoch 91/100\n",
            "8000/8000 [==============================] - 1s 185us/step - loss: 0.3308 - acc: 0.8638\n",
            "Epoch 92/100\n",
            "8000/8000 [==============================] - 1s 160us/step - loss: 0.3310 - acc: 0.8641\n",
            "Epoch 93/100\n",
            "8000/8000 [==============================] - 1s 164us/step - loss: 0.3302 - acc: 0.8638\n",
            "Epoch 94/100\n",
            "8000/8000 [==============================] - 1s 182us/step - loss: 0.3312 - acc: 0.8639\n",
            "Epoch 95/100\n",
            "8000/8000 [==============================] - 1s 178us/step - loss: 0.3305 - acc: 0.8651\n",
            "Epoch 96/100\n",
            "8000/8000 [==============================] - 1s 183us/step - loss: 0.3311 - acc: 0.8644\n",
            "Epoch 97/100\n",
            "8000/8000 [==============================] - 1s 169us/step - loss: 0.3303 - acc: 0.8640\n",
            "Epoch 98/100\n",
            "8000/8000 [==============================] - 1s 165us/step - loss: 0.3307 - acc: 0.8631\n",
            "Epoch 99/100\n",
            "8000/8000 [==============================] - 1s 157us/step - loss: 0.3306 - acc: 0.8645\n",
            "Epoch 100/100\n",
            "8000/8000 [==============================] - 1s 168us/step - loss: 0.3307 - acc: 0.8638\n"
          ],
          "name": "stdout"
        },
        {
          "output_type": "execute_result",
          "data": {
            "text/plain": [
              "<keras.callbacks.History at 0x7f4c84823a20>"
            ]
          },
          "metadata": {
            "tags": []
          },
          "execution_count": 27
        }
      ]
    },
    {
      "cell_type": "code",
      "metadata": {
        "id": "VyIVy5L9wGGG",
        "colab_type": "code",
        "outputId": "02b86c81-9c68-4a1b-e408-71e0ca4c4396",
        "colab": {
          "base_uri": "https://localhost:8080/",
          "height": 365
        }
      },
      "source": [
        "# Haciendo predicción de los resultados del Test\n",
        "y_pred = neural_network3.predict(X_test)\n",
        "y_pred_norm = (y_pred > 0.5)\n",
        "\n",
        "y_pred_norm = y_pred_norm.astype(int)\n",
        "y_test = y_test.astype(int)\n",
        "\n",
        "plot_confusion_matrix(y_test, y_pred_norm, normalize=False,title=\"Matriz de Confusión: Abandono de clientes\")"
      ],
      "execution_count": 0,
      "outputs": [
        {
          "output_type": "stream",
          "text": [
            "Matriz de Confusión sin Normalizar\n",
            "[[1526   69]\n",
            " [ 214  191]]\n"
          ],
          "name": "stdout"
        },
        {
          "output_type": "display_data",
          "data": {
            "image/png": "[encoded data removed]",
            "text/plain": [
              "<Figure size 432x288 with 2 Axes>"
            ]
          },
          "metadata": {
            "tags": []
          }
        },
        {
          "output_type": "execute_result",
          "data": {
            "text/plain": [
              "<matplotlib.axes._subplots.AxesSubplot at 0x7f4c84b660b8>"
            ]
          },
          "metadata": {
            "tags": []
          },
          "execution_count": 28
        }
      ]
    }
  ]
}