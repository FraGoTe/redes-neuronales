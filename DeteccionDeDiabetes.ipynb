{
  "nbformat": 4,
  "nbformat_minor": 0,
  "metadata": {
    "colab": {
      "name": "ann_classification_diabetes.ipynb",
      "provenance": [],
      "collapsed_sections": [],
      "toc_visible": true,
      "include_colab_link": true
    },
    "kernelspec": {
      "name": "python3",
      "display_name": "Python 3"
    },
    "accelerator": "GPU"
  },
  "cells": [
    {
      "cell_type": "markdown",
      "metadata": {
        "id": "view-in-github",
        "colab_type": "text"
      },
      "source": [
        "<a href=\"https://colab.research.google.com/github/FraGoTe/redes-neuronales/blob/master/DeteccionDeDiabetes.ipynb\" target=\"_parent\"><img src=\"https://colab.research.google.com/assets/colab-badge.svg\" alt=\"Open In Colab\"/></a>"
      ]
    },
    {
      "cell_type": "markdown",
      "metadata": {
        "id": "eyUhcF61WImH",
        "colab_type": "text"
      },
      "source": [
        "## REDES NEURONALES ARTIFICIALES"
      ]
    },
    {
      "cell_type": "markdown",
      "metadata": {
        "id": "2wPe_qWFHPm8",
        "colab_type": "text"
      },
      "source": [
        ""
      ]
    },
    {
      "cell_type": "markdown",
      "metadata": {
        "id": "fHNy9zESXwk5",
        "colab_type": "text"
      },
      "source": [
        "\n",
        "##Carga de datos\n",
        "---"
      ]
    },
    {
      "cell_type": "markdown",
      "metadata": {
        "id": "MEj9ojRcWfki",
        "colab_type": "text"
      },
      "source": [
        "Mostrando lista de archivos:"
      ]
    },
    {
      "cell_type": "code",
      "metadata": {
        "id": "-8NN__fMWgXh",
        "colab_type": "code",
        "outputId": "b96c246d-e259-43f9-966c-a8d32881a764",
        "colab": {
          "base_uri": "https://localhost:8080/",
          "height": 68
        }
      },
      "source": [
        "%%bash\n",
        "if [ ! -f \"diabetes_data.csv\" ]; then\n",
        "    wget www.fragote.com/data/diabetes_data.csv\n",
        "fi\n",
        "\n",
        "ls -l "
      ],
      "execution_count": 2,
      "outputs": [
        {
          "output_type": "stream",
          "text": [
            "total 28\n",
            "-rw-r--r-- 1 root root 23100 Sep 28 21:10 diabetes_data.csv\n",
            "drwxr-xr-x 1 root root  4096 Nov 21 16:30 sample_data\n"
          ],
          "name": "stdout"
        }
      ]
    },
    {
      "cell_type": "markdown",
      "metadata": {
        "id": "FAjhMCNuXgD3",
        "colab_type": "text"
      },
      "source": [
        "##Funciones necesarias\n",
        "---"
      ]
    },
    {
      "cell_type": "code",
      "metadata": {
        "id": "RdEyMyC_YIPY",
        "colab_type": "code",
        "colab": {
          "base_uri": "https://localhost:8080/",
          "height": 71
        },
        "outputId": "27549cf2-c971-48b4-fd99-6a9970e25300"
      },
      "source": [
        "# Funciones\n",
        "\n",
        "import numpy as np\n",
        "\n",
        "from sklearn.metrics import confusion_matrix\n",
        "from sklearn.utils.multiclass import unique_labels\n",
        "from sklearn.externals import joblib\n",
        "\n",
        "import seaborn as sns\n",
        "import matplotlib.pyplot as plt\n",
        "\n",
        "def plot_confusion_matrix(y_true, y_pred,\n",
        "                          normalize=False,\n",
        "                          title=None):\n",
        "    \"\"\"\n",
        "    Esta función imprime y traza la matriz de confusión.\n",
        "     La normalización se puede aplicar configurando `normalize=True`.\n",
        "    \"\"\"\n",
        "    if not title:\n",
        "        if normalize:\n",
        "            title = 'Matriz de Confusión Normalizada'\n",
        "        else:\n",
        "            title = 'Matriz de Confusión sin Normalizar'\n",
        "\n",
        "    # Calculando la Matriz de Confusion\n",
        "    cm = confusion_matrix(y_true, y_pred)\n",
        "    # solo usar las etiquetas que se tienen en la data\n",
        "    classes = unique_labels(y_true, y_pred)\n",
        "    if normalize:\n",
        "        cm = cm.astype('float') / cm.sum(axis=1)[:, np.newaxis]\n",
        "        print(\"Matriz de Confusión Normalizada\")\n",
        "    else:\n",
        "        print('Matriz de Confusión sin Normalizar')\n",
        "\n",
        "    print(cm)\n",
        "\n",
        "    fig, ax = plt.subplots()\n",
        "    im = ax.imshow(cm, interpolation='nearest', cmap=plt.cm.Blues)\n",
        "    ax.figure.colorbar(im, ax=ax)\n",
        "    ax.grid(linewidth=.0)\n",
        "    # Queremos mostrar todos los puntos...\n",
        "    ax.set(xticks=np.arange(cm.shape[1]),\n",
        "           yticks=np.arange(cm.shape[0]),\n",
        "           # ... etiquetando la lista de datos\n",
        "           xticklabels=classes, yticklabels=classes,\n",
        "           title=title,\n",
        "           ylabel='True label',\n",
        "           xlabel='Predicted label')\n",
        "\n",
        "    # rotando las etiquedas de los puntos.\n",
        "    plt.setp(ax.get_xticklabels(), rotation=45, ha=\"right\",rotation_mode=\"anchor\")\n",
        "\n",
        "    # Loop over data dimensions and create text annotations.\n",
        "    fmt = '.2f' if normalize else 'd'\n",
        "    thresh = cm.max() / 2.\n",
        "    for i in range(cm.shape[0]):\n",
        "        for j in range(cm.shape[1]):\n",
        "            ax.text(j, i, format(cm[i, j], fmt),\n",
        "                    ha=\"center\", va=\"center\",\n",
        "                    color=\"white\" if cm[i, j] > thresh else \"black\")\n",
        "    fig.tight_layout()\n",
        "    plt.show()\n",
        "    return ax\n",
        "\n",
        "def saveFile(object_to_save, scaler_filename):\n",
        "    joblib.dump(object_to_save, scaler_filename)\n",
        "\n",
        "def loadFile(scaler_filename):\n",
        "    return joblib.load(scaler_filename)\n",
        "\n",
        "def plotHistogram(dataset_final):\n",
        "    dataset_final.hist(figsize=(20,14), edgecolor=\"black\", bins=40)\n",
        "    plt.show()\n",
        "\n",
        "def plotCorrelations(dataset_final):\n",
        "    fig, ax = plt.subplots(figsize=(10,8))   # size in inches\n",
        "    g = sns.heatmap(dataset_final.corr(), annot=True, cmap=\"YlGnBu\", ax=ax)\n",
        "    g.set_yticklabels(g.get_yticklabels(), rotation = 0)\n",
        "    g.set_xticklabels(g.get_xticklabels(), rotation = 45)\n",
        "    fig.tight_layout()\n",
        "    plt.show()\n"
      ],
      "execution_count": 3,
      "outputs": [
        {
          "output_type": "stream",
          "text": [
            "/usr/local/lib/python3.6/dist-packages/sklearn/externals/joblib/__init__.py:15: DeprecationWarning: sklearn.externals.joblib is deprecated in 0.21 and will be removed in 0.23. Please import this functionality directly from joblib, which can be installed with: pip install joblib. If this warning is raised when loading pickled models, you may need to re-serialize those models with scikit-learn 0.21+.\n",
            "  warnings.warn(msg, category=DeprecationWarning)\n"
          ],
          "name": "stderr"
        }
      ]
    },
    {
      "cell_type": "markdown",
      "metadata": {
        "id": "yzNaCkq8XIEm",
        "colab_type": "text"
      },
      "source": [
        "\n",
        " ## PARTE I - PREPROCESAMIENTO DE DATOS\n",
        "---\n"
      ]
    },
    {
      "cell_type": "code",
      "metadata": {
        "id": "q5HGp2W-XSkX",
        "colab_type": "code",
        "outputId": "3307f090-767b-462b-cb7b-b3caa7ddd032",
        "colab": {
          "base_uri": "https://localhost:8080/",
          "height": 714
        }
      },
      "source": [
        "# Importando librerías\n",
        "import pandas as pd\n",
        "import numpy as np\n",
        "from sklearn.preprocessing import LabelEncoder\n",
        "from sklearn.preprocessing import StandardScaler\n",
        "from sklearn.model_selection import train_test_split\n",
        "\n",
        "# Importando Datasets\n",
        "dataset_csv = pd.read_csv('diabetes_data.csv')\n",
        "\n",
        "# Columnas de la data\n",
        "print (\"\\nColumnas del DataSet: \")\n",
        "print (dataset_csv.columns)\n",
        "\n",
        "# Describir la data original\n",
        "print (\"\\nDataset original:\\n\", dataset_csv.describe(include='all'))\n",
        "\n",
        "\n",
        "# Revisamos los tipos de datos de las Columnas\n",
        "print (\"\\nTipos de Columnas del Dataset: \")\n",
        "print(dataset_csv.dtypes)\n",
        "\n",
        "\n",
        "print (\"\\nDataset Total: \")\n",
        "print(\"\\n\",dataset_csv.head())\n",
        "\n",
        "dataset_columns = dataset_csv.columns\n",
        "dataset_values = dataset_csv.values"
      ],
      "execution_count": 4,
      "outputs": [
        {
          "output_type": "stream",
          "text": [
            "\n",
            "Columnas del DataSet: \n",
            "Index(['Embarazos', 'Glucosa', 'Presion', 'EspesorPiel', 'Insulina', 'IMC',\n",
            "       'DiabetesFamiliar', 'Edad', 'PacienteDiabetico'],\n",
            "      dtype='object')\n",
            "\n",
            "Dataset original:\n",
            "         Embarazos     Glucosa  ...        Edad  PacienteDiabetico\n",
            "count  768.000000  768.000000  ...  768.000000         768.000000\n",
            "mean     3.845052  120.894531  ...   33.240885           0.348958\n",
            "std      3.369578   31.972618  ...   11.760232           0.476951\n",
            "min      0.000000    0.000000  ...   21.000000           0.000000\n",
            "25%      1.000000   99.000000  ...   24.000000           0.000000\n",
            "50%      3.000000  117.000000  ...   29.000000           0.000000\n",
            "75%      6.000000  140.250000  ...   41.000000           1.000000\n",
            "max     17.000000  199.000000  ...   81.000000           1.000000\n",
            "\n",
            "[8 rows x 9 columns]\n",
            "\n",
            "Tipos de Columnas del Dataset: \n",
            "Embarazos              int64\n",
            "Glucosa                int64\n",
            "Presion                int64\n",
            "EspesorPiel            int64\n",
            "Insulina               int64\n",
            "IMC                  float64\n",
            "DiabetesFamiliar     float64\n",
            "Edad                   int64\n",
            "PacienteDiabetico      int64\n",
            "dtype: object\n",
            "\n",
            "Dataset Total: \n",
            "\n",
            "    Embarazos  Glucosa  Presion  ...  DiabetesFamiliar  Edad  PacienteDiabetico\n",
            "0          6      148       72  ...             0.627    50                  1\n",
            "1          1       85       66  ...             0.351    31                  0\n",
            "2          8      183       64  ...             0.672    32                  1\n",
            "3          1       89       66  ...             0.167    21                  0\n",
            "4          0      137       40  ...             2.288    33                  1\n",
            "\n",
            "[5 rows x 9 columns]\n"
          ],
          "name": "stdout"
        }
      ]
    },
    {
      "cell_type": "markdown",
      "metadata": {
        "id": "EtC94NJFbWvD",
        "colab_type": "text"
      },
      "source": [
        "Escalamiento/Normalización de Features (StandardScaler: (x-u)/s): mean = 0 and standard deviation = 1"
      ]
    },
    {
      "cell_type": "code",
      "metadata": {
        "id": "MZV9NGL6bbfy",
        "colab_type": "code",
        "outputId": "fca657e6-78ef-42ef-8adc-00aacf3595bc",
        "colab": {
          "base_uri": "https://localhost:8080/",
          "height": 391
        }
      },
      "source": [
        "# Escalamiento/Normalización de Features (StandardScaler: (x-u)/s)\n",
        "stdScaler = StandardScaler()\n",
        "dataset_values[:,0:8] = stdScaler.fit_transform(dataset_values[:,0:8])\n",
        "\n",
        "\n",
        "# Dataset final normalizado\n",
        "dataset_final = pd.DataFrame(dataset_values,columns=dataset_columns, dtype=np.float64)\n",
        "print (\"\\nDataset Final:\")\n",
        "print(dataset_final.describe(include='all'))\n",
        "print(\"\\n\", dataset_final.head())"
      ],
      "execution_count": 5,
      "outputs": [
        {
          "output_type": "stream",
          "text": [
            "\n",
            "Dataset Final:\n",
            "          Embarazos       Glucosa  ...          Edad  PacienteDiabetico\n",
            "count  7.680000e+02  7.680000e+02  ...  7.680000e+02         768.000000\n",
            "mean   2.544261e-17  3.614007e-18  ...  1.857600e-16           0.348958\n",
            "std    1.000652e+00  1.000652e+00  ...  1.000652e+00           0.476951\n",
            "min   -1.141852e+00 -3.783654e+00  ... -1.041549e+00           0.000000\n",
            "25%   -8.448851e-01 -6.852363e-01  ... -7.862862e-01           0.000000\n",
            "50%   -2.509521e-01 -1.218877e-01  ... -3.608474e-01           0.000000\n",
            "75%    6.399473e-01  6.057709e-01  ...  6.602056e-01           1.000000\n",
            "max    3.906578e+00  2.444478e+00  ...  4.063716e+00           1.000000\n",
            "\n",
            "[8 rows x 9 columns]\n",
            "\n",
            "    Embarazos   Glucosa   Presion  ...  DiabetesFamiliar      Edad  PacienteDiabetico\n",
            "0   0.639947  0.848324  0.149641  ...          0.468492  1.425995                1.0\n",
            "1  -0.844885 -1.123396 -0.160546  ...         -0.365061 -0.190672                0.0\n",
            "2   1.233880  1.943724 -0.263941  ...          0.604397 -0.105584                1.0\n",
            "3  -0.844885 -0.998208 -0.160546  ...         -0.920763 -1.041549                0.0\n",
            "4  -1.141852  0.504055 -1.504687  ...          5.484909 -0.020496                1.0\n",
            "\n",
            "[5 rows x 9 columns]\n"
          ],
          "name": "stdout"
        }
      ]
    },
    {
      "cell_type": "markdown",
      "metadata": {
        "id": "OZ9cXe5pZEkK",
        "colab_type": "text"
      },
      "source": [
        "Graficando datos:"
      ]
    },
    {
      "cell_type": "code",
      "metadata": {
        "id": "3uE5G5yiZGN7",
        "colab_type": "code",
        "outputId": "8d6ff7a7-e0dd-44dc-ece7-e5b22639d776",
        "colab": {
          "base_uri": "https://localhost:8080/",
          "height": 1000
        }
      },
      "source": [
        "# Distribuciones de la data y Correlaciones\n",
        "print(\"\\n Histogramas:\")\n",
        "plotHistogram(dataset_final)\n",
        "\n",
        "print(\"\\n Correlaciones:\")\n",
        "plotCorrelations(dataset_final)"
      ],
      "execution_count": 6,
      "outputs": [
        {
          "output_type": "stream",
          "text": [
            "\n",
            " Histogramas:\n"
          ],
          "name": "stdout"
        },
        {
          "output_type": "display_data",
          "data": {
            "image/png": "[encoded data removed]",
            "text/plain": [
              "<Figure size 1440x1008 with 9 Axes>"
            ]
          },
          "metadata": {
            "tags": []
          }
        },
        {
          "output_type": "stream",
          "text": [
            "\n",
            " Correlaciones:\n"
          ],
          "name": "stdout"
        },
        {
          "output_type": "display_data",
          "data": {
            "image/png": "[encoded data removed]",
            "text/plain": [
              "<Figure size 720x576 with 2 Axes>"
            ]
          },
          "metadata": {
            "tags": []
          }
        }
      ]
    },
    {
      "cell_type": "markdown",
      "metadata": {
        "id": "2d1U-5FXJ7OU",
        "colab_type": "text"
      },
      "source": [
        "Dividiendo data en conjuntos de Entrenamiento y Prueba:\n"
      ]
    },
    {
      "cell_type": "code",
      "metadata": {
        "id": "PuveIiylKCpF",
        "colab_type": "code",
        "colab": {}
      },
      "source": [
        "# Obteniendo valores a procesar\n",
        "X = dataset_final.iloc[:, 0:8].values\n",
        "y = dataset_final.iloc[:, 8].values\n",
        "\n",
        "# Dividiendo el Dataset en sets de Training y Test\n",
        "X_train, X_test, y_train, y_test = train_test_split(X, y, test_size = 0.2, random_state = 0)"
      ],
      "execution_count": 0,
      "outputs": []
    },
    {
      "cell_type": "markdown",
      "metadata": {
        "id": "5Wi1j84IZldb",
        "colab_type": "text"
      },
      "source": [
        "---\n",
        "## PARTE II - CONSTRUYENDO LA RED NEURONAL ARTIFICIAL\n",
        "---"
      ]
    },
    {
      "cell_type": "code",
      "metadata": {
        "id": "HwlyGxY_Ztc4",
        "colab_type": "code",
        "colab": {
          "base_uri": "https://localhost:8080/",
          "height": 202
        },
        "outputId": "7a59961a-18a6-4447-e960-dbbc06ad047f"
      },
      "source": [
        "# Importando Keras y Tensorflow\n",
        "from keras.models import Sequential\n",
        "from keras.layers import Dense\n",
        "from keras.initializers import RandomUniform\n",
        "\n",
        "# Inicializando la Red Neuronal\n",
        "neural_network = Sequential()\n",
        "\n",
        "# kernel_initializer Define la forma como se asignará los Pesos iniciales Wi\n",
        "initial_weights = RandomUniform(minval = -0.5, maxval = 0.5)\n",
        "\n",
        "# Agregado la Capa de entrada y la primera capa oculta\n",
        "# 10 Neuronas en la capa de entrada y 8 Neuronas en la primera capa oculta\n",
        "neural_network.add(Dense(units = 5, kernel_initializer = initial_weights, activation = 'relu', input_dim = 8))\n",
        "\n",
        "# Agregando capa oculta\n",
        "neural_network.add(Dense(units = 3, kernel_initializer = initial_weights, activation = 'relu'))\n",
        "\n",
        "# Agregando capa de salida\n",
        "neural_network.add(Dense(units = 1, kernel_initializer = initial_weights, activation = 'sigmoid'))"
      ],
      "execution_count": 8,
      "outputs": [
        {
          "output_type": "stream",
          "text": [
            "Using TensorFlow backend.\n"
          ],
          "name": "stderr"
        },
        {
          "output_type": "display_data",
          "data": {
            "text/html": [
              "<p style=\"color: red;\">\n",
              "The default version of TensorFlow in Colab will soon switch to TensorFlow 2.x.<br>\n",
              "We recommend you <a href=\"https://www.tensorflow.org/guide/migrate\" target=\"_blank\">upgrade</a> now \n",
              "or ensure your notebook will continue to use TensorFlow 1.x via the <code>%tensorflow_version 1.x</code> magic:\n",
              "<a href=\"https://colab.research.google.com/notebooks/tensorflow_version.ipynb\" target=\"_blank\">more info</a>.</p>\n"
            ],
            "text/plain": [
              "<IPython.core.display.HTML object>"
            ]
          },
          "metadata": {
            "tags": []
          }
        },
        {
          "output_type": "stream",
          "text": [
            "WARNING:tensorflow:From /usr/local/lib/python3.6/dist-packages/keras/backend/tensorflow_backend.py:66: The name tf.get_default_graph is deprecated. Please use tf.compat.v1.get_default_graph instead.\n",
            "\n",
            "WARNING:tensorflow:From /usr/local/lib/python3.6/dist-packages/keras/backend/tensorflow_backend.py:541: The name tf.placeholder is deprecated. Please use tf.compat.v1.placeholder instead.\n",
            "\n",
            "WARNING:tensorflow:From /usr/local/lib/python3.6/dist-packages/keras/backend/tensorflow_backend.py:4432: The name tf.random_uniform is deprecated. Please use tf.random.uniform instead.\n",
            "\n"
          ],
          "name": "stdout"
        }
      ]
    },
    {
      "cell_type": "markdown",
      "metadata": {
        "id": "_vtufIOTZwDy",
        "colab_type": "text"
      },
      "source": [
        "Arquitectura de la Red Neuronal Artificial:"
      ]
    },
    {
      "cell_type": "code",
      "metadata": {
        "id": "9YrVSTD0Z0cj",
        "colab_type": "code",
        "outputId": "4a9628ce-9a6e-4745-8e6b-772d3c74c352",
        "colab": {
          "base_uri": "https://localhost:8080/",
          "height": 255
        }
      },
      "source": [
        "# Imprimir Arquitectura de la Red\n",
        "neural_network.summary()"
      ],
      "execution_count": 9,
      "outputs": [
        {
          "output_type": "stream",
          "text": [
            "Model: \"sequential_1\"\n",
            "_________________________________________________________________\n",
            "Layer (type)                 Output Shape              Param #   \n",
            "=================================================================\n",
            "dense_1 (Dense)              (None, 5)                 45        \n",
            "_________________________________________________________________\n",
            "dense_2 (Dense)              (None, 3)                 18        \n",
            "_________________________________________________________________\n",
            "dense_3 (Dense)              (None, 1)                 4         \n",
            "=================================================================\n",
            "Total params: 67\n",
            "Trainable params: 67\n",
            "Non-trainable params: 0\n",
            "_________________________________________________________________\n"
          ],
          "name": "stdout"
        }
      ]
    },
    {
      "cell_type": "markdown",
      "metadata": {
        "id": "4LZkSTA6Z4zI",
        "colab_type": "text"
      },
      "source": [
        "Entrenamiento:"
      ]
    },
    {
      "cell_type": "code",
      "metadata": {
        "id": "j1xPCglyZ61i",
        "colab_type": "code",
        "outputId": "724ff26e-24df-4dc1-f331-9f8761fbb92e",
        "colab": {
          "base_uri": "https://localhost:8080/",
          "height": 1000
        }
      },
      "source": [
        "# Compilando la Red Neuronal\n",
        "# optimizer: Algoritmo de optimización | binary_crossentropy = 2 Classes\n",
        "# loss: error\n",
        "neural_network.compile(optimizer = 'adam', loss = 'binary_crossentropy', metrics = ['accuracy'])\n",
        "\n",
        "\n",
        "# Entrenamiento\n",
        "neural_network.fit(X_train, y_train, batch_size = 32, epochs = 100)"
      ],
      "execution_count": 10,
      "outputs": [
        {
          "output_type": "stream",
          "text": [
            "WARNING:tensorflow:From /usr/local/lib/python3.6/dist-packages/keras/optimizers.py:793: The name tf.train.Optimizer is deprecated. Please use tf.compat.v1.train.Optimizer instead.\n",
            "\n",
            "WARNING:tensorflow:From /usr/local/lib/python3.6/dist-packages/keras/backend/tensorflow_backend.py:3657: The name tf.log is deprecated. Please use tf.math.log instead.\n",
            "\n",
            "WARNING:tensorflow:From /usr/local/lib/python3.6/dist-packages/tensorflow_core/python/ops/nn_impl.py:183: where (from tensorflow.python.ops.array_ops) is deprecated and will be removed in a future version.\n",
            "Instructions for updating:\n",
            "Use tf.where in 2.0, which has the same broadcast rule as np.where\n",
            "WARNING:tensorflow:From /usr/local/lib/python3.6/dist-packages/keras/backend/tensorflow_backend.py:1033: The name tf.assign_add is deprecated. Please use tf.compat.v1.assign_add instead.\n",
            "\n",
            "WARNING:tensorflow:From /usr/local/lib/python3.6/dist-packages/keras/backend/tensorflow_backend.py:1020: The name tf.assign is deprecated. Please use tf.compat.v1.assign instead.\n",
            "\n",
            "WARNING:tensorflow:From /usr/local/lib/python3.6/dist-packages/keras/backend/tensorflow_backend.py:3005: The name tf.Session is deprecated. Please use tf.compat.v1.Session instead.\n",
            "\n",
            "Epoch 1/100\n",
            "WARNING:tensorflow:From /usr/local/lib/python3.6/dist-packages/keras/backend/tensorflow_backend.py:190: The name tf.get_default_session is deprecated. Please use tf.compat.v1.get_default_session instead.\n",
            "\n",
            "WARNING:tensorflow:From /usr/local/lib/python3.6/dist-packages/keras/backend/tensorflow_backend.py:197: The name tf.ConfigProto is deprecated. Please use tf.compat.v1.ConfigProto instead.\n",
            "\n",
            "WARNING:tensorflow:From /usr/local/lib/python3.6/dist-packages/keras/backend/tensorflow_backend.py:207: The name tf.global_variables is deprecated. Please use tf.compat.v1.global_variables instead.\n",
            "\n",
            "WARNING:tensorflow:From /usr/local/lib/python3.6/dist-packages/keras/backend/tensorflow_backend.py:216: The name tf.is_variable_initialized is deprecated. Please use tf.compat.v1.is_variable_initialized instead.\n",
            "\n",
            "WARNING:tensorflow:From /usr/local/lib/python3.6/dist-packages/keras/backend/tensorflow_backend.py:223: The name tf.variables_initializer is deprecated. Please use tf.compat.v1.variables_initializer instead.\n",
            "\n",
            "614/614 [==============================] - 5s 8ms/step - loss: 0.6919 - acc: 0.6401\n",
            "Epoch 2/100\n",
            "614/614 [==============================] - 0s 146us/step - loss: 0.6881 - acc: 0.6401\n",
            "Epoch 3/100\n",
            "614/614 [==============================] - 0s 143us/step - loss: 0.6836 - acc: 0.6401\n",
            "Epoch 4/100\n",
            "614/614 [==============================] - 0s 156us/step - loss: 0.6765 - acc: 0.6401\n",
            "Epoch 5/100\n",
            "614/614 [==============================] - 0s 143us/step - loss: 0.6666 - acc: 0.6401\n",
            "Epoch 6/100\n",
            "614/614 [==============================] - 0s 143us/step - loss: 0.6537 - acc: 0.6401\n",
            "Epoch 7/100\n",
            "614/614 [==============================] - 0s 144us/step - loss: 0.6407 - acc: 0.6401\n",
            "Epoch 8/100\n",
            "614/614 [==============================] - 0s 158us/step - loss: 0.6276 - acc: 0.6401\n",
            "Epoch 9/100\n",
            "614/614 [==============================] - 0s 152us/step - loss: 0.6146 - acc: 0.6401\n",
            "Epoch 10/100\n",
            "614/614 [==============================] - 0s 164us/step - loss: 0.6021 - acc: 0.6401\n",
            "Epoch 11/100\n",
            "614/614 [==============================] - 0s 164us/step - loss: 0.5906 - acc: 0.6401\n",
            "Epoch 12/100\n",
            "614/614 [==============================] - 0s 147us/step - loss: 0.5800 - acc: 0.6401\n",
            "Epoch 13/100\n",
            "614/614 [==============================] - 0s 174us/step - loss: 0.5710 - acc: 0.6401\n",
            "Epoch 14/100\n",
            "614/614 [==============================] - 0s 161us/step - loss: 0.5631 - acc: 0.6401\n",
            "Epoch 15/100\n",
            "614/614 [==============================] - 0s 150us/step - loss: 0.5560 - acc: 0.6401\n",
            "Epoch 16/100\n",
            "614/614 [==============================] - 0s 145us/step - loss: 0.5502 - acc: 0.6401\n",
            "Epoch 17/100\n",
            "614/614 [==============================] - 0s 143us/step - loss: 0.5447 - acc: 0.6401\n",
            "Epoch 18/100\n",
            "614/614 [==============================] - 0s 142us/step - loss: 0.5399 - acc: 0.6401\n",
            "Epoch 19/100\n",
            "614/614 [==============================] - 0s 139us/step - loss: 0.5358 - acc: 0.6401\n",
            "Epoch 20/100\n",
            "614/614 [==============================] - 0s 136us/step - loss: 0.5321 - acc: 0.6401\n",
            "Epoch 21/100\n",
            "614/614 [==============================] - 0s 142us/step - loss: 0.5289 - acc: 0.6401\n",
            "Epoch 22/100\n",
            "614/614 [==============================] - 0s 176us/step - loss: 0.5263 - acc: 0.6401\n",
            "Epoch 23/100\n",
            "614/614 [==============================] - 0s 143us/step - loss: 0.5239 - acc: 0.6401\n",
            "Epoch 24/100\n",
            "614/614 [==============================] - 0s 140us/step - loss: 0.5214 - acc: 0.6401\n",
            "Epoch 25/100\n",
            "614/614 [==============================] - 0s 147us/step - loss: 0.5194 - acc: 0.6401\n",
            "Epoch 26/100\n",
            "614/614 [==============================] - 0s 140us/step - loss: 0.5174 - acc: 0.6401\n",
            "Epoch 27/100\n",
            "614/614 [==============================] - 0s 137us/step - loss: 0.5155 - acc: 0.6401\n",
            "Epoch 28/100\n",
            "614/614 [==============================] - 0s 161us/step - loss: 0.5136 - acc: 0.7508\n",
            "Epoch 29/100\n",
            "614/614 [==============================] - 0s 146us/step - loss: 0.5118 - acc: 0.7541\n",
            "Epoch 30/100\n",
            "614/614 [==============================] - 0s 139us/step - loss: 0.5103 - acc: 0.7606\n",
            "Epoch 31/100\n",
            "614/614 [==============================] - 0s 154us/step - loss: 0.5088 - acc: 0.7622\n",
            "Epoch 32/100\n",
            "614/614 [==============================] - 0s 139us/step - loss: 0.5070 - acc: 0.7638\n",
            "Epoch 33/100\n",
            "614/614 [==============================] - 0s 166us/step - loss: 0.5056 - acc: 0.7704\n",
            "Epoch 34/100\n",
            "614/614 [==============================] - 0s 148us/step - loss: 0.5044 - acc: 0.7720\n",
            "Epoch 35/100\n",
            "614/614 [==============================] - 0s 140us/step - loss: 0.5031 - acc: 0.7752\n",
            "Epoch 36/100\n",
            "614/614 [==============================] - 0s 158us/step - loss: 0.5020 - acc: 0.7769\n",
            "Epoch 37/100\n",
            "614/614 [==============================] - 0s 146us/step - loss: 0.5012 - acc: 0.7785\n",
            "Epoch 38/100\n",
            "614/614 [==============================] - 0s 137us/step - loss: 0.4999 - acc: 0.7801\n",
            "Epoch 39/100\n",
            "614/614 [==============================] - 0s 134us/step - loss: 0.4987 - acc: 0.7834\n",
            "Epoch 40/100\n",
            "614/614 [==============================] - 0s 146us/step - loss: 0.4980 - acc: 0.7818\n",
            "Epoch 41/100\n",
            "614/614 [==============================] - 0s 144us/step - loss: 0.4971 - acc: 0.7801\n",
            "Epoch 42/100\n",
            "614/614 [==============================] - 0s 165us/step - loss: 0.4964 - acc: 0.7801\n",
            "Epoch 43/100\n",
            "614/614 [==============================] - 0s 146us/step - loss: 0.4954 - acc: 0.7834\n",
            "Epoch 44/100\n",
            "614/614 [==============================] - 0s 168us/step - loss: 0.4943 - acc: 0.7818\n",
            "Epoch 45/100\n",
            "614/614 [==============================] - 0s 144us/step - loss: 0.4936 - acc: 0.7818\n",
            "Epoch 46/100\n",
            "614/614 [==============================] - 0s 151us/step - loss: 0.4928 - acc: 0.7818\n",
            "Epoch 47/100\n",
            "614/614 [==============================] - 0s 156us/step - loss: 0.4921 - acc: 0.7818\n",
            "Epoch 48/100\n",
            "614/614 [==============================] - 0s 141us/step - loss: 0.4914 - acc: 0.7801\n",
            "Epoch 49/100\n",
            "614/614 [==============================] - 0s 156us/step - loss: 0.4905 - acc: 0.7801\n",
            "Epoch 50/100\n",
            "614/614 [==============================] - 0s 144us/step - loss: 0.4900 - acc: 0.7801\n",
            "Epoch 51/100\n",
            "614/614 [==============================] - 0s 139us/step - loss: 0.4894 - acc: 0.7866\n",
            "Epoch 52/100\n",
            "614/614 [==============================] - 0s 138us/step - loss: 0.4883 - acc: 0.7866\n",
            "Epoch 53/100\n",
            "614/614 [==============================] - 0s 141us/step - loss: 0.4876 - acc: 0.7883\n",
            "Epoch 54/100\n",
            "614/614 [==============================] - 0s 142us/step - loss: 0.4871 - acc: 0.7899\n",
            "Epoch 55/100\n",
            "614/614 [==============================] - 0s 166us/step - loss: 0.4864 - acc: 0.7883\n",
            "Epoch 56/100\n",
            "614/614 [==============================] - 0s 143us/step - loss: 0.4855 - acc: 0.7866\n",
            "Epoch 57/100\n",
            "614/614 [==============================] - 0s 155us/step - loss: 0.4849 - acc: 0.7883\n",
            "Epoch 58/100\n",
            "614/614 [==============================] - 0s 136us/step - loss: 0.4845 - acc: 0.7866\n",
            "Epoch 59/100\n",
            "614/614 [==============================] - 0s 147us/step - loss: 0.4838 - acc: 0.7883\n",
            "Epoch 60/100\n",
            "614/614 [==============================] - 0s 135us/step - loss: 0.4831 - acc: 0.7899\n",
            "Epoch 61/100\n",
            "614/614 [==============================] - 0s 138us/step - loss: 0.4826 - acc: 0.7883\n",
            "Epoch 62/100\n",
            "614/614 [==============================] - 0s 139us/step - loss: 0.4822 - acc: 0.7899\n",
            "Epoch 63/100\n",
            "614/614 [==============================] - 0s 139us/step - loss: 0.4811 - acc: 0.7899\n",
            "Epoch 64/100\n",
            "614/614 [==============================] - 0s 143us/step - loss: 0.4806 - acc: 0.7915\n",
            "Epoch 65/100\n",
            "614/614 [==============================] - 0s 142us/step - loss: 0.4802 - acc: 0.7932\n",
            "Epoch 66/100\n",
            "614/614 [==============================] - 0s 144us/step - loss: 0.4797 - acc: 0.7899\n",
            "Epoch 67/100\n",
            "614/614 [==============================] - 0s 155us/step - loss: 0.4790 - acc: 0.7915\n",
            "Epoch 68/100\n",
            "614/614 [==============================] - 0s 156us/step - loss: 0.4783 - acc: 0.7883\n",
            "Epoch 69/100\n",
            "614/614 [==============================] - 0s 145us/step - loss: 0.4779 - acc: 0.7899\n",
            "Epoch 70/100\n",
            "614/614 [==============================] - 0s 136us/step - loss: 0.4774 - acc: 0.7883\n",
            "Epoch 71/100\n",
            "614/614 [==============================] - 0s 147us/step - loss: 0.4769 - acc: 0.7899\n",
            "Epoch 72/100\n",
            "614/614 [==============================] - 0s 140us/step - loss: 0.4762 - acc: 0.7915\n",
            "Epoch 73/100\n",
            "614/614 [==============================] - 0s 139us/step - loss: 0.4757 - acc: 0.7915\n",
            "Epoch 74/100\n",
            "614/614 [==============================] - 0s 145us/step - loss: 0.4752 - acc: 0.7899\n",
            "Epoch 75/100\n",
            "614/614 [==============================] - 0s 145us/step - loss: 0.4751 - acc: 0.7866\n",
            "Epoch 76/100\n",
            "614/614 [==============================] - 0s 141us/step - loss: 0.4743 - acc: 0.7883\n",
            "Epoch 77/100\n",
            "614/614 [==============================] - 0s 144us/step - loss: 0.4738 - acc: 0.7883\n",
            "Epoch 78/100\n",
            "614/614 [==============================] - 0s 158us/step - loss: 0.4733 - acc: 0.7899\n",
            "Epoch 79/100\n",
            "614/614 [==============================] - 0s 141us/step - loss: 0.4730 - acc: 0.7899\n",
            "Epoch 80/100\n",
            "614/614 [==============================] - 0s 136us/step - loss: 0.4725 - acc: 0.7899\n",
            "Epoch 81/100\n",
            "614/614 [==============================] - 0s 142us/step - loss: 0.4726 - acc: 0.7899\n",
            "Epoch 82/100\n",
            "614/614 [==============================] - 0s 141us/step - loss: 0.4717 - acc: 0.7866\n",
            "Epoch 83/100\n",
            "614/614 [==============================] - 0s 143us/step - loss: 0.4714 - acc: 0.7866\n",
            "Epoch 84/100\n",
            "614/614 [==============================] - 0s 142us/step - loss: 0.4710 - acc: 0.7850\n",
            "Epoch 85/100\n",
            "614/614 [==============================] - 0s 151us/step - loss: 0.4703 - acc: 0.7866\n",
            "Epoch 86/100\n",
            "614/614 [==============================] - 0s 146us/step - loss: 0.4699 - acc: 0.7866\n",
            "Epoch 87/100\n",
            "614/614 [==============================] - 0s 151us/step - loss: 0.4694 - acc: 0.7850\n",
            "Epoch 88/100\n",
            "614/614 [==============================] - 0s 142us/step - loss: 0.4693 - acc: 0.7883\n",
            "Epoch 89/100\n",
            "614/614 [==============================] - 0s 149us/step - loss: 0.4686 - acc: 0.7818\n",
            "Epoch 90/100\n",
            "614/614 [==============================] - 0s 166us/step - loss: 0.4684 - acc: 0.7883\n",
            "Epoch 91/100\n",
            "614/614 [==============================] - 0s 165us/step - loss: 0.4678 - acc: 0.7866\n",
            "Epoch 92/100\n",
            "614/614 [==============================] - 0s 151us/step - loss: 0.4674 - acc: 0.7834\n",
            "Epoch 93/100\n",
            "614/614 [==============================] - 0s 170us/step - loss: 0.4669 - acc: 0.7850\n",
            "Epoch 94/100\n",
            "614/614 [==============================] - 0s 150us/step - loss: 0.4666 - acc: 0.7866\n",
            "Epoch 95/100\n",
            "614/614 [==============================] - 0s 135us/step - loss: 0.4661 - acc: 0.7834\n",
            "Epoch 96/100\n",
            "614/614 [==============================] - 0s 137us/step - loss: 0.4658 - acc: 0.7883\n",
            "Epoch 97/100\n",
            "614/614 [==============================] - 0s 144us/step - loss: 0.4649 - acc: 0.7866\n",
            "Epoch 98/100\n",
            "614/614 [==============================] - 0s 135us/step - loss: 0.4646 - acc: 0.7866\n",
            "Epoch 99/100\n",
            "614/614 [==============================] - 0s 138us/step - loss: 0.4641 - acc: 0.7899\n",
            "Epoch 100/100\n",
            "614/614 [==============================] - 0s 147us/step - loss: 0.4638 - acc: 0.7866\n"
          ],
          "name": "stdout"
        },
        {
          "output_type": "execute_result",
          "data": {
            "text/plain": [
              "<keras.callbacks.History at 0x7feaa77827f0>"
            ]
          },
          "metadata": {
            "tags": []
          },
          "execution_count": 10
        }
      ]
    },
    {
      "cell_type": "markdown",
      "metadata": {
        "id": "wRk23KN0Z_L8",
        "colab_type": "text"
      },
      "source": [
        "---\n",
        "## PARTE III - PREDICCIONES Y EVALUACIONES DE LA RED\n",
        "---"
      ]
    },
    {
      "cell_type": "code",
      "metadata": {
        "id": "6-bkah_jaKo2",
        "colab_type": "code",
        "colab": {}
      },
      "source": [
        "# Haciendo predicción de los resultados del Test\n",
        "y_pred = neural_network.predict(X_test)\n",
        "y_pred_norm = (y_pred > 0.5)\n",
        "\n",
        "y_pred_norm = y_pred_norm.astype(int)\n",
        "y_test = y_test.astype(int)\n"
      ],
      "execution_count": 0,
      "outputs": []
    },
    {
      "cell_type": "markdown",
      "metadata": {
        "id": "VE49E-iHaMM9",
        "colab_type": "text"
      },
      "source": [
        "Aplicando la Matriz de Confusión:"
      ]
    },
    {
      "cell_type": "code",
      "metadata": {
        "id": "_spodbINaRRr",
        "colab_type": "code",
        "outputId": "6859d562-f918-4c2c-e84e-752b1c6dc30d",
        "colab": {
          "base_uri": "https://localhost:8080/",
          "height": 85
        }
      },
      "source": [
        "# Aplicando la Matriz de Confusión\n",
        "from sklearn.metrics import confusion_matrix\n",
        "cm = confusion_matrix(y_test, y_pred_norm)\n",
        "print (\"\\nMatriz de Confusión: \\n\", cm)"
      ],
      "execution_count": 12,
      "outputs": [
        {
          "output_type": "stream",
          "text": [
            "\n",
            "Matriz de Confusión: \n",
            " [[91 16]\n",
            " [16 31]]\n"
          ],
          "name": "stdout"
        }
      ]
    },
    {
      "cell_type": "markdown",
      "metadata": {
        "id": "fBAH2hDYWCya",
        "colab_type": "text"
      },
      "source": [
        "Graficando la Matriz de Confusión:"
      ]
    },
    {
      "cell_type": "code",
      "metadata": {
        "id": "2m1ZYV8aaY_i",
        "colab_type": "code",
        "outputId": "16f5121f-3ad8-4752-c1cd-8162355946bf",
        "colab": {
          "base_uri": "https://localhost:8080/",
          "height": 365
        }
      },
      "source": [
        "plot_confusion_matrix(y_test, y_pred_norm, normalize=False,title=\"Matriz de Confusión: Paciente Con Diabetes\")"
      ],
      "execution_count": 13,
      "outputs": [
        {
          "output_type": "stream",
          "text": [
            "Matriz de Confusión sin Normalizar\n",
            "[[91 16]\n",
            " [16 31]]\n"
          ],
          "name": "stdout"
        },
        {
          "output_type": "display_data",
          "data": {
            "image/png": "[encoded data removed]",
            "text/plain": [
              "<Figure size 432x288 with 2 Axes>"
            ]
          },
          "metadata": {
            "tags": []
          }
        },
        {
          "output_type": "execute_result",
          "data": {
            "text/plain": [
              "<matplotlib.axes._subplots.AxesSubplot at 0x7fea6e440f60>"
            ]
          },
          "metadata": {
            "tags": []
          },
          "execution_count": 13
        }
      ]
    },
    {
      "cell_type": "code",
      "metadata": {
        "id": "ZKJq794CIv3R",
        "colab_type": "code",
        "colab": {
          "base_uri": "https://localhost:8080/",
          "height": 34
        },
        "outputId": "d8a84bbf-50b4-4837-9963-053c7553dd0e"
      },
      "source": [
        "def saveModel(model, full_path, model_name_h5):\n",
        "    # Guardar el modelo en disco: Model and Architecture to single file\n",
        "    final_model_name = full_path + model_name_h5\n",
        "    model.save(final_model_name)\n",
        "    return final_model_name\n",
        "    \n",
        "base_path = ''\n",
        "# Guardando StandardScaler a disco\n",
        "saveFile(stdScaler,\"\".join([base_path,\"model/stdScaler.save\"]))\n",
        "\n",
        "# Guardar la RNA en disco\n",
        "model_file_name = saveModel(neural_network,\"\".join([base_path,\"model/\"]),\"diabetes_model.h5\")\n",
        "print(\"Modelo guardado en disco >> \", model_file_name)\n"
      ],
      "execution_count": 15,
      "outputs": [
        {
          "output_type": "stream",
          "text": [
            "Modelo guardado en disco >>  model/diabetes_model.h5\n"
          ],
          "name": "stdout"
        }
      ]
    },
    {
      "cell_type": "code",
      "metadata": {
        "id": "jxneuta8JURb",
        "colab_type": "code",
        "colab": {
          "base_uri": "https://localhost:8080/",
          "height": 425
        },
        "outputId": "d13b94f7-5359-488e-9cbd-c645a07e1718"
      },
      "source": [
        "from tensorflow import keras\n",
        "\n",
        "model = keras.models.load_model('model/diabetes_model.h5')\n",
        "\n",
        "keras.experimental.export_saved_model(model, 'modelo_diabetes/')\n"
      ],
      "execution_count": 20,
      "outputs": [
        {
          "output_type": "stream",
          "text": [
            "INFO:tensorflow:Signatures INCLUDED in export for Classify: None\n",
            "INFO:tensorflow:Signatures INCLUDED in export for Regress: None\n",
            "INFO:tensorflow:Signatures INCLUDED in export for Predict: None\n",
            "INFO:tensorflow:Signatures INCLUDED in export for Train: ['train']\n",
            "INFO:tensorflow:Signatures INCLUDED in export for Eval: None\n",
            "WARNING:tensorflow:Export includes no default signature!\n",
            "INFO:tensorflow:No assets to save.\n",
            "INFO:tensorflow:No assets to write.\n",
            "INFO:tensorflow:Signatures INCLUDED in export for Classify: None\n",
            "INFO:tensorflow:Signatures INCLUDED in export for Regress: None\n",
            "INFO:tensorflow:Signatures INCLUDED in export for Predict: None\n",
            "INFO:tensorflow:Signatures INCLUDED in export for Train: None\n",
            "INFO:tensorflow:Signatures INCLUDED in export for Eval: ['eval']\n",
            "WARNING:tensorflow:Export includes no default signature!\n",
            "INFO:tensorflow:No assets to save.\n",
            "INFO:tensorflow:No assets to write.\n",
            "INFO:tensorflow:Signatures INCLUDED in export for Classify: None\n",
            "INFO:tensorflow:Signatures INCLUDED in export for Regress: None\n",
            "INFO:tensorflow:Signatures INCLUDED in export for Predict: ['serving_default']\n",
            "INFO:tensorflow:Signatures INCLUDED in export for Train: None\n",
            "INFO:tensorflow:Signatures INCLUDED in export for Eval: None\n",
            "INFO:tensorflow:No assets to save.\n",
            "INFO:tensorflow:No assets to write.\n",
            "INFO:tensorflow:SavedModel written to: modelo_diabetes/saved_model.pb\n"
          ],
          "name": "stdout"
        }
      ]
    }
  ]
}