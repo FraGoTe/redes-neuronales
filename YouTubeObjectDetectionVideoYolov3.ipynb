{
  "nbformat": 4,
  "nbformat_minor": 0,
  "metadata": {
    "colab": {
      "name": "yolov3-object-detection-video.ipynb",
      "provenance": [],
      "collapsed_sections": [],
      "toc_visible": true,
      "include_colab_link": true
    },
    "kernelspec": {
      "name": "python3",
      "display_name": "Python 3"
    },
    "accelerator": "GPU"
  },
  "cells": [
    {
      "cell_type": "markdown",
      "metadata": {
        "id": "view-in-github",
        "colab_type": "text"
      },
      "source": [
        "<a href=\"https://colab.research.google.com/github/FraGoTe/redes-neuronales/blob/master/YouTubeObjectDetectionVideoYolov3.ipynb\" target=\"_parent\"><img src=\"https://colab.research.google.com/assets/colab-badge.svg\" alt=\"Open In Colab\"/></a>"
      ]
    },
    {
      "cell_type": "markdown",
      "metadata": {
        "id": "EWKGalum0ND4",
        "colab_type": "text"
      },
      "source": [
        "### DETECCIÓN DE OBJETOS - MODELO YOLOv3 (Videos)\n",
        "Créditos: https://www.pyimagesearch.com/2018/11/12/yolo-object-detection-with-opencv "
      ]
    },
    {
      "cell_type": "code",
      "metadata": {
        "id": "uBiC5k9_0O5Q",
        "colab_type": "code",
        "outputId": "3449db6e-6ec8-4995-90d7-487ffb99e945",
        "colab": {
          "base_uri": "https://localhost:8080/",
          "height": 190
        }
      },
      "source": [
        "!pip uninstall -f opencv-python\n",
        "!pip install opencv-python==4.1.2.30\n",
        "!pip install pafy\n",
        "!pip install youtube_dl\n",
        "#import pkg_resources\n",
        "#pkg_resources.require(\"opencv-python==4.1.2.30\")\n"
      ],
      "execution_count": 41,
      "outputs": [
        {
          "output_type": "stream",
          "text": [
            "\n",
            "Usage:   \n",
            "  pip3 uninstall [options] <package> ...\n",
            "  pip3 uninstall [options] -r <requirements file> ...\n",
            "\n",
            "no such option: -f\n",
            "Requirement already satisfied: opencv-python==4.1.2.30 in /usr/local/lib/python3.6/dist-packages (4.1.2.30)\n",
            "Requirement already satisfied: numpy>=1.11.3 in /usr/local/lib/python3.6/dist-packages (from opencv-python==4.1.2.30) (1.17.4)\n",
            "Requirement already satisfied: pafy in /usr/local/lib/python3.6/dist-packages (0.5.5)\n",
            "Requirement already satisfied: youtube_dl in /usr/local/lib/python3.6/dist-packages (2019.11.22)\n"
          ],
          "name": "stdout"
        }
      ]
    },
    {
      "cell_type": "code",
      "metadata": {
        "id": "RqW_SddZ0cZ3",
        "colab_type": "code",
        "outputId": "3443ccae-17ee-473e-dc8e-cf050496dc5d",
        "colab": {
          "base_uri": "https://localhost:8080/",
          "height": 34
        }
      },
      "source": [
        "#import pkg_resources\n",
        "#pkg_resources.require(\"opencv-python==4.1.2.30\")\n",
        "import cv2\n",
        "\n",
        "print(cv2.__version__)"
      ],
      "execution_count": 43,
      "outputs": [
        {
          "output_type": "stream",
          "text": [
            "4.1.2\n"
          ],
          "name": "stdout"
        }
      ]
    },
    {
      "cell_type": "code",
      "metadata": {
        "id": "ZpsIniRraTXL",
        "colab_type": "code",
        "colab": {
          "base_uri": "https://localhost:8080/",
          "height": 34
        },
        "outputId": "f266a32a-a740-4fa1-e3af-78563942439e"
      },
      "source": [
        "mkdir output"
      ],
      "execution_count": 44,
      "outputs": [
        {
          "output_type": "stream",
          "text": [
            "mkdir: cannot create directory ‘output’: File exists\n"
          ],
          "name": "stdout"
        }
      ]
    },
    {
      "cell_type": "code",
      "metadata": {
        "id": "E0Wq7z0nwQb_",
        "colab_type": "code",
        "colab": {}
      },
      "source": [
        "# import the necessary packages\n",
        "import numpy as np\n",
        "import imutils\n",
        "import time\n",
        "import cv2\n",
        "import pafy\n",
        "\n",
        "\n",
        "path_project = \"/content/\"\n",
        "\n",
        "CONFIDENCE = 0.5\n",
        "THREASHOLD = 0.3"
      ],
      "execution_count": 0,
      "outputs": []
    },
    {
      "cell_type": "markdown",
      "metadata": {
        "id": "XOFmk82KClI4",
        "colab_type": "text"
      },
      "source": [
        "**Cargando el modelo YOLO**"
      ]
    },
    {
      "cell_type": "code",
      "metadata": {
        "id": "N31YRZlACoSc",
        "colab_type": "code",
        "outputId": "1546360a-82d7-4f99-ee3d-64ea7449df91",
        "colab": {
          "base_uri": "https://localhost:8080/",
          "height": 34
        }
      },
      "source": [
        "# Cargando las classes (categorias) del modelo pre-entrenado (COCO dataset)\n",
        "labelsModelo = \"\".join([path_project,\"/model\",\"/coco\",\"/model.names_es.txt\"])\n",
        "LABELS = open(labelsModelo).read().strip().split(\"\\n\")\n",
        "\n",
        "# Inicializar un color aleatorio para ser usado en identificar cada clase (rectángulo que identifica la clase)\n",
        "np.random.seed(42)\n",
        "COLORS = np.random.randint(0, 255, size=(len(LABELS), 3),\tdtype=\"uint8\")\n",
        "\n",
        "# Cargando los pesos y configuración del modelo pre-entrenado (COCO dataset)\n",
        "configModelo = \"\".join([path_project,\"/model\",\"/coco\",\"/model.cfg\"])\n",
        "pesosModelo = \"\".join([path_project,\"/model\",\"/coco\",\"/model.weights\"])\n",
        "\n",
        "# Cargar el modelo detector de objetos YOLO (COCO dataset con 80 classes)\n",
        "print(\"[INFO] Modelo YOLO cargado desde el disco ...\")\n",
        "net = cv2.dnn.readNetFromDarknet(configModelo, pesosModelo)\n",
        "ln = net.getLayerNames()\n",
        "ln = [ln[i[0] - 1] for i in net.getUnconnectedOutLayers()]"
      ],
      "execution_count": 47,
      "outputs": [
        {
          "output_type": "stream",
          "text": [
            "[INFO] Modelo YOLO cargado desde el disco ...\n"
          ],
          "name": "stdout"
        }
      ]
    },
    {
      "cell_type": "markdown",
      "metadata": {
        "id": "BmriK8GQC0NN",
        "colab_type": "text"
      },
      "source": [
        "**Cargando video a analizar en modo streaming**"
      ]
    },
    {
      "cell_type": "code",
      "metadata": {
        "id": "XQES25SR27k2",
        "colab_type": "code",
        "outputId": "5927cc1d-d2e4-4a5a-8f9d-fe3572b2c876",
        "colab": {
          "base_uri": "https://localhost:8080/",
          "height": 34
        }
      },
      "source": [
        "# Video frame dimensions\n",
        "# video_name = \"\".join([path_project,\"/input\",\"/videos\",\"/lima-city3.mp4\"])\n",
        "# video_name = \"\".join([path_project,\"/input\",\"/videos\",\"/gaston-acurio.mp4\"])\n",
        "\n",
        "url = 'https://www.youtube.com/watch?v=qpYABrF888o'\n",
        "vPafy = pafy.new(url)\n",
        "play = vPafy.getbest(preftype=\"webm\")\n",
        "\n",
        "vs = cv2.VideoCapture(play.url)\n",
        "writer = None\n",
        "(W, H) = (None, None)\n",
        "\n",
        "\n",
        "# try to determine the total number of frames in the video file\n",
        "try:\n",
        "\tprop = cv2.cv.CV_CAP_PROP_FRAME_COUNT if imutils.is_cv2() else cv2.CAP_PROP_FRAME_COUNT\n",
        "\ttotal = int(vs.get(prop))\n",
        "\tprint(\"[INFO] {} total frames in video\".format(total))\n",
        "\n",
        "# an error occurred while trying to determine the total\n",
        "# number of frames in the video file\n",
        "except:\n",
        "\tprint(\"[INFO] could not determine # of frames in video\")\n",
        "\tprint(\"[INFO] no approx. completion time can be provided\")\n",
        "\ttotal = -1"
      ],
      "execution_count": 48,
      "outputs": [
        {
          "output_type": "stream",
          "text": [
            "[INFO] 112048 total frames in video\n"
          ],
          "name": "stdout"
        }
      ]
    },
    {
      "cell_type": "markdown",
      "metadata": {
        "id": "m1UF87UiKgjT",
        "colab_type": "text"
      },
      "source": [
        "**Iterando sobre los frames del video**"
      ]
    },
    {
      "cell_type": "code",
      "metadata": {
        "id": "isy5qfB2QyJU",
        "colab_type": "code",
        "cellView": "both",
        "outputId": "eb545ff2-3ca7-470b-82c4-9bf446e8f24a",
        "colab": {
          "base_uri": "https://localhost:8080/",
          "height": 123
        }
      },
      "source": [
        "# loop over frames from the video file stream\n",
        "while True:\n",
        "\t# read the next frame from the file\n",
        "\t(grabbed, frame) = vs.read()\n",
        "\n",
        "\t# if the frame was not grabbed, then we have reached the end\n",
        "\t# of the stream\n",
        "\tif not grabbed:\n",
        "\t\tbreak\n",
        "\n",
        "\t# if the frame dimensions are empty, grab them\n",
        "\tif W is None or H is None:\n",
        "\t\t(H, W) = frame.shape[:2]\n",
        "\n",
        "\t# construct a blob from the input frame and then perform a forward\n",
        "\t# pass of the YOLO object detector, giving us our bounding boxes\n",
        "\t# and associated probabilities\n",
        "\tblob = cv2.dnn.blobFromImage(frame, 1 / 255.0, (416, 416), swapRB=True, crop=False)\n",
        "\tnet.setInput(blob)\n",
        "\tstart = time.time()\n",
        "\tlayerOutputs = net.forward(ln)\n",
        "\tend = time.time()\n",
        "\n",
        "\t# initialize our lists of detected bounding boxes, confidences,\n",
        "\t# and class IDs, respectively\n",
        "\tboxes = []\n",
        "\tconfidences = []\n",
        "\tclassIDs = []\n",
        "\n",
        "\t# loop over each of the layer outputs\n",
        "\tfor output in layerOutputs:\n",
        "\t\t# loop over each of the detections\n",
        "\t\tfor detection in output:\n",
        "\t\t\t# extract the class ID and confidence (i.e., probability)\n",
        "\t\t\t# of the current object detection\n",
        "\t\t\tscores = detection[5:]\n",
        "\t\t\tclassID = np.argmax(scores)\n",
        "\t\t\tconfidence = scores[classID]\n",
        "\n",
        "\t\t\t# filter out weak predictions by ensuring the detected\n",
        "\t\t\t# probability is greater than the minimum probability\n",
        "\t\t\tif confidence > CONFIDENCE:\n",
        "\t\t\t\t# scale the bounding box coordinates back relative to\n",
        "\t\t\t\t# the size of the image, keeping in mind that YOLO\n",
        "\t\t\t\t# actually returns the center (x, y)-coordinates of\n",
        "\t\t\t\t# the bounding box followed by the boxes' width and\n",
        "\t\t\t\t# height\n",
        "\t\t\t\tbox = detection[0:4] * np.array([W, H, W, H])\n",
        "\t\t\t\t(centerX, centerY, width, height) = box.astype(\"int\")\n",
        "\n",
        "\t\t\t\t# use the center (x, y)-coordinates to derive the top\n",
        "\t\t\t\t# and and left corner of the bounding box\n",
        "\t\t\t\tx = int(centerX - (width / 2))\n",
        "\t\t\t\ty = int(centerY - (height / 2))\n",
        "\n",
        "\t\t\t\t# update our list of bounding box coordinates,\n",
        "\t\t\t\t# confidences, and class IDs\n",
        "\t\t\t\tboxes.append([x, y, int(width), int(height)])\n",
        "\t\t\t\tconfidences.append(float(confidence))\n",
        "\t\t\t\tclassIDs.append(classID)\n",
        "\n",
        "\t# apply non-maxima suppression to suppress weak, overlapping\n",
        "\t# bounding boxes\n",
        "\tidxs = cv2.dnn.NMSBoxes(boxes, confidences, CONFIDENCE, THREASHOLD)\n",
        "\n",
        "\t# ensure at least one detection exists\n",
        "\tif len(idxs) > 0:\n",
        "\t\t# loop over the indexes we are keeping\n",
        "\t\tfor i in idxs.flatten():\n",
        "\t\t\t# extract the bounding box coordinates\n",
        "\t\t\t(x, y) = (boxes[i][0], boxes[i][1])\n",
        "\t\t\t(w, h) = (boxes[i][2], boxes[i][3])\n",
        "\n",
        "\t\t\t# draw a bounding box rectangle and label on the frame\n",
        "\t\t\tcolor = [int(c) for c in COLORS[classIDs[i]]]\n",
        "\t\t\tcv2.rectangle(frame, (x, y), (x + w, y + h), color, 2)\n",
        "\t\t\ttext = \"{}: {:.4f}\".format(LABELS[classIDs[i]], confidences[i])\n",
        "\t\t\tcv2.putText(frame, text, (x, y - 5), cv2.FONT_HERSHEY_SIMPLEX, 0.5, color, 2)\n",
        "\n",
        "\t# check if the video writer is None\n",
        "\tif writer is None:\n",
        "\t\t\t# initialize our video writer\n",
        "\t\t\tfourcc = cv2.VideoWriter_fourcc(*\"MJPG\")\n",
        "\t\t\tvideo_output = \"\".join([path_project,\"/output\",\"/video_output.avi\"])\n",
        "\t\t\tprint(video_output)\n",
        "\t\t\twriter = cv2.VideoWriter(video_output, fourcc, 30,\t(frame.shape[1], frame.shape[0]), True)\n",
        "\t\t\t# some information on processing single frame\n",
        "\t\t\tif total > 0:\n",
        "\t\t\t\telap = (end - start)\n",
        "\t\t\t\tprint(\"[INFO] Un frame toma {:.4f} segundos\".format(elap))\n",
        "\t\t\t\tprint(\"[INFO] Tiempo total estimado para completar: {:.4f}\".format(elap * total))\n",
        "\tprint(\"+\", end = '')\n",
        "\t# write the output frame to disk\n",
        "\twriter.write(frame)\n",
        "\n",
        "# release the file pointers\n",
        "print(\"\\n[INFO] Finalizando ...\")\n",
        "writer.release()\n",
        "vs.release()"
      ],
      "execution_count": 0,
      "outputs": [
        {
          "output_type": "stream",
          "text": [
            "/content/drive/My Drive/MCD/RNA/detection_images/YOLOv3/output/video_output.avi\n",
            "[INFO] Un frame toma 2.1710 segundos\n",
            "[INFO] Tiempo total estimado para completar: 1261.3266\n",
            "+++++++++++++++++++++++++++++++++++++++++++++++++++++++++++++++++++++++++++++++++++++++++++++++++++++++++++++++++++++++++++++++++++++++++++++++++++++++++++++++++++++++++++++++++++++++++++++++++++++++++++++++++++++++++++++++++++++++++++++++++++++++++++++++++++++++++++++++++++++++++++++++++++++++++++++++++++++++++++++++++++++++++++++++++++++++++++++++++++++++++++++++++++++++++++++++++++++++++++++++++++++++++++++++++++++++++++++++++++++++++++++++++++++++++++++++++++++++++++++++++++++++++++++++++++++++++++++++++++++++++++++++++++++++++++++++++++++++++++++++++++++++++++++++++++++\n",
            "[INFO] Finalizando ...\n"
          ],
          "name": "stdout"
        }
      ]
    }
  ]
}