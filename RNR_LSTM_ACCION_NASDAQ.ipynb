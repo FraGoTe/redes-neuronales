{
  "nbformat": 4,
  "nbformat_minor": 0,
  "metadata": {
    "colab": {
      "name": "rnn_BLV_LSTM.ipynb",
      "provenance": [],
      "collapsed_sections": [],
      "toc_visible": true,
      "include_colab_link": true
    },
    "kernelspec": {
      "name": "python3",
      "display_name": "Python 3"
    },
    "accelerator": "GPU"
  },
  "cells": [
    {
      "cell_type": "markdown",
      "metadata": {
        "id": "view-in-github",
        "colab_type": "text"
      },
      "source": [
        "<a href=\"https://colab.research.google.com/github/FraGoTe/redes-neuronales/blob/master/RNR_LSTM_ACCION_NASDAQ.ipynb\" target=\"_parent\"><img src=\"https://colab.research.google.com/assets/colab-badge.svg\" alt=\"Open In Colab\"/></a>"
      ]
    },
    {
      "cell_type": "markdown",
      "metadata": {
        "id": "T3kOxK9IGeHD",
        "colab_type": "text"
      },
      "source": [
        "## REDES NEURONALES RECURRENTES\n"
      ]
    },
    {
      "cell_type": "markdown",
      "metadata": {
        "id": "wDmQCgNzIPaF",
        "colab_type": "text"
      },
      "source": [
        "Carga de Datos:"
      ]
    },
    {
      "cell_type": "code",
      "metadata": {
        "id": "c5yRg8-fIUXC",
        "colab_type": "code",
        "outputId": "b53e5c73-effe-4ea1-f34b-a184d419daa7",
        "colab": {
          "base_uri": "https://localhost:8080/",
          "height": 629
        }
      },
      "source": [
        "%%bash\n",
        "if [ ! -f \"Google_Stock_Price_Test.csv\" ]; then\n",
        "    wget www.fragote.com/data/Google_Stock_Price_Test.csv\n",
        "fi\n",
        "if [ ! -f \"Google_Stock_Price_Train.csv\" ]; then\n",
        "    wget www.fragote.com/data/Google_Stock_Price_Train.csv\n",
        "fi\n",
        "\n",
        "ls -l "
      ],
      "execution_count": 1,
      "outputs": [
        {
          "output_type": "stream",
          "text": [
            "total 156\n",
            "-rw-r--r-- 1 root root  11409 Nov 23 17:54 Google_Stock_Price_Test.csv\n",
            "-rw-r--r-- 1 root root 141323 Nov 23 17:46 Google_Stock_Price_Train.csv\n",
            "drwxr-xr-x 1 root root   4096 Nov 21 16:30 sample_data\n"
          ],
          "name": "stdout"
        },
        {
          "output_type": "stream",
          "text": [
            "--2019-11-23 19:25:18--  http://www.fragote.com/data/Google_Stock_Price_Test.csv\n",
            "Resolving www.fragote.com (www.fragote.com)... 174.142.207.107\n",
            "Connecting to www.fragote.com (www.fragote.com)|174.142.207.107|:80... connected.\n",
            "HTTP request sent, awaiting response... 301 Moved Permanently\n",
            "Location: https://www.fragote.com/data/Google_Stock_Price_Test.csv [following]\n",
            "--2019-11-23 19:25:24--  https://www.fragote.com/data/Google_Stock_Price_Test.csv\n",
            "Connecting to www.fragote.com (www.fragote.com)|174.142.207.107|:443... connected.\n",
            "HTTP request sent, awaiting response... 200 OK\n",
            "Length: 11409 (11K) [text/csv]\n",
            "Saving to: ‘Google_Stock_Price_Test.csv’\n",
            "\n",
            "     0K .......... .                                          100% 31.4M=0s\n",
            "\n",
            "2019-11-23 19:25:24 (31.4 MB/s) - ‘Google_Stock_Price_Test.csv’ saved [11409/11409]\n",
            "\n",
            "--2019-11-23 19:25:24--  http://www.fragote.com/data/Google_Stock_Price_Train.csv\n",
            "Resolving www.fragote.com (www.fragote.com)... 174.142.207.107\n",
            "Connecting to www.fragote.com (www.fragote.com)|174.142.207.107|:80... connected.\n",
            "HTTP request sent, awaiting response... 301 Moved Permanently\n",
            "Location: https://www.fragote.com/data/Google_Stock_Price_Train.csv [following]\n",
            "--2019-11-23 19:25:24--  https://www.fragote.com/data/Google_Stock_Price_Train.csv\n",
            "Connecting to www.fragote.com (www.fragote.com)|174.142.207.107|:443... connected.\n",
            "HTTP request sent, awaiting response... 200 OK\n",
            "Length: 141323 (138K) [text/csv]\n",
            "Saving to: ‘Google_Stock_Price_Train.csv’\n",
            "\n",
            "     0K .......... .......... .......... .......... .......... 36%  329K 0s\n",
            "    50K .......... .......... .......... .......... .......... 72%  677K 0s\n",
            "   100K .......... .......... .......... ........             100% 16.5M=0.2s\n",
            "\n",
            "2019-11-23 19:25:25 (605 KB/s) - ‘Google_Stock_Price_Train.csv’ saved [141323/141323]\n",
            "\n"
          ],
          "name": "stderr"
        }
      ]
    },
    {
      "cell_type": "markdown",
      "metadata": {
        "id": "u8lMo1lfJHk6",
        "colab_type": "text"
      },
      "source": [
        "Mostrando lista de archivos:"
      ]
    },
    {
      "cell_type": "markdown",
      "metadata": {
        "id": "i0oVfU7hGjLb",
        "colab_type": "text"
      },
      "source": [
        "\n",
        "\n",
        "---\n",
        "\n",
        " ## PARTE I - PREPROCESAMIENTO DE DATOS\n",
        " \n",
        "\n",
        "---\n",
        "\n"
      ]
    },
    {
      "cell_type": "code",
      "metadata": {
        "id": "JIX2Wxm9G5CD",
        "colab_type": "code",
        "outputId": "731bb3b9-cd58-4810-c304-1a095cb7a59c",
        "colab": {
          "base_uri": "https://localhost:8080/",
          "height": 374
        }
      },
      "source": [
        "import numpy as np\n",
        "import matplotlib.pyplot as plt\n",
        "import pandas as pd\n",
        "\n",
        "# Importando dataset\n",
        "\n",
        "dataset_train = pd.read_csv('Google_Stock_Price_Train.csv')\n",
        "\n",
        "print(dataset_train.head(10))\n",
        "print(dataset_train.iloc[:, 1:2].values)\n",
        "\n",
        "# Considerando el precio de apertura \"Open\"\n",
        "training_set = dataset_train.iloc[:, 1:2].values\n",
        "\n",
        "# Feature Scaling\n",
        "# Estandarización: (x-u)/dev\n",
        "# Normalización: (x-min)/(max-min) --> feature_range [0 - 1]\n",
        "from sklearn.preprocessing import MinMaxScaler\n",
        "sc = MinMaxScaler(feature_range = (0, 1))\n",
        "training_set_scaled = sc.fit_transform(training_set)\n",
        "\n",
        "# Estructura de 60 datos de entrada (t) y 1 dato de salida (t+1)  X[1-60] --> y[61]\n",
        "train_len = len(dataset_train)\n",
        "amplitude = 60\n",
        "\n",
        "print(\"Número de elementos de la serie (Train): \", train_len)\n",
        "print(\"Amplitud: \", amplitude)\n",
        "\n",
        "X_train = []\n",
        "y_train = []\n",
        "\n",
        "for i in range(amplitude, train_len):\n",
        "    X_train.append(training_set_scaled[i-amplitude:i, 0])\n",
        "    y_train.append(training_set_scaled[i, 0])\n",
        "\n",
        "X_train, y_train = np.array(X_train), np.array(y_train)\n",
        "\n",
        "# Redimensionando X_train (train_len,amplitude,1)\n",
        "X_train = np.reshape(X_train, (X_train.shape[0], X_train.shape[1], 1))\n",
        "\n",
        "print (\"Dimensión de X_train: \",X_train.shape)"
      ],
      "execution_count": 2,
      "outputs": [
        {
          "output_type": "stream",
          "text": [
            "         Date        Open        High         Low       Close    Volume\n",
            "0  04/01/2010  313.788788  315.070068  312.432434  313.688690   3908400\n",
            "1  05/01/2010  313.903900  314.234222  311.081085  312.307312   6003300\n",
            "2  06/01/2010  313.243256  313.243256  303.483490  304.434448   7949400\n",
            "3  07/01/2010  305.005005  305.305298  296.621613  297.347351  12815700\n",
            "4  08/01/2010  296.296295  301.926941  294.849854  301.311310   9439100\n",
            "5  11/01/2010  302.532532  302.532532  297.317322  300.855865  14411300\n",
            "6  12/01/2010  299.124115  299.379395  294.294281  295.535522   9696800\n",
            "7  13/01/2010  288.533539  294.484497  287.237244  293.838837  12980200\n",
            "8  14/01/2010  292.242249  297.397400  291.696686  295.220215   8471700\n",
            "9  15/01/2010  296.966980  297.077087  289.309296  290.290283  10858100\n",
            "[[ 313.788788]\n",
            " [ 313.9039  ]\n",
            " [ 313.243256]\n",
            " ...\n",
            " [1026.199951]\n",
            " [1059.5     ]\n",
            " [1057.829956]]\n",
            "Número de elementos de la serie (Train):  2264\n",
            "Amplitud:  60\n",
            "Dimensión de X_train:  (2204, 60, 1)\n"
          ],
          "name": "stdout"
        }
      ]
    },
    {
      "cell_type": "markdown",
      "metadata": {
        "id": "uhziosTLJnHd",
        "colab_type": "text"
      },
      "source": [
        "\n",
        "\n",
        "---\n",
        "\n",
        "## PARTE II - CONSTRUYENDO LA RED NEURONAL RECURRENTE\n",
        " \n",
        "\n",
        "---\n",
        "\n"
      ]
    },
    {
      "cell_type": "code",
      "metadata": {
        "id": "w-YsHraVJxJW",
        "colab_type": "code",
        "outputId": "9a55b919-f348-44ad-d527-788fc8a57a46",
        "colab": {
          "base_uri": "https://localhost:8080/",
          "height": 729
        }
      },
      "source": [
        "# Importing the Keras libraries and packages\n",
        "from keras.models import Sequential\n",
        "from keras.layers import Dense\n",
        "from keras.layers import LSTM\n",
        "from keras.layers import Dropout\n",
        "\n",
        "# inicializando the RNN\n",
        "rnn_model = Sequential()\n",
        "\n",
        "# 1ra capa LSTM y Dropout para regularización.\n",
        "# input_shape (amplitude,1)\n",
        "rnn_model.add(LSTM(units = 50, return_sequences = True, input_shape = (X_train.shape[1], 1)))\n",
        "# 20% de las neuronas seran ignoradas durante el training (20%xNodos = 10)\n",
        "# Para hacer menos probable el overfiting\n",
        "rnn_model.add(Dropout(rate=0.2))\n",
        "\n",
        "# 2da capa LSTM y Dropout para regularización.\n",
        "rnn_model.add(LSTM(units = 35, return_sequences = True))\n",
        "rnn_model.add(Dropout(rate=0.2))\n",
        "\n",
        "# 3ra capa LSTM y Dropout para regularización.\n",
        "rnn_model.add(LSTM(units = 35, return_sequences = True))\n",
        "rnn_model.add(Dropout(rate=0.2))\n",
        "\n",
        "# 4ta capa LSTM y Dropout para regularización.\n",
        "rnn_model.add(LSTM(units = 35, return_sequences = False))\n",
        "rnn_model.add(Dropout(rate=0.2))\n",
        "\n",
        "# Output layer\n",
        "rnn_model.add(Dense(units = 1))\n",
        "\n",
        "rnn_model.summary()"
      ],
      "execution_count": 3,
      "outputs": [
        {
          "output_type": "stream",
          "text": [
            "Using TensorFlow backend.\n"
          ],
          "name": "stderr"
        },
        {
          "output_type": "display_data",
          "data": {
            "text/html": [
              "<p style=\"color: red;\">\n",
              "The default version of TensorFlow in Colab will soon switch to TensorFlow 2.x.<br>\n",
              "We recommend you <a href=\"https://www.tensorflow.org/guide/migrate\" target=\"_blank\">upgrade</a> now \n",
              "or ensure your notebook will continue to use TensorFlow 1.x via the <code>%tensorflow_version 1.x</code> magic:\n",
              "<a href=\"https://colab.research.google.com/notebooks/tensorflow_version.ipynb\" target=\"_blank\">more info</a>.</p>\n"
            ],
            "text/plain": [
              "<IPython.core.display.HTML object>"
            ]
          },
          "metadata": {
            "tags": []
          }
        },
        {
          "output_type": "stream",
          "text": [
            "WARNING:tensorflow:From /usr/local/lib/python3.6/dist-packages/keras/backend/tensorflow_backend.py:66: The name tf.get_default_graph is deprecated. Please use tf.compat.v1.get_default_graph instead.\n",
            "\n",
            "WARNING:tensorflow:From /usr/local/lib/python3.6/dist-packages/keras/backend/tensorflow_backend.py:541: The name tf.placeholder is deprecated. Please use tf.compat.v1.placeholder instead.\n",
            "\n",
            "WARNING:tensorflow:From /usr/local/lib/python3.6/dist-packages/keras/backend/tensorflow_backend.py:4432: The name tf.random_uniform is deprecated. Please use tf.random.uniform instead.\n",
            "\n",
            "WARNING:tensorflow:From /usr/local/lib/python3.6/dist-packages/keras/backend/tensorflow_backend.py:148: The name tf.placeholder_with_default is deprecated. Please use tf.compat.v1.placeholder_with_default instead.\n",
            "\n",
            "WARNING:tensorflow:From /usr/local/lib/python3.6/dist-packages/keras/backend/tensorflow_backend.py:3733: calling dropout (from tensorflow.python.ops.nn_ops) with keep_prob is deprecated and will be removed in a future version.\n",
            "Instructions for updating:\n",
            "Please use `rate` instead of `keep_prob`. Rate should be set to `rate = 1 - keep_prob`.\n",
            "Model: \"sequential_1\"\n",
            "_________________________________________________________________\n",
            "Layer (type)                 Output Shape              Param #   \n",
            "=================================================================\n",
            "lstm_1 (LSTM)                (None, 60, 50)            10400     \n",
            "_________________________________________________________________\n",
            "dropout_1 (Dropout)          (None, 60, 50)            0         \n",
            "_________________________________________________________________\n",
            "lstm_2 (LSTM)                (None, 60, 35)            12040     \n",
            "_________________________________________________________________\n",
            "dropout_2 (Dropout)          (None, 60, 35)            0         \n",
            "_________________________________________________________________\n",
            "lstm_3 (LSTM)                (None, 60, 35)            9940      \n",
            "_________________________________________________________________\n",
            "dropout_3 (Dropout)          (None, 60, 35)            0         \n",
            "_________________________________________________________________\n",
            "lstm_4 (LSTM)                (None, 35)                9940      \n",
            "_________________________________________________________________\n",
            "dropout_4 (Dropout)          (None, 35)                0         \n",
            "_________________________________________________________________\n",
            "dense_1 (Dense)              (None, 1)                 36        \n",
            "=================================================================\n",
            "Total params: 42,356\n",
            "Trainable params: 42,356\n",
            "Non-trainable params: 0\n",
            "_________________________________________________________________\n"
          ],
          "name": "stdout"
        }
      ]
    },
    {
      "cell_type": "code",
      "metadata": {
        "id": "TLlIDXHlCL3D",
        "colab_type": "code",
        "outputId": "46124833-1999-4129-dc1d-0528386d058b",
        "colab": {
          "base_uri": "https://localhost:8080/",
          "height": 1000
        }
      },
      "source": [
        "import datetime\n",
        "print('Iniciando a las: ', datetime.datetime.now())\n",
        "print(\"...\")\n",
        "\n",
        "# Compiling the RNN\n",
        "rnn_model.compile(optimizer = 'adam', loss = 'mean_squared_error')\n",
        "\n",
        "# Entrenamiento de la RNN con nuestro Training set\n",
        "rnn_model.fit(X_train, y_train, epochs = 100, batch_size = 48)\n",
        "\n",
        "print(\"...\")\n",
        "print('Terminando a las: ', datetime.datetime.now())\n"
      ],
      "execution_count": 4,
      "outputs": [
        {
          "output_type": "stream",
          "text": [
            "Iniciando a las:  2019-11-23 19:26:32.636128\n",
            "...\n",
            "WARNING:tensorflow:From /usr/local/lib/python3.6/dist-packages/keras/optimizers.py:793: The name tf.train.Optimizer is deprecated. Please use tf.compat.v1.train.Optimizer instead.\n",
            "\n",
            "WARNING:tensorflow:From /usr/local/lib/python3.6/dist-packages/tensorflow_core/python/ops/math_grad.py:1424: where (from tensorflow.python.ops.array_ops) is deprecated and will be removed in a future version.\n",
            "Instructions for updating:\n",
            "Use tf.where in 2.0, which has the same broadcast rule as np.where\n",
            "WARNING:tensorflow:From /usr/local/lib/python3.6/dist-packages/keras/backend/tensorflow_backend.py:1033: The name tf.assign_add is deprecated. Please use tf.compat.v1.assign_add instead.\n",
            "\n",
            "WARNING:tensorflow:From /usr/local/lib/python3.6/dist-packages/keras/backend/tensorflow_backend.py:1020: The name tf.assign is deprecated. Please use tf.compat.v1.assign instead.\n",
            "\n",
            "WARNING:tensorflow:From /usr/local/lib/python3.6/dist-packages/keras/backend/tensorflow_backend.py:3005: The name tf.Session is deprecated. Please use tf.compat.v1.Session instead.\n",
            "\n",
            "Epoch 1/100\n",
            "WARNING:tensorflow:From /usr/local/lib/python3.6/dist-packages/keras/backend/tensorflow_backend.py:190: The name tf.get_default_session is deprecated. Please use tf.compat.v1.get_default_session instead.\n",
            "\n",
            "WARNING:tensorflow:From /usr/local/lib/python3.6/dist-packages/keras/backend/tensorflow_backend.py:197: The name tf.ConfigProto is deprecated. Please use tf.compat.v1.ConfigProto instead.\n",
            "\n",
            "WARNING:tensorflow:From /usr/local/lib/python3.6/dist-packages/keras/backend/tensorflow_backend.py:207: The name tf.global_variables is deprecated. Please use tf.compat.v1.global_variables instead.\n",
            "\n",
            "WARNING:tensorflow:From /usr/local/lib/python3.6/dist-packages/keras/backend/tensorflow_backend.py:216: The name tf.is_variable_initialized is deprecated. Please use tf.compat.v1.is_variable_initialized instead.\n",
            "\n",
            "WARNING:tensorflow:From /usr/local/lib/python3.6/dist-packages/keras/backend/tensorflow_backend.py:223: The name tf.variables_initializer is deprecated. Please use tf.compat.v1.variables_initializer instead.\n",
            "\n",
            "2204/2204 [==============================] - 21s 10ms/step - loss: 0.0256\n",
            "Epoch 2/100\n",
            "2204/2204 [==============================] - 15s 7ms/step - loss: 0.0036\n",
            "Epoch 3/100\n",
            "2204/2204 [==============================] - 15s 7ms/step - loss: 0.0037\n",
            "Epoch 4/100\n",
            "2204/2204 [==============================] - 15s 7ms/step - loss: 0.0031\n",
            "Epoch 5/100\n",
            "2204/2204 [==============================] - 15s 7ms/step - loss: 0.0029\n",
            "Epoch 6/100\n",
            "2204/2204 [==============================] - 15s 7ms/step - loss: 0.0026\n",
            "Epoch 7/100\n",
            "2204/2204 [==============================] - 15s 7ms/step - loss: 0.0030\n",
            "Epoch 8/100\n",
            "2204/2204 [==============================] - 15s 7ms/step - loss: 0.0025\n",
            "Epoch 9/100\n",
            "2204/2204 [==============================] - 15s 7ms/step - loss: 0.0027\n",
            "Epoch 10/100\n",
            "2204/2204 [==============================] - 15s 7ms/step - loss: 0.0026\n",
            "Epoch 11/100\n",
            "2204/2204 [==============================] - 15s 7ms/step - loss: 0.0025\n",
            "Epoch 12/100\n",
            "2204/2204 [==============================] - 15s 7ms/step - loss: 0.0025\n",
            "Epoch 13/100\n",
            "2204/2204 [==============================] - 15s 7ms/step - loss: 0.0024\n",
            "Epoch 14/100\n",
            "2204/2204 [==============================] - 15s 7ms/step - loss: 0.0024\n",
            "Epoch 15/100\n",
            "2204/2204 [==============================] - 15s 7ms/step - loss: 0.0024\n",
            "Epoch 16/100\n",
            "2204/2204 [==============================] - 15s 7ms/step - loss: 0.0023\n",
            "Epoch 17/100\n",
            "2204/2204 [==============================] - 15s 7ms/step - loss: 0.0022\n",
            "Epoch 18/100\n",
            "2204/2204 [==============================] - 15s 7ms/step - loss: 0.0019\n",
            "Epoch 19/100\n",
            "2204/2204 [==============================] - 15s 7ms/step - loss: 0.0020\n",
            "Epoch 20/100\n",
            "2204/2204 [==============================] - 15s 7ms/step - loss: 0.0020\n",
            "Epoch 21/100\n",
            "2204/2204 [==============================] - 15s 7ms/step - loss: 0.0021\n",
            "Epoch 22/100\n",
            "2204/2204 [==============================] - 15s 7ms/step - loss: 0.0019\n",
            "Epoch 23/100\n",
            "2204/2204 [==============================] - 15s 7ms/step - loss: 0.0021\n",
            "Epoch 24/100\n",
            "2204/2204 [==============================] - 15s 7ms/step - loss: 0.0019\n",
            "Epoch 25/100\n",
            "2204/2204 [==============================] - 15s 7ms/step - loss: 0.0019\n",
            "Epoch 26/100\n",
            "2204/2204 [==============================] - 15s 7ms/step - loss: 0.0020\n",
            "Epoch 27/100\n",
            "2204/2204 [==============================] - 15s 7ms/step - loss: 0.0018\n",
            "Epoch 28/100\n",
            "2204/2204 [==============================] - 15s 7ms/step - loss: 0.0017\n",
            "Epoch 29/100\n",
            "2204/2204 [==============================] - 15s 7ms/step - loss: 0.0021\n",
            "Epoch 30/100\n",
            "2204/2204 [==============================] - 15s 7ms/step - loss: 0.0016\n",
            "Epoch 31/100\n",
            "2204/2204 [==============================] - 15s 7ms/step - loss: 0.0018\n",
            "Epoch 32/100\n",
            "2204/2204 [==============================] - 15s 7ms/step - loss: 0.0016\n",
            "Epoch 33/100\n",
            "2204/2204 [==============================] - 15s 7ms/step - loss: 0.0018\n",
            "Epoch 34/100\n",
            "2204/2204 [==============================] - 15s 7ms/step - loss: 0.0018\n",
            "Epoch 35/100\n",
            "2204/2204 [==============================] - 14s 7ms/step - loss: 0.0016\n",
            "Epoch 36/100\n",
            "2204/2204 [==============================] - 14s 7ms/step - loss: 0.0016\n",
            "Epoch 37/100\n",
            "2204/2204 [==============================] - 14s 7ms/step - loss: 0.0015\n",
            "Epoch 38/100\n",
            "2204/2204 [==============================] - 15s 7ms/step - loss: 0.0017\n",
            "Epoch 39/100\n",
            "2204/2204 [==============================] - 14s 7ms/step - loss: 0.0016\n",
            "Epoch 40/100\n",
            "2204/2204 [==============================] - 14s 7ms/step - loss: 0.0016\n",
            "Epoch 41/100\n",
            "2204/2204 [==============================] - 14s 7ms/step - loss: 0.0016\n",
            "Epoch 42/100\n",
            "2204/2204 [==============================] - 14s 7ms/step - loss: 0.0015\n",
            "Epoch 43/100\n",
            "2204/2204 [==============================] - 15s 7ms/step - loss: 0.0015\n",
            "Epoch 44/100\n",
            "2204/2204 [==============================] - 15s 7ms/step - loss: 0.0014\n",
            "Epoch 45/100\n",
            "2204/2204 [==============================] - 14s 7ms/step - loss: 0.0014\n",
            "Epoch 46/100\n",
            "2204/2204 [==============================] - 14s 7ms/step - loss: 0.0015\n",
            "Epoch 47/100\n",
            "2204/2204 [==============================] - 14s 7ms/step - loss: 0.0014\n",
            "Epoch 48/100\n",
            "2204/2204 [==============================] - 14s 7ms/step - loss: 0.0016\n",
            "Epoch 49/100\n",
            "2204/2204 [==============================] - 14s 7ms/step - loss: 0.0015\n",
            "Epoch 50/100\n",
            "2204/2204 [==============================] - 14s 7ms/step - loss: 0.0015\n",
            "Epoch 51/100\n",
            "2204/2204 [==============================] - 14s 7ms/step - loss: 0.0014\n",
            "Epoch 52/100\n",
            "2204/2204 [==============================] - 14s 6ms/step - loss: 0.0014\n",
            "Epoch 53/100\n",
            "2204/2204 [==============================] - 14s 7ms/step - loss: 0.0013\n",
            "Epoch 54/100\n",
            "2204/2204 [==============================] - 15s 7ms/step - loss: 0.0012\n",
            "Epoch 55/100\n",
            "2204/2204 [==============================] - 15s 7ms/step - loss: 0.0014\n",
            "Epoch 56/100\n",
            "2204/2204 [==============================] - 14s 7ms/step - loss: 0.0013\n",
            "Epoch 57/100\n",
            "2204/2204 [==============================] - 14s 6ms/step - loss: 0.0012\n",
            "Epoch 58/100\n",
            "2204/2204 [==============================] - 14s 7ms/step - loss: 0.0013\n",
            "Epoch 59/100\n",
            "2204/2204 [==============================] - 14s 7ms/step - loss: 0.0014\n",
            "Epoch 60/100\n",
            "2204/2204 [==============================] - 14s 7ms/step - loss: 0.0012\n",
            "Epoch 61/100\n",
            "2204/2204 [==============================] - 14s 6ms/step - loss: 0.0013\n",
            "Epoch 62/100\n",
            "2204/2204 [==============================] - 14s 6ms/step - loss: 0.0011\n",
            "Epoch 63/100\n",
            "2204/2204 [==============================] - 14s 6ms/step - loss: 0.0013\n",
            "Epoch 64/100\n",
            "2204/2204 [==============================] - 14s 7ms/step - loss: 0.0012\n",
            "Epoch 65/100\n",
            "2204/2204 [==============================] - 15s 7ms/step - loss: 0.0014\n",
            "Epoch 66/100\n",
            "2204/2204 [==============================] - 14s 6ms/step - loss: 0.0012\n",
            "Epoch 67/100\n",
            "2204/2204 [==============================] - 14s 7ms/step - loss: 0.0012\n",
            "Epoch 68/100\n",
            "2204/2204 [==============================] - 14s 6ms/step - loss: 0.0012\n",
            "Epoch 69/100\n",
            "2204/2204 [==============================] - 14s 7ms/step - loss: 0.0011\n",
            "Epoch 70/100\n",
            "2204/2204 [==============================] - 14s 7ms/step - loss: 0.0011\n",
            "Epoch 71/100\n",
            "2204/2204 [==============================] - 14s 7ms/step - loss: 0.0011\n",
            "Epoch 72/100\n",
            "2204/2204 [==============================] - 14s 6ms/step - loss: 0.0012\n",
            "Epoch 73/100\n",
            "2204/2204 [==============================] - 14s 6ms/step - loss: 0.0011\n",
            "Epoch 74/100\n",
            "2204/2204 [==============================] - 14s 6ms/step - loss: 0.0012\n",
            "Epoch 75/100\n",
            "2204/2204 [==============================] - 14s 6ms/step - loss: 0.0011\n",
            "Epoch 76/100\n",
            "2204/2204 [==============================] - 15s 7ms/step - loss: 0.0013\n",
            "Epoch 77/100\n",
            "2204/2204 [==============================] - 15s 7ms/step - loss: 0.0012\n",
            "Epoch 78/100\n",
            "2204/2204 [==============================] - 14s 6ms/step - loss: 0.0012\n",
            "Epoch 79/100\n",
            "2204/2204 [==============================] - 14s 6ms/step - loss: 0.0012\n",
            "Epoch 80/100\n",
            "2204/2204 [==============================] - 14s 6ms/step - loss: 0.0012\n",
            "Epoch 81/100\n",
            "2204/2204 [==============================] - 14s 6ms/step - loss: 0.0012\n",
            "Epoch 82/100\n",
            "2204/2204 [==============================] - 14s 7ms/step - loss: 0.0010\n",
            "Epoch 83/100\n",
            "2204/2204 [==============================] - 14s 6ms/step - loss: 9.9601e-04\n",
            "Epoch 84/100\n",
            "2204/2204 [==============================] - 14s 7ms/step - loss: 0.0010\n",
            "Epoch 85/100\n",
            "2204/2204 [==============================] - 14s 6ms/step - loss: 0.0012\n",
            "Epoch 86/100\n",
            "2204/2204 [==============================] - 14s 6ms/step - loss: 0.0010\n",
            "Epoch 87/100\n",
            "2204/2204 [==============================] - 14s 6ms/step - loss: 0.0010\n",
            "Epoch 88/100\n",
            "2204/2204 [==============================] - 14s 7ms/step - loss: 0.0011\n",
            "Epoch 89/100\n",
            "2204/2204 [==============================] - 14s 6ms/step - loss: 0.0010\n",
            "Epoch 90/100\n",
            "2204/2204 [==============================] - 14s 6ms/step - loss: 0.0010\n",
            "Epoch 91/100\n",
            "2204/2204 [==============================] - 14s 6ms/step - loss: 0.0011\n",
            "Epoch 92/100\n",
            "2204/2204 [==============================] - 14s 6ms/step - loss: 0.0013\n",
            "Epoch 93/100\n",
            "2204/2204 [==============================] - 14s 6ms/step - loss: 0.0011\n",
            "Epoch 94/100\n",
            "2204/2204 [==============================] - 14s 6ms/step - loss: 0.0010\n",
            "Epoch 95/100\n",
            "2204/2204 [==============================] - 14s 6ms/step - loss: 9.7861e-04\n",
            "Epoch 96/100\n",
            "2204/2204 [==============================] - 14s 6ms/step - loss: 9.8431e-04\n",
            "Epoch 97/100\n",
            "2204/2204 [==============================] - 14s 6ms/step - loss: 0.0010\n",
            "Epoch 98/100\n",
            "2204/2204 [==============================] - 14s 7ms/step - loss: 0.0010\n",
            "Epoch 99/100\n",
            "2204/2204 [==============================] - 14s 6ms/step - loss: 0.0012\n",
            "Epoch 100/100\n",
            "2204/2204 [==============================] - 14s 6ms/step - loss: 0.0010\n",
            "...\n",
            "Terminando a las:  2019-11-23 19:50:50.445424\n"
          ],
          "name": "stdout"
        }
      ]
    },
    {
      "cell_type": "markdown",
      "metadata": {
        "id": "FoARNbtdKO9s",
        "colab_type": "text"
      },
      "source": [
        "---\n",
        "\n",
        " ## PARTE III - PREDICCIONES Y VISUALIZACION DE RESULTADOS\n",
        " \n",
        "\n",
        "---\n",
        "\n",
        "\n"
      ]
    },
    {
      "cell_type": "code",
      "metadata": {
        "id": "1h2BPuEkKRZl",
        "colab_type": "code",
        "outputId": "a996936b-1535-4279-a6bc-580ace769762",
        "colab": {
          "base_uri": "https://localhost:8080/",
          "height": 51
        }
      },
      "source": [
        "# Precio de Acción reales (2019)\n",
        "\n",
        "dataset_test = pd.read_csv('Google_Stock_Price_Test.csv')\n",
        "real_stock_price = dataset_test.iloc[:, 1:2].values\n",
        "\n",
        "test_len = len(dataset_test)\n",
        "print(\"Número de elementos de la serie (Test): \", test_len)\n",
        "\n",
        "# Precio de Acción pronosticados (2019)\n",
        "# Concatenar en un solo vector (train + test)\n",
        "dataset_total = pd.concat((dataset_train['Open'], dataset_test['Open']), axis = 0)\n",
        "\n",
        "# Obteniendo los 60 datos anteriores al primer elemento del Test set\n",
        "inputs = dataset_total[len(dataset_total) - test_len - amplitude:].values\n",
        "\n",
        "# Redimensionando de (x,) --> (x,1)\n",
        "inputs = inputs.reshape(-1,1)\n",
        "\n",
        "# Feature Scaling\n",
        "inputs = sc.transform(inputs)\n",
        "\n",
        "X_test = []\n",
        "\n",
        "for i in range(0, test_len):\n",
        "    X_test.append(inputs[i:i+amplitude, 0])\n",
        "\n",
        "X_test = np.array(X_test)\n",
        "X_test = np.reshape(X_test, (X_test.shape[0], X_test.shape[1], 1))\n",
        "print (\"Dimensión de X_test: \",X_test.shape)\n",
        "\n",
        "predicted_stock_price = rnn_model.predict(X_test)\n",
        "predicted_stock_price = sc.inverse_transform(predicted_stock_price)"
      ],
      "execution_count": 6,
      "outputs": [
        {
          "output_type": "stream",
          "text": [
            "Número de elementos de la serie (Test):  178\n",
            "Dimensión de X_test:  (178, 60, 1)\n"
          ],
          "name": "stdout"
        }
      ]
    },
    {
      "cell_type": "markdown",
      "metadata": {
        "id": "Z0dpXHEpKsIn",
        "colab_type": "text"
      },
      "source": [
        "---\n",
        "\n",
        " #### VISUALIZACION DE RESULTADOS\n",
        " \n",
        "\n",
        "---"
      ]
    },
    {
      "cell_type": "code",
      "metadata": {
        "id": "Yz51K4gNPcTu",
        "colab_type": "code",
        "outputId": "5396600e-26fc-47cd-9ac9-f0c90a767d41",
        "colab": {
          "base_uri": "https://localhost:8080/",
          "height": 685
        }
      },
      "source": [
        "# Visualizando resultados\n",
        "plt.figure(figsize=(14,10),dpi=80)\n",
        "plt.plot(real_stock_price, color = 'blue', label = 'LVL Price - (Real)')\n",
        "plt.plot(predicted_stock_price, color = 'red', label = 'LVL Price - (Pronóstico)', dashes=[6, 2])\n",
        "plt.title('Predicción del Precio de la acción de Google')\n",
        "plt.xlabel('Tiempo')\n",
        "plt.ylabel('Google')\n",
        "plt.legend()\n",
        "plt.show()"
      ],
      "execution_count": 8,
      "outputs": [
        {
          "output_type": "display_data",
          "data": {
            "image/png": "[encoded data removed]",
            "text/plain": [
              "<Figure size 1120x800 with 1 Axes>"
            ]
          },
          "metadata": {
            "tags": []
          }
        }
      ]
    },
    {
      "cell_type": "markdown",
      "metadata": {
        "id": "YrTT1qq6LAbU",
        "colab_type": "text"
      },
      "source": [
        "---\n",
        "\n",
        " #### RMSE\n",
        " \n",
        "\n",
        "---"
      ]
    },
    {
      "cell_type": "code",
      "metadata": {
        "id": "imSzpVGGLG1J",
        "colab_type": "code",
        "outputId": "1c9ed305-9ec3-45ed-fe7f-e30d02ed5925",
        "colab": {
          "base_uri": "https://localhost:8080/",
          "height": 34
        }
      },
      "source": [
        "# RMSE\n",
        "import math\n",
        "from sklearn.metrics import mean_squared_error\n",
        "rmse = math.sqrt(mean_squared_error(real_stock_price, predicted_stock_price))\n",
        "\n",
        "print (\"rmse: \", rmse)"
      ],
      "execution_count": 9,
      "outputs": [
        {
          "output_type": "stream",
          "text": [
            "rmse:  29.1912909976391\n"
          ],
          "name": "stdout"
        }
      ]
    }
  ]
}