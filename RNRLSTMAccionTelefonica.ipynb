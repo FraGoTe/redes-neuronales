{
  "nbformat": 4,
  "nbformat_minor": 0,
  "metadata": {
    "colab": {
      "name": "rnn_BLV_LSTM_telefonica.ipynb",
      "provenance": [],
      "collapsed_sections": [],
      "toc_visible": true,
      "include_colab_link": true
    },
    "kernelspec": {
      "name": "python3",
      "display_name": "Python 3"
    },
    "accelerator": "GPU"
  },
  "cells": [
    {
      "cell_type": "markdown",
      "metadata": {
        "id": "view-in-github",
        "colab_type": "text"
      },
      "source": [
        "<a href=\"https://colab.research.google.com/github/FraGoTe/redes-neuronales/blob/master/RNRLSTMAccionTelefonica.ipynb\" target=\"_parent\"><img src=\"https://colab.research.google.com/assets/colab-badge.svg\" alt=\"Open In Colab\"/></a>"
      ]
    },
    {
      "cell_type": "markdown",
      "metadata": {
        "id": "T3kOxK9IGeHD",
        "colab_type": "text"
      },
      "source": [
        "## REDES NEURONALES RECURRENTES\n"
      ]
    },
    {
      "cell_type": "markdown",
      "metadata": {
        "id": "wDmQCgNzIPaF",
        "colab_type": "text"
      },
      "source": [
        "Carga de Datos:"
      ]
    },
    {
      "cell_type": "code",
      "metadata": {
        "id": "c5yRg8-fIUXC",
        "colab_type": "code",
        "outputId": "a9145b3f-fb34-48be-8d2f-7db921b17de9",
        "colab": {
          "base_uri": "https://localhost:8080/",
          "height": 629
        }
      },
      "source": [
        "%%bash\n",
        "if [ ! -f \"TELEFBC1_test.csv\" ]; then\n",
        "    wget www.fragote.com/data/TELEFBC1_test.csv\n",
        "fi\n",
        "if [ ! -f \"TELEFBC1_train.csv\" ]; then\n",
        "    wget www.fragote.com/data/TELEFBC1_train.csv\n",
        "fi\n",
        "\n",
        "ls -l "
      ],
      "execution_count": 1,
      "outputs": [
        {
          "output_type": "stream",
          "text": [
            "total 140\n",
            "drwxr-xr-x 1 root root   4096 Nov 21 16:30 sample_data\n",
            "-rw-r--r-- 1 root root   6284 Nov 23 19:47 TELEFBC1_test.csv\n",
            "-rw-r--r-- 1 root root 129363 Nov 23 19:47 TELEFBC1_train.csv\n"
          ],
          "name": "stdout"
        },
        {
          "output_type": "stream",
          "text": [
            "--2019-11-23 19:48:52--  http://www.fragote.com/data/TELEFBC1_test.csv\n",
            "Resolving www.fragote.com (www.fragote.com)... 174.142.207.107\n",
            "Connecting to www.fragote.com (www.fragote.com)|174.142.207.107|:80... connected.\n",
            "HTTP request sent, awaiting response... 301 Moved Permanently\n",
            "Location: https://www.fragote.com/data/TELEFBC1_test.csv [following]\n",
            "--2019-11-23 19:48:52--  https://www.fragote.com/data/TELEFBC1_test.csv\n",
            "Connecting to www.fragote.com (www.fragote.com)|174.142.207.107|:443... connected.\n",
            "HTTP request sent, awaiting response... 200 OK\n",
            "Length: 6284 (6.1K) [text/csv]\n",
            "Saving to: ‘TELEFBC1_test.csv’\n",
            "\n",
            "     0K ......                                                100%  387M=0s\n",
            "\n",
            "2019-11-23 19:48:53 (387 MB/s) - ‘TELEFBC1_test.csv’ saved [6284/6284]\n",
            "\n",
            "--2019-11-23 19:48:53--  http://www.fragote.com/data/TELEFBC1_train.csv\n",
            "Resolving www.fragote.com (www.fragote.com)... 174.142.207.107\n",
            "Connecting to www.fragote.com (www.fragote.com)|174.142.207.107|:80... connected.\n",
            "HTTP request sent, awaiting response... 301 Moved Permanently\n",
            "Location: https://www.fragote.com/data/TELEFBC1_train.csv [following]\n",
            "--2019-11-23 19:48:53--  https://www.fragote.com/data/TELEFBC1_train.csv\n",
            "Connecting to www.fragote.com (www.fragote.com)|174.142.207.107|:443... connected.\n",
            "HTTP request sent, awaiting response... 200 OK\n",
            "Length: 129363 (126K) [text/csv]\n",
            "Saving to: ‘TELEFBC1_train.csv’\n",
            "\n",
            "     0K .......... .......... .......... .......... .......... 39%  297K 0s\n",
            "    50K .......... .......... .......... .......... .......... 79%  603K 0s\n",
            "   100K .......... .......... ......                          100% 20.8M=0.3s\n",
            "\n",
            "2019-11-23 19:48:53 (500 KB/s) - ‘TELEFBC1_train.csv’ saved [129363/129363]\n",
            "\n"
          ],
          "name": "stderr"
        }
      ]
    },
    {
      "cell_type": "markdown",
      "metadata": {
        "id": "u8lMo1lfJHk6",
        "colab_type": "text"
      },
      "source": [
        "Mostrando lista de archivos:"
      ]
    },
    {
      "cell_type": "markdown",
      "metadata": {
        "id": "i0oVfU7hGjLb",
        "colab_type": "text"
      },
      "source": [
        "\n",
        "\n",
        "---\n",
        "\n",
        " ## PARTE I - PREPROCESAMIENTO DE DATOS\n",
        " \n",
        "\n",
        "---\n",
        "\n"
      ]
    },
    {
      "cell_type": "code",
      "metadata": {
        "id": "JIX2Wxm9G5CD",
        "colab_type": "code",
        "outputId": "436688d8-cfac-420a-9ef1-2cddeaba6836",
        "colab": {
          "base_uri": "https://localhost:8080/",
          "height": 68
        }
      },
      "source": [
        "import numpy as np\n",
        "import matplotlib.pyplot as plt\n",
        "import pandas as pd\n",
        "\n",
        "# Importando dataset\n",
        "\n",
        "dataset_train = pd.read_csv('TELEFBC1_train.csv')\n",
        "\n",
        "\n",
        "# Considerando el precio de apertura \"Open\"\n",
        "training_set = dataset_train.iloc[:, 1:2].values\n",
        "\n",
        "# Feature Scaling\n",
        "# Estandarización: (x-u)/dev\n",
        "# Normalización: (x-min)/(max-min) --> feature_range [0 - 1]\n",
        "from sklearn.preprocessing import MinMaxScaler\n",
        "sc = MinMaxScaler(feature_range = (0, 1))\n",
        "training_set_scaled = sc.fit_transform(training_set)\n",
        "\n",
        "# Estructura de 60 datos de entrada (t) y 1 dato de salida (t+1)  X[1-60] --> y[61]\n",
        "train_len = len(dataset_train)\n",
        "amplitude = 60\n",
        "\n",
        "print(\"Número de elementos de la serie (Train): \", train_len)\n",
        "print(\"Amplitud: \", amplitude)\n",
        "\n",
        "X_train = []\n",
        "y_train = []\n",
        "\n",
        "for i in range(amplitude, train_len):\n",
        "    X_train.append(training_set_scaled[i-amplitude:i, 0])\n",
        "    y_train.append(training_set_scaled[i, 0])\n",
        "\n",
        "X_train, y_train = np.array(X_train), np.array(y_train)\n",
        "\n",
        "# Redimensionando X_train (train_len,amplitude,1)\n",
        "X_train = np.reshape(X_train, (X_train.shape[0], X_train.shape[1], 1))\n",
        "\n",
        "print (\"Dimensión de X_train: \",X_train.shape)"
      ],
      "execution_count": 3,
      "outputs": [
        {
          "output_type": "stream",
          "text": [
            "Número de elementos de la serie (Train):  1749\n",
            "Amplitud:  60\n",
            "Dimensión de X_train:  (1689, 60, 1)\n"
          ],
          "name": "stdout"
        }
      ]
    },
    {
      "cell_type": "markdown",
      "metadata": {
        "id": "uhziosTLJnHd",
        "colab_type": "text"
      },
      "source": [
        "\n",
        "\n",
        "---\n",
        "\n",
        "## PARTE II - CONSTRUYENDO LA RED NEURONAL RECURRENTE\n",
        " \n",
        "\n",
        "---\n",
        "\n"
      ]
    },
    {
      "cell_type": "code",
      "metadata": {
        "id": "w-YsHraVJxJW",
        "colab_type": "code",
        "outputId": "07684f8b-c6a1-4ac3-9d33-9be1e5bac90f",
        "colab": {
          "base_uri": "https://localhost:8080/",
          "height": 595
        }
      },
      "source": [
        "# Importing the Keras libraries and packages\n",
        "from keras.models import Sequential\n",
        "from keras.layers import Dense\n",
        "from keras.layers import LSTM\n",
        "from keras.layers import Dropout\n",
        "\n",
        "# inicializando the RNN\n",
        "rnn_model = Sequential()\n",
        "\n",
        "# 1ra capa LSTM y Dropout para regularización.\n",
        "# input_shape (amplitude,1)\n",
        "rnn_model.add(LSTM(units = 50, return_sequences = True, input_shape = (X_train.shape[1], 1)))\n",
        "# 20% de las neuronas seran ignoradas durante el training (20%xNodos = 10)\n",
        "# Para hacer menos probable el overfiting\n",
        "rnn_model.add(Dropout(rate=0.2))\n",
        "\n",
        "# 2da capa LSTM y Dropout para regularización.\n",
        "rnn_model.add(LSTM(units = 35, return_sequences = True))\n",
        "rnn_model.add(Dropout(rate=0.2))\n",
        "\n",
        "# 3ra capa LSTM y Dropout para regularización.\n",
        "rnn_model.add(LSTM(units = 35, return_sequences = True))\n",
        "rnn_model.add(Dropout(rate=0.2))\n",
        "\n",
        "# 4ta capa LSTM y Dropout para regularización.\n",
        "rnn_model.add(LSTM(units = 35, return_sequences = True))\n",
        "rnn_model.add(Dropout(rate=0.2))\n",
        "\n",
        "# 5ta capa LSTM y Dropout para regularización.\n",
        "rnn_model.add(LSTM(units = 35, return_sequences = True))\n",
        "rnn_model.add(Dropout(rate=0.2))\n",
        "\n",
        "# 6ta capa LSTM y Dropout para regularización.\n",
        "rnn_model.add(LSTM(units = 35, return_sequences = False))\n",
        "rnn_model.add(Dropout(rate=0.2))\n",
        "\n",
        "\n",
        "# Output layer\n",
        "rnn_model.add(Dense(units = 1))\n",
        "\n",
        "rnn_model.summary()"
      ],
      "execution_count": 24,
      "outputs": [
        {
          "output_type": "stream",
          "text": [
            "Model: \"sequential_7\"\n",
            "_________________________________________________________________\n",
            "Layer (type)                 Output Shape              Param #   \n",
            "=================================================================\n",
            "lstm_34 (LSTM)               (None, 60, 50)            10400     \n",
            "_________________________________________________________________\n",
            "dropout_33 (Dropout)         (None, 60, 50)            0         \n",
            "_________________________________________________________________\n",
            "lstm_35 (LSTM)               (None, 60, 35)            12040     \n",
            "_________________________________________________________________\n",
            "dropout_34 (Dropout)         (None, 60, 35)            0         \n",
            "_________________________________________________________________\n",
            "lstm_36 (LSTM)               (None, 60, 35)            9940      \n",
            "_________________________________________________________________\n",
            "dropout_35 (Dropout)         (None, 60, 35)            0         \n",
            "_________________________________________________________________\n",
            "lstm_37 (LSTM)               (None, 60, 35)            9940      \n",
            "_________________________________________________________________\n",
            "dropout_36 (Dropout)         (None, 60, 35)            0         \n",
            "_________________________________________________________________\n",
            "lstm_38 (LSTM)               (None, 60, 35)            9940      \n",
            "_________________________________________________________________\n",
            "dropout_37 (Dropout)         (None, 60, 35)            0         \n",
            "_________________________________________________________________\n",
            "lstm_39 (LSTM)               (None, 35)                9940      \n",
            "_________________________________________________________________\n",
            "dropout_38 (Dropout)         (None, 35)                0         \n",
            "_________________________________________________________________\n",
            "dense_6 (Dense)              (None, 1)                 36        \n",
            "=================================================================\n",
            "Total params: 62,236\n",
            "Trainable params: 62,236\n",
            "Non-trainable params: 0\n",
            "_________________________________________________________________\n"
          ],
          "name": "stdout"
        }
      ]
    },
    {
      "cell_type": "code",
      "metadata": {
        "id": "TLlIDXHlCL3D",
        "colab_type": "code",
        "outputId": "aeaf52cd-2eb7-41e9-89a7-d9b0eeca2c22",
        "colab": {
          "base_uri": "https://localhost:8080/",
          "height": 595
        }
      },
      "source": [
        "import datetime\n",
        "print('Iniciando a las: ', datetime.datetime.now())\n",
        "print(\"...\")\n",
        "\n",
        "# Compiling the RNN\n",
        "rnn_model.compile(optimizer = 'adam', loss = 'mean_squared_error')\n",
        "\n",
        "# Entrenamiento de la RNN con nuestro Training set\n",
        "rnn_model.fit(X_train, y_train, epochs = 15, batch_size = 48)\n",
        "\n",
        "print(\"...\")\n",
        "print('Terminando a las: ', datetime.datetime.now())\n"
      ],
      "execution_count": 25,
      "outputs": [
        {
          "output_type": "stream",
          "text": [
            "Iniciando a las:  2019-11-23 20:10:24.524328\n",
            "...\n",
            "Epoch 1/15\n",
            "1689/1689 [==============================] - 30s 18ms/step - loss: 0.0917\n",
            "Epoch 2/15\n",
            "1689/1689 [==============================] - 23s 14ms/step - loss: 0.0162\n",
            "Epoch 3/15\n",
            "1689/1689 [==============================] - 23s 14ms/step - loss: 0.0100\n",
            "Epoch 4/15\n",
            "1689/1689 [==============================] - 23s 14ms/step - loss: 0.0098\n",
            "Epoch 5/15\n",
            "1689/1689 [==============================] - 23s 14ms/step - loss: 0.0089\n",
            "Epoch 6/15\n",
            "1689/1689 [==============================] - 23s 14ms/step - loss: 0.0089\n",
            "Epoch 7/15\n",
            "1689/1689 [==============================] - 23s 14ms/step - loss: 0.0087\n",
            "Epoch 8/15\n",
            "1689/1689 [==============================] - 23s 14ms/step - loss: 0.0082\n",
            "Epoch 9/15\n",
            "1689/1689 [==============================] - 23s 14ms/step - loss: 0.0078\n",
            "Epoch 10/15\n",
            "1689/1689 [==============================] - 23s 14ms/step - loss: 0.0072\n",
            "Epoch 11/15\n",
            "1689/1689 [==============================] - 23s 14ms/step - loss: 0.0067\n",
            "Epoch 12/15\n",
            "1689/1689 [==============================] - 23s 14ms/step - loss: 0.0073\n",
            "Epoch 13/15\n",
            "1689/1689 [==============================] - 23s 14ms/step - loss: 0.0073\n",
            "Epoch 14/15\n",
            "1689/1689 [==============================] - 23s 14ms/step - loss: 0.0065\n",
            "Epoch 15/15\n",
            "1689/1689 [==============================] - 23s 14ms/step - loss: 0.0062\n",
            "...\n",
            "Terminando a las:  2019-11-23 20:16:23.239031\n"
          ],
          "name": "stdout"
        }
      ]
    },
    {
      "cell_type": "markdown",
      "metadata": {
        "id": "FoARNbtdKO9s",
        "colab_type": "text"
      },
      "source": [
        "---\n",
        "\n",
        " ## PARTE III - PREDICCIONES Y VISUALIZACION DE RESULTADOS\n",
        " \n",
        "\n",
        "---\n",
        "\n",
        "\n"
      ]
    },
    {
      "cell_type": "code",
      "metadata": {
        "id": "1h2BPuEkKRZl",
        "colab_type": "code",
        "outputId": "7946c412-dc76-4a22-8665-ae7ff80f1ae5",
        "colab": {
          "base_uri": "https://localhost:8080/",
          "height": 51
        }
      },
      "source": [
        "# Precio de Acción reales (2019)\n",
        "\n",
        "dataset_test = pd.read_csv('TELEFBC1_test.csv')\n",
        "real_stock_price = dataset_test.iloc[:, 1:2].values\n",
        "\n",
        "test_len = len(dataset_test)\n",
        "print(\"Número de elementos de la serie (Test): \", test_len)\n",
        "\n",
        "# Precio de Acción pronosticados (2019)\n",
        "# Concatenar en un solo vector (train + test)\n",
        "dataset_total = pd.concat((dataset_train['Apertura'], dataset_test['Apertura']), axis = 0)\n",
        "\n",
        "# Obteniendo los 60 datos anteriores al primer elemento del Test set\n",
        "inputs = dataset_total[len(dataset_total) - test_len - amplitude:].values\n",
        "\n",
        "# Redimensionando de (x,) --> (x,1)\n",
        "inputs = inputs.reshape(-1,1)\n",
        "\n",
        "# Feature Scaling\n",
        "inputs = sc.transform(inputs)\n",
        "\n",
        "X_test = []\n",
        "\n",
        "for i in range(0, test_len):\n",
        "    X_test.append(inputs[i:i+amplitude, 0])\n",
        "\n",
        "X_test = np.array(X_test)\n",
        "X_test = np.reshape(X_test, (X_test.shape[0], X_test.shape[1], 1))\n",
        "print (\"Dimensión de X_test: \",X_test.shape)\n",
        "\n",
        "predicted_stock_price = rnn_model.predict(X_test)\n",
        "predicted_stock_price = sc.inverse_transform(predicted_stock_price)"
      ],
      "execution_count": 26,
      "outputs": [
        {
          "output_type": "stream",
          "text": [
            "Número de elementos de la serie (Test):  83\n",
            "Dimensión de X_test:  (83, 60, 1)\n"
          ],
          "name": "stdout"
        }
      ]
    },
    {
      "cell_type": "markdown",
      "metadata": {
        "id": "Z0dpXHEpKsIn",
        "colab_type": "text"
      },
      "source": [
        "---\n",
        "\n",
        " #### VISUALIZACION DE RESULTADOS\n",
        " \n",
        "\n",
        "---"
      ]
    },
    {
      "cell_type": "code",
      "metadata": {
        "id": "Yz51K4gNPcTu",
        "colab_type": "code",
        "outputId": "ce034d6c-ab7a-4017-ccd4-564ce72c2d44",
        "colab": {
          "base_uri": "https://localhost:8080/",
          "height": 685
        }
      },
      "source": [
        "# Visualizando resultados\n",
        "plt.figure(figsize=(14,10),dpi=80)\n",
        "plt.plot(real_stock_price, color = 'blue', label = 'LVL Price - (Real)')\n",
        "plt.plot(predicted_stock_price, color = 'red', label = 'LVL Price - (Pronóstico)', dashes=[6, 2])\n",
        "plt.title('Predicción del Precio de la acción de Telefonica')\n",
        "plt.xlabel('Tiempo')\n",
        "plt.ylabel('Telefonica del Peru')\n",
        "plt.legend()\n",
        "plt.show()"
      ],
      "execution_count": 27,
      "outputs": [
        {
          "output_type": "display_data",
          "data": {
            "image/png": "[encoded data removed]",
            "text/plain": [
              "<Figure size 1120x800 with 1 Axes>"
            ]
          },
          "metadata": {
            "tags": []
          }
        }
      ]
    },
    {
      "cell_type": "markdown",
      "metadata": {
        "id": "YrTT1qq6LAbU",
        "colab_type": "text"
      },
      "source": [
        "---\n",
        "\n",
        " #### RMSE\n",
        " \n",
        "\n",
        "---"
      ]
    },
    {
      "cell_type": "code",
      "metadata": {
        "id": "imSzpVGGLG1J",
        "colab_type": "code",
        "outputId": "f587c54f-f7a0-42da-9267-2697aadc6ec3",
        "colab": {
          "base_uri": "https://localhost:8080/",
          "height": 34
        }
      },
      "source": [
        "# RMSE\n",
        "import math\n",
        "from sklearn.metrics import mean_squared_error\n",
        "rmse = math.sqrt(mean_squared_error(real_stock_price, predicted_stock_price))\n",
        "\n",
        "print (\"rmse: \", rmse)"
      ],
      "execution_count": 28,
      "outputs": [
        {
          "output_type": "stream",
          "text": [
            "rmse:  0.1090205590906763\n"
          ],
          "name": "stdout"
        }
      ]
    }
  ]
}